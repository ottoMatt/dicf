{
 "cells": [
  {
   "cell_type": "markdown",
   "metadata": {},
   "source": [
    "#Data Loading"
   ]
  },
  {
   "cell_type": "code",
   "execution_count": 3,
   "metadata": {
    "collapsed": false
   },
   "outputs": [
    {
     "name": "stdout",
     "output_type": "stream",
     "text": [
      "nb de Pb mono ne faisant pas de time out 2717\n",
      "nb de Pb Mono faisant un timeout ou échouant 725\n",
      "nb de Pb Multi total 12144\n",
      "nb de Pb Multi faisant un timeout 7773\n"
     ]
    }
   ],
   "source": [
    "#TODO refactorer pour que chaque segment soit le plus indépendant possible)\n",
    "#I should use the CPU-time to show variations, because all nodes dont have the same processor frequency...\n",
    "#attention a la définition de doublons quand on intégrerea les variantes d'ordre, il faudra redféfinir lidagg d'un pb...\n",
    "#toujours vérifier ce qu'on droppe en affichant exhaustivement les colonnes\n",
    "%matplotlib inline\n",
    "import pandas as pd\n",
    "import numpy as np#do not use inplace = True !! unstable behaviour between slices, views, chains indexing etc...\n",
    "import csv\n",
    "import matplotlib.pylab as plt\n",
    "import os\n",
    "def readAll(path, problemFilename):\n",
    "    '''merge all files whose name contains filename in the dir path'''\n",
    "    frames=[]\n",
    "    for filename in os.listdir(path) :\n",
    "        if not problemFilename in filename:\n",
    "            continue\n",
    "        dftemp = pd.read_csv(path+filename, header=0,sep = ',|;',engine = 'python')  \n",
    "        frames.append(dftemp)\n",
    "    return pd.concat(frames,ignore_index=True)    \n",
    "\n",
    "#path = '/home/magma/BIO_mono_multi_debrief/tempstats/'\n",
    "path = '/home/magma/BIO_mono_multi_debrief/stats/newstats/'\n",
    "\n",
    "generatedProblems = 'generated_MONO_problems.csv'\n",
    "finishingProblems = 'finishing_MONO_problems.csv'\n",
    "failedProblems = 'failed_MONO_problems.csv'\n",
    "multiProblems = 'running_stats_MULTI_problems' \n",
    "  \n",
    "dfGen =readAll(path,generatedProblems)#check nb of problems  : too many\n",
    "dfFin =readAll(path,finishingProblems)       \n",
    "dfFail=readAll(path,failedProblems)  \n",
    "dfMulti=readAll(path, multiProblems) #on n'a pas fait tourner le agent 8 a fond pour tout : \n",
    "#comme aucun ne finissait sous 10mn  \n",
    "\n",
    "print 'nb de Pb mono ne faisant pas de time out',len(dfFin.index)\n",
    "print 'nb de Pb Mono faisant un timeout ou échouant',len(dfFail.index)\n",
    "print 'nb de Pb Multi total', len(dfMulti.index)\n",
    "print 'nb de Pb Multi faisant un timeout', len(dfMulti[dfMulti['timed_out']==1])"
   ]
  },
  {
   "cell_type": "markdown",
   "metadata": {},
   "source": [
    "#Data Munging \n",
    "columns extraction, renaming, dropping incomplete data ..."
   ]
  },
  {
   "cell_type": "code",
   "execution_count": 4,
   "metadata": {
    "collapsed": false
   },
   "outputs": [
    {
     "name": "stdout",
     "output_type": "stream",
     "text": [
      "0  lignes nulles ont été enlevées\n",
      "             var lengthvar\n",
      "0  _max-3_ld1--1         1\n",
      "1  _max-3_ld1--1         1\n",
      "             var propvar\n",
      "0  _max-3_ld1--1       3\n",
      "1  _max-3_ld1--1       3\n",
      "2  _max-3_ld1--1       3\n",
      "3  _max-4_ld1--1       4\n",
      "4  _max-4_ld1--1       4\n",
      "0    max\n",
      "1    max\n",
      "2    max\n",
      "3    max\n",
      "4    max\n",
      "Name: methodvar, dtype: object\n",
      "                                    infile      pbbase\n",
      "0  glucolysis_TPnaiveshortdist_per1_seuil1  glucolysis\n",
      "1  glucolysis_TPnaiveshortdist_per1_seuil1  glucolysis\n",
      "2  glucolysis_TPnaiveshortdist_per1_seuil1  glucolysis\n",
      "3  glucolysis_TPnaiveshortdist_per1_seuil1  glucolysis\n",
      "4  glucolysis_TPnaiveshortdist_per1_seuil1  glucolysis\n",
      "0    0\n",
      "1    0\n",
      "2    0\n",
      "3    0\n",
      "4    0\n",
      "Name: isprepar, dtype: int64\n",
      "12144\n",
      "5599\n",
      "5599\n",
      "0\n",
      "                                    infile  propTP\n",
      "0  glucolysis_TPnaiveshortdist_per1_seuil1     0.3\n",
      "1  glucolysis_TPnaiveshortdist_per1_seuil1     0.3\n",
      "2  glucolysis_TPnaiveshortdist_per1_seuil1     0.3\n",
      "3  glucolysis_TPnaiveshortdist_per1_seuil1     0.3\n",
      "4  glucolysis_TPnaiveshortdist_per1_seuil1     0.3\n",
      "                                    infile  propTP\n",
      "0  glucolysis_TPnaiveshortdist_per1_seuil1       1\n",
      "1  glucolysis_TPnaiveshortdist_per1_seuil1       1\n",
      "2  glucolysis_TPnaiveshortdist_per1_seuil1       1\n",
      "3  glucolysis_TPnaiveshortdist_per1_seuil1       1\n",
      "4  glucolysis_TPnaiveshortdist_per1_seuil1       1\n",
      "0            NaN\n",
      "1    0-1-2-3-4-5\n",
      "2    4-5-0-1-2-3\n",
      "3            NaN\n",
      "Name: tokenorder, dtype: object\n",
      "0     DICF-PB-Star\n",
      "1    DICF-PB-Token\n",
      "2    DICF-PB-Token\n",
      "3    DICF-PB-Async\n",
      "Name: method, dtype: object\n",
      "[0]\n",
      "Index([u'max CPU time by SOLAR', u'or_csq', u'min consequences sent', u'nbAg+',\n",
      "       u'root-extensions', u'or_numagent', u'min CPU time by SOLAR',\n",
      "       u'distrib', u'min total size messages', u'inferences', u'or_method',\n",
      "       u'min extensions', u'max inferences', u'nbConsequencesFound',\n",
      "       u'root-CPU time by SOLAR', u'nb Messages', u'root-total size messages',\n",
      "       u'max total size messages', u'max nb Messages', u'CPU time by SOLAR',\n",
      "       u'max extensions', u'or_dist', u'max clauses sents',\n",
      "       u'consequences sent', u'method', u'root-clauses sents',\n",
      "       u'nbCl_c1_non_subsumed', u'nbCl_c1', u'nbCl_c2', u'nbCl_c2_non_sub',\n",
      "       u'nbTimesCl_subs_min', u'nbTimesCl_subs_non_min',\n",
      "       u'nbCl_c1_subsumed_non_min', u'nbCl_c1_subsumed_min',\n",
      "       u'nbCl_c2_sub_min', u'nbCl_c2_sub_non_min', u'nbCl_c1_tot_present',\n",
      "       u'or_csq_mono', u'min nb Messages', u'root-consequences sent', u'var',\n",
      "       u'root-nb Messages', u'min clauses sents', u'root-inferences',\n",
      "       u'total time', u'infile_path', u'root', u'clauses sents',\n",
      "       u'max consequences sent', u'timed_out', u'min inferences', u'infile',\n",
      "       u'extensions', u'problem', u'total size messages', u'numagent', u'csq',\n",
      "       u'dist', u'csq_mono', u'tokenorder', u'lengthvar', u'propvar',\n",
      "       u'total time mn', u'methodvar', u'pbbase', u'isprepar', u'prepar',\n",
      "       u'propTP'],\n",
      "      dtype='object')\n"
     ]
    }
   ],
   "source": [
    "def splitTokenMeth(df):\n",
    "    df['tokenorder'] = np.nan\n",
    "    df.loc[df['method'].str.contains(\"Token\"),'tokenorder'] = df.loc[df['method'].str.contains(\"Token\"),'method'].replace(to_replace=r'DICF-PB-Token-FixedOrder-', value=r\"\",regex=True)\n",
    "    df.loc[df['method'].str.contains(\"Token\"),'method']= 'DICF-PB-Token'\n",
    "def renameParamsOr(df):\n",
    "    #df.columns = df.columns.str.replace('or_','')\n",
    "    #columnsD = {'or_method' : 'method', 'or_numagent' : 'numagent', 'or_csq' : 'csq','or_dist':'dist'}\n",
    "    #df.rename(columns=columnsD, inplace= True)   \n",
    "    df['method'] = df['or_method']\n",
    "    df['numagent'] = df['or_numagent']\n",
    "    df['csq'] = df['or_csq']\n",
    "    df['dist'] = df['or_dist']\n",
    "    df['csq_mono']=df['or_csq_mono']\n",
    "    \n",
    "def addParameters(dfMulti):\n",
    "    # on ajoute les paramètres de distribution trouvés dans le filename\n",
    "    #ici par exemple\n",
    "    dfMulti['lengthvar'] = dfMulti['var']\n",
    "    dfMulti['lengthvar'].replace(to_replace=r'\\w+(-\\d+)?_ld([\\d-]+)--1', value=r\"\\2\",inplace=True,regex=True) \n",
    "    print dfMulti[['var','lengthvar']].head(2)\n",
    "    dfMulti['lengthvar']=dfMulti['lengthvar'].convert_objects(convert_numeric = True)\n",
    "    \n",
    "    #moyen un peu compliqué mais bon ca marche...\n",
    "    dfMulti['propvar'] = np.nan\n",
    "    #s = dfMulti.loc[~dfMulti['var'].str.contains(\"all\")].loc[:,'propvar']\n",
    "    #s = dfMulti.loc[~dfMulti['var'].str.contains(\"all\")].replace(to_replace=r'\\w+(-(\\d+))?_ld([\\d-]+)--1', value=r\"\\2\",regex=True) \n",
    "    dfMulti.loc[~dfMulti['var'].str.contains(\"all\"),'propvar']=dfMulti.loc[~dfMulti['var'].str.contains(\"all\"),'var'].replace(to_replace=r'\\w+(-(\\d+))?_ld([\\d-]+)--1', value=r\"\\2\",regex=True)\n",
    "    print dfMulti[['var','propvar']].head()\n",
    "    dfMulti['propvar']=dfMulti['propvar'].convert_objects(convert_numeric = True)\n",
    "    \n",
    "    dfMulti['total time mn'] = dfMulti['total time']/60./1000.\n",
    "    #glucolysis\n",
    "    #_TPnaiveshortdist_per10_seuil1\n",
    "    #_kmet6_TPuniformshortdist_per10_seuil1\n",
    "    #glucolysis_naiveEq4_TPuniformshortdist_per1_seuil1\n",
    "    \n",
    "    dfMulti['methodvar'] = dfMulti['var'].replace(to_replace=r\".(...).*\", value=r\"\\1\", regex= True )\n",
    "    print dfMulti['methodvar'].head()\n",
    "    \n",
    "    \n",
    "    #pbBase\n",
    "    dfMulti['pbbase'] = dfMulti['infile'].replace(to_replace = r'_.*',value ='',regex=True)\n",
    "    print dfMulti[['infile', 'pbbase']].head()\n",
    "    \n",
    "    #prepartition\n",
    "    dfMulti['isprepar'] = 0\n",
    "    print dfMulti['isprepar'].head()    \n",
    "    dfMulti.loc[dfMulti['infile'].str.contains(r'_kmet|_naiveEq', regex=True),'isprepar'] = 1\n",
    "    print len(dfMulti)\n",
    "    print dfMulti.loc[dfMulti['isprepar'] == 1,'isprepar'].sum()\n",
    "    print len(dfMulti.loc[dfMulti['isprepar'] == 1].index)\n",
    "    print dfMulti.loc[dfMulti['isprepar'] == 0,'isprepar'].sum()\n",
    "    \n",
    "    #type de prepartition\n",
    "    dfMulti['prepar'] = np.nan\n",
    "    dfMulti.loc[dfMulti['infile'].str.contains(r'_kmet', regex=True),'prepar'] = 'kmet'\n",
    "    dfMulti.loc[dfMulti['infile'].str.contains(r'_naiveEq', regex=True),'prepar'] = 'naiveEq'\n",
    "    \n",
    "    #percentage de distribution\n",
    "    #regex= r\"\\w*_TPuniformshortdist_per(|\\d+)_seuil\\w*|\\w*TPnaiveshortdist_per(|\\d+)_seuil\\w*\"\n",
    "    regexPreD = r\"\\w*_TPuniformshortdist_per(\\d+)_seuil\\w*\"\n",
    "    regexNPreD = r\"\\w*TPnaiveshortdist_per(\\d+)_seuil\\w*\"\n",
    "    dfMulti['propTP']= 0.3#c'est le nb approximé de Top clause de glucolysis (il y en a  un)\n",
    "    print dfMulti[['infile', 'propTP']].head(5)\n",
    "    #dfMulti.loc[dfMulti['infile'].str.contains('TPuniformshortdist'),'propTP'].replace(to_replace = regexPreD ,value =r\"\\1\",inplace=True,regex=True)\n",
    "    #dfMulti.loc[dfMulti['propTP'].str.contains('TPnaiveshortdist'),'propTP'].replace(to_replace = regexNPreD ,value =r\"\\1\",inplace=True,regex=True)\n",
    "    \n",
    "    dfMulti.loc[dfMulti['infile'].str.contains('TPuniformshortdist'),'propTP']=dfMulti.loc[dfMulti['infile'].str.contains('TPuniformshortdist'),'infile'].replace(to_replace = regexPreD ,value =r\"\\1\",regex=True)\n",
    "    dfMulti.loc[dfMulti['infile'].str.contains('TPnaiveshortdist'),'propTP']=dfMulti.loc[dfMulti['infile'].str.contains('TPnaiveshortdist'),'infile'].replace(to_replace = regexNPreD ,value =r\"\\1\",regex=True)\n",
    "    dfMulti['propTP'] = dfMulti['propTP'].convert_objects(convert_numeric = True)\n",
    "    #unmatched group error\n",
    "    #dfMulti.loc[:,'propTP']=dfMulti['propTP'].replace(to_replace = regex ,value =r\"\\1\\2\",regex=True)\n",
    "    print dfMulti[['infile', 'propTP']].head(5)\n",
    "    \n",
    "def drop_values (valuesToDrop, df):\n",
    "    '''\n",
    "    if contains (not strict equality here...)\n",
    "    '''\n",
    "    new_df = df\n",
    "    for columnName in list(df.columns.values) :\n",
    "        for v in valuesToDrop :\n",
    "            if v in columnName :    \n",
    "                print 'dropping :',columnName,'::',v \n",
    "                df.drop([columnName],axis = 1, inplace=True)\n",
    "                break\n",
    "#methode alternative    \n",
    "def replace_meth(x):\n",
    "    method=x['method']\n",
    "    if 'DICF-PB-Async' in method or 'DICF-PB-Star' in method :\n",
    "        return method\n",
    "    elif 'Token' in method :\n",
    "        return 'DICF-PB-Token'\n",
    "    else :\n",
    "        return method    \n",
    "def splitParams(df):\n",
    "    #create new filed and assign previous agg value and then apply replacw fun on it\n",
    "    df['method']=df.apply(replace_meth, axis=1)\n",
    "\n",
    "#RAJOUTER LES PARAMETRES = A ÉTÉ DISTRIBUÉ ETC... EN SPLITANT LE FILENAME, METTRE DES \n",
    "#ici on enlève le slignes qui ont au moins une valeur nan, ICI IL N, Y EN A PAS \n",
    "\n",
    "\n",
    "#MONO\n",
    "dfFin['total time mn'] = dfFin['total time']/60./1000.\n",
    "\n",
    "#MULTI\n",
    "nbRows = len(dfMulti.index)\n",
    "nbCol = len(dfMulti.columns)\n",
    "res = dfMulti.dropna(how='any')\n",
    "print (nbRows - len(dfMulti.index)), ' lignes nulles ont été enlevées'\n",
    "\n",
    "renameParamsOr(dfMulti)\n",
    "splitTokenMeth(dfMulti)\n",
    "addParameters(dfMulti)\n",
    "print dfMulti['tokenorder'].head(4)\n",
    "print dfMulti['method'].head(4)\n",
    "print np.unique(dfMulti['root'].values)\n",
    "valuesToDrop = ['max', 'sent','root', 'CPU','Cl']#, 'csq']\n",
    "#drop_values (valuesToDrop, dfMulti)\n",
    "\n",
    "#splitParams(dfMulti)\n",
    "print dfMulti.columns\n",
    "\n"
   ]
  },
  {
   "cell_type": "markdown",
   "metadata": {},
   "source": [
    "#Visualize duplicates\n",
    "& drop"
   ]
  },
  {
   "cell_type": "code",
   "execution_count": 6,
   "metadata": {
    "collapsed": false
   },
   "outputs": [
    {
     "name": "stdout",
     "output_type": "stream",
     "text": [
      "il y a  0  doublons enlevés\n",
      "ex de doublon :                                                 infile         method  \\\n",
      "10491  glucolysis_kmet6_TPuniformshortdist_per1_seuil1  DICF-PB-Async   \n",
      "\n",
      "               var    dist  numagent  \n",
      "10491  _all_ld4--1  _kmet6         6  \n",
      "Int64Index([ 9970, 21341, 19522,  9749,  9737,  9963, 21573, 21577, 19521,\n",
      "            19529, \n",
      "            ...\n",
      "            21348,  7924,  7700,  9742, 11838, 21576, 21343, 19516,  9740,\n",
      "            19291],\n",
      "           dtype='int64', length=144)\n",
      "anomalies en mn au dessus de  0.5 :  []\n"
     ]
    },
    {
     "data": {
      "image/png": "[encoded data removed]",
      "text/plain": [
       "<matplotlib.figure.Figure at 0x7f0164a72510>"
      ]
     },
     "metadata": {},
     "output_type": "display_data"
    }
   ],
   "source": [
    "import math\n",
    "def gettimes(df,doublons,i):\n",
    "    df_clear = df[['infile', 'method', 'var', 'csq', 'dist', 'numagent','total time']]\n",
    "    d1 = doublons[['infile', 'method', 'var', 'csq', 'dist', 'numagent']].loc[i]\n",
    "  \n",
    "    df_doublons= df_clear[d1 == df_clear ]\n",
    "    df_doublons['total time'] = df_clear['total time']\n",
    "    df_end = df_doublons.dropna(thresh=7) \n",
    "    if len(df_end.index)>1 :\n",
    "        #print df_end[['infile', 'method', 'var', 'csq', 'dist', 'numagent','total time']].iloc[:2]\n",
    "        return df_end['total time'].iloc[0],df_end['total time'].iloc[1]\n",
    "    else:\n",
    "        return 0,0\n",
    "\n",
    "def show_duplicates(df, idset):\n",
    "    '''\n",
    "    subset are the colums identifying a problem, (all but measures)\n",
    "    \n",
    "    see if indexing plays a part in it...\n",
    "    '''\n",
    "    \n",
    "    nbOr= len(df.index)\n",
    "    df_deduplicated = df.drop_duplicates(subset = idset ,take_last = True)\n",
    "    nbDest= len(df_deduplicated.index)\n",
    "    print 'il y a ', nbOr - nbDest, ' doublons enlevés'\n",
    "    \n",
    "    df_cat = pd.concat([df, df_deduplicated])\n",
    "    df_cat = df_cat.reset_index(drop=True)\n",
    "    \n",
    "    df_gpby = df_cat.groupby(list(df_cat.columns))\n",
    "    df_gpby.groups.values()\n",
    "    \n",
    "    #on prend les index des problèmes qui ne sont pas en double : qui ont été droppés\n",
    "    idx = [x[0] for x in df_gpby.groups.values() if len(x) == 1]\n",
    "    doublons = df_cat.reindex(idx)\n",
    "    \n",
    "    #test pour récupérer le premier doublon de la liste\n",
    "    df_clear = df[['infile', 'method', 'var', 'csq', 'dist', 'numagent','total time']]\n",
    "    d1 = doublons[['infile', 'method', 'var', 'csq', 'dist', 'numagent']].iloc[0]\n",
    "  \n",
    "    df_doublons= df_clear[d1 == df_clear ]\n",
    "    df_doublons['total time'] = df_clear['total time']\n",
    "    df_end = df_doublons.dropna(thresh=7) \n",
    "    print 'ex de doublon :',df_end[['infile', 'method', 'var', 'dist', 'numagent']]\n",
    "    \n",
    "    #on récupère le temps d'exéc des doublons pour les comparer\n",
    "    size = len(doublons.index)\n",
    "    print doublons.index\n",
    "    \n",
    "    values = [gettimes(df,doublons,i) for i in doublons.index]\n",
    "    y1 = [(v[0] - v[1])/60./1000. for v in values]\n",
    "    \n",
    "    thresh = 0.5\n",
    "    anomalies =[(ind,v) for ind,v in enumerate(y1) if math.fabs(v) > thresh]\n",
    "    xAnomalies = [ind for ind, v in anomalies]\n",
    "    print 'anomalies en mn au dessus de ',thresh,': ',anomalies \n",
    "    plt.plot(y1)    \n",
    "    plt.title('difference de temps en min entre 2 doublons')\n",
    "    plt.ylabel('temps mn')\n",
    "    plt.show()\n",
    "idset = ['infile', 'method', 'var', 'csq', 'dist', 'numagent','problem']\n",
    "show_duplicates(dfMulti,idset)\n",
    "dfMulti = dfMulti.drop_duplicates(subset = idset ,take_last = True)"
   ]
  },
  {
   "cell_type": "markdown",
   "metadata": {},
   "source": [
    "on voit que c'est négligeable, bien que les données soient très limoitées (400 doublons seulement) on peut être rassuré sur les conditions d'expériences qui sont à peu près les mêmes (pour que ce soit strict il faudrait faire les exériences sur toujours les mêmes machines)"
   ]
  },
  {
   "cell_type": "markdown",
   "metadata": {},
   "source": [
    "#Export Data As Now\n",
    "here we export the whole data for analysis in another framework\n"
   ]
  },
  {
   "cell_type": "code",
   "execution_count": 5,
   "metadata": {
    "collapsed": false
   },
   "outputs": [],
   "source": [
    "dfMulti.to_csv('MERGED_'+multiProblems+'.csv', index = False)\n",
    "dfFin.to_csv('MERGED_'+finishingProblems+'.csv',index = False)"
   ]
  },
  {
   "cell_type": "markdown",
   "metadata": {},
   "source": [
    "#Basic Stats"
   ]
  },
  {
   "cell_type": "code",
   "execution_count": 4,
   "metadata": {
    "collapsed": false
   },
   "outputs": [
    {
     "name": "stdout",
     "output_type": "stream",
     "text": [
      "       timeout     numagent  max CPU time by SOLAR  min consequences sent  \\\n",
      "count     2717  2374.000000            2717.000000                   2717   \n",
      "mean   2000000     4.906487           39262.775488                      0   \n",
      "std          0     2.195774           76295.847216                      0   \n",
      "min    2000000     2.000000            1764.000000                      0   \n",
      "25%    2000000     2.000000            6021.000000                      0   \n",
      "50%    2000000     4.000000           11259.000000                      0   \n",
      "75%    2000000     6.000000           34662.000000                      0   \n",
      "max    2000000     8.000000          833951.000000                      0   \n",
      "\n",
      "       nbAg+  root-extensions  min CPU time by SOLAR  min total size messages  \\\n",
      "count   2717     2.717000e+03            2717.000000                     2717   \n",
      "mean       1     1.187889e+07           39262.775488                        0   \n",
      "std        0     1.887542e+07           76295.847216                        0   \n",
      "min        1     3.654990e+05            1764.000000                        0   \n",
      "25%        1     1.691689e+06            6021.000000                        0   \n",
      "50%        1     4.755684e+06           11259.000000                        0   \n",
      "75%        1     1.407534e+07           34662.000000                        0   \n",
      "max        1     1.825511e+08          833951.000000                        0   \n",
      "\n",
      "         inferences  min extensions      ...        min clauses sents  \\\n",
      "count  2.717000e+03    2.717000e+03      ...                     2717   \n",
      "mean   2.992231e+07    1.187889e+07      ...                        0   \n",
      "std    4.787287e+07    1.887542e+07      ...                        0   \n",
      "min    8.864950e+05    3.654990e+05      ...                        0   \n",
      "25%    4.250828e+06    1.691689e+06      ...                        0   \n",
      "50%    1.311143e+07    4.755684e+06      ...                        0   \n",
      "75%    3.518540e+07    1.407534e+07      ...                        0   \n",
      "max    4.612787e+08    1.825511e+08      ...                        0   \n",
      "\n",
      "       root-inferences      total time  root  clauses sents  \\\n",
      "count     2.717000e+03     2717.000000  2717           2717   \n",
      "mean      2.992231e+07   309278.735002     0              0   \n",
      "std       4.787287e+07   495655.922116     0              0   \n",
      "min       8.864950e+05     3247.000000     0              0   \n",
      "25%       4.250828e+06    74475.000000     0              0   \n",
      "50%       1.311143e+07   120995.000000     0              0   \n",
      "75%       3.518540e+07   324317.000000     0              0   \n",
      "max       4.612787e+08  4957833.000000     0              0   \n",
      "\n",
      "       max consequences sent  min inferences    extensions  \\\n",
      "count                   2717    2.717000e+03  2.717000e+03   \n",
      "mean                       0    2.992231e+07  1.187889e+07   \n",
      "std                        0    4.787287e+07  1.887542e+07   \n",
      "min                        0    8.864950e+05  3.654990e+05   \n",
      "25%                        0    4.250828e+06  1.691689e+06   \n",
      "50%                        0    1.311143e+07  4.755684e+06   \n",
      "75%                        0    3.518540e+07  1.407534e+07   \n",
      "max                        0    4.612787e+08  1.825511e+08   \n",
      "\n",
      "       total size messages  total time mn  \n",
      "count                 2717    2717.000000  \n",
      "mean                     0       5.154646  \n",
      "std                      0       8.260932  \n",
      "min                      0       0.054117  \n",
      "25%                      0       1.241250  \n",
      "50%                      0       2.016583  \n",
      "75%                      0       5.405283  \n",
      "max                      0      82.630550  \n",
      "\n",
      "[8 rows x 35 columns]\n",
      "number of rows 2717\n",
      "number of column 45\n",
      "['infile_path' 'infile' 'outfile' 'method' 'timeout' 'var' 'csq' 'dist'\n",
      " 'numagent' 'max CPU time by SOLAR' 'min consequences sent' 'nbAg+'\n",
      " 'root-extensions' 'min CPU time by SOLAR' 'distrib'\n",
      " 'min total size messages' 'inferences' 'min extensions' 'max inferences'\n",
      " 'nbConsequencesFound' 'root-CPU time by SOLAR' 'nb Messages'\n",
      " 'root-total size messages' 'max total size messages' 'max nb Messages'\n",
      " 'CPU time by SOLAR' 'max extensions' 'max clauses sents'\n",
      " 'consequences sent' 'method.1' 'root-clauses sents' 'min nb Messages'\n",
      " 'root-consequences sent' 'root-nb Messages' 'min clauses sents'\n",
      " 'root-inferences' 'total time' 'root' 'clauses sents'\n",
      " 'max consequences sent' 'min inferences' 'extensions' 'problem'\n",
      " 'total size messages' 'total time mn']\n",
      "       max CPU time by SOLAR  min consequences sent         nbAg+  \\\n",
      "count           11603.000000                  11603  11603.000000   \n",
      "mean            63560.292166                      0      5.043006   \n",
      "std            123902.801016                      0      2.044277   \n",
      "min                62.000000                      0      2.000000   \n",
      "25%               562.000000                      0      4.000000   \n",
      "50%              3795.000000                      0      6.000000   \n",
      "75%             68703.500000                      0      6.000000   \n",
      "max            594401.000000                      0      8.000000   \n",
      "\n",
      "       root-extensions   or_numagent  min CPU time by SOLAR  \\\n",
      "count     1.160300e+04  11603.000000           11603.000000   \n",
      "mean      7.140563e+06      5.043523             137.993709   \n",
      "std       2.494723e+07      2.043928            4146.996937   \n",
      "min       0.000000e+00      2.000000               0.000000   \n",
      "25%       1.090000e+02      4.000000              22.500000   \n",
      "50%       3.286000e+03      6.000000              39.000000   \n",
      "75%       1.129718e+06      6.000000              75.000000   \n",
      "max       2.474408e+08      8.000000          247568.000000   \n",
      "\n",
      "       min total size messages    inferences   min extensions  max inferences  \\\n",
      "count             11603.000000  1.160300e+04     11603.000000    1.160300e+04   \n",
      "mean                 10.758855  8.731114e+07     22629.793157    6.973708e+07   \n",
      "std                  10.670591  1.747080e+08   1140986.176099    1.357280e+08   \n",
      "min                   0.000000  1.652000e+03         0.000000    1.207000e+03   \n",
      "25%                   4.000000  3.963200e+04        21.000000    2.739900e+04   \n",
      "50%                   8.000000  3.827802e+06        48.000000    3.476054e+06   \n",
      "75%                  13.000000  8.995627e+07       178.000000    7.513428e+07   \n",
      "max                  86.000000  1.409346e+09  61415385.000000    7.975363e+08   \n",
      "\n",
      "           ...          timed_out  min inferences    extensions  \\\n",
      "count      ...       11603.000000    1.160300e+04  1.160300e+04   \n",
      "mean       ...           0.660088    1.104064e+05  2.563899e+07   \n",
      "std        ...           0.473699    5.705369e+06  5.109585e+07   \n",
      "min        ...           0.000000    0.000000e+00  5.430000e+02   \n",
      "25%        ...           0.000000    5.800000e+01  1.336100e+04   \n",
      "50%        ...           1.000000    1.180000e+02  1.299802e+06   \n",
      "75%        ...           1.000000    4.920000e+02  2.667617e+07   \n",
      "max        ...           1.000000    3.072633e+08  4.101333e+08   \n",
      "\n",
      "       total size messages      numagent     lengthvar       propvar  \\\n",
      "count         11603.000000  11603.000000  11603.000000  11531.000000   \n",
      "mean            208.745066      5.043523      2.353960      4.501865   \n",
      "std             188.784432      2.043928      1.970767      3.914422   \n",
      "min               4.000000      2.000000     -1.000000      1.000000   \n",
      "25%              73.000000      4.000000      1.000000      2.000000   \n",
      "50%             160.000000      6.000000      3.000000      3.000000   \n",
      "75%             295.000000      6.000000      4.000000      5.000000   \n",
      "max            1766.000000      8.000000      5.000000     15.000000   \n",
      "\n",
      "       total time mn      isprepar        propTP  \n",
      "count   11603.000000  11603.000000  11603.000000  \n",
      "mean        6.842504      0.465828      4.079186  \n",
      "std         4.486401      0.498852      3.638712  \n",
      "min         0.018317      0.000000      0.300000  \n",
      "25%         0.613317      0.000000      1.000000  \n",
      "50%        10.009000      0.000000      2.000000  \n",
      "75%        10.011733      1.000000      5.000000  \n",
      "max        10.042833      1.000000     10.000000  \n",
      "\n",
      "[8 rows x 51 columns]\n",
      "number of rows 11603\n",
      "number of column 68\n",
      "['max CPU time by SOLAR' 'or_csq' 'min consequences sent' 'nbAg+'\n",
      " 'root-extensions' 'or_numagent' 'min CPU time by SOLAR' 'distrib'\n",
      " 'min total size messages' 'inferences' 'or_method' 'min extensions'\n",
      " 'max inferences' 'nbConsequencesFound' 'root-CPU time by SOLAR'\n",
      " 'nb Messages' 'root-total size messages' 'max total size messages'\n",
      " 'max nb Messages' 'CPU time by SOLAR' 'max extensions' 'or_dist'\n",
      " 'max clauses sents' 'consequences sent' 'method' 'root-clauses sents'\n",
      " 'nbCl_c1_non_subsumed' 'nbCl_c1' 'nbCl_c2' 'nbCl_c2_non_sub'\n",
      " 'nbTimesCl_subs_min' 'nbTimesCl_subs_non_min' 'nbCl_c1_subsumed_non_min'\n",
      " 'nbCl_c1_subsumed_min' 'nbCl_c2_sub_min' 'nbCl_c2_sub_non_min'\n",
      " 'nbCl_c1_tot_present' 'or_csq_mono' 'min nb Messages'\n",
      " 'root-consequences sent' 'var' 'root-nb Messages' 'min clauses sents'\n",
      " 'root-inferences' 'total time' 'infile_path' 'root' 'clauses sents'\n",
      " 'max consequences sent' 'timed_out' 'min inferences' 'infile' 'extensions'\n",
      " 'problem' 'total size messages' 'numagent' 'csq' 'dist' 'csq_mono'\n",
      " 'tokenorder' 'lengthvar' 'propvar' 'total time mn' 'methodvar' 'pbbase'\n",
      " 'isprepar' 'prepar' 'propTP']\n"
     ]
    }
   ],
   "source": [
    "def printInfoOnDf(df):\n",
    "    print df.describe()\n",
    "    print 'number of rows',len(df.index)\n",
    "    print 'number of column',len(df.columns.values)\n",
    "    print df.columns.values\n",
    "printInfoOnDf(dfFin)\n",
    "printInfoOnDf(dfMulti)\n"
   ]
  },
  {
   "cell_type": "markdown",
   "metadata": {},
   "source": [
    "#Filter problems\n",
    "here we want the Multi problems corresponding to the mono problems which finish under a certain timelimit\n",
    "(since the timeout is not the same in both cases...)"
   ]
  },
  {
   "cell_type": "code",
   "execution_count": 7,
   "metadata": {
    "collapsed": false
   },
   "outputs": [
    {
     "name": "stdout",
     "output_type": "stream",
     "text": [
      "11603\n",
      "9074\n",
      "2529\n",
      "nb de Pb Mono Originaux 2717\n",
      "nb de Pb Multi Originaux 11603\n",
      "nb de Pb mono Originaux < time limit =  600000  :  2279\n",
      "prop gardée 0.838792786161\n",
      "nb de Pb multi Originaux < time limit =  600000  :  9074\n",
      "prop gardée 0.782039127812\n"
     ]
    }
   ],
   "source": [
    "def getProblemsUnderTime(df, time):\n",
    "    '''\n",
    "    get problems having finished under xxxxxx ms\n",
    "    '''\n",
    "    return df[df['total time'] < time]\n",
    "def aggregate(df):\n",
    "    '''on aggrege une sorte d id du probleme parce que sinon ca devient trop verbose et pandas deconne...'''\n",
    "    df['indagg'] = df['infile_path']+ df['infile'] + df['var'] # +df['dist']\n",
    "    \n",
    "def filterPb(dfOrig, df,timelimit) :\n",
    "    '''\n",
    "    we wish to keep only the multi problems whos corresponding mono problem finishes below 10 minutes\n",
    "    '''\n",
    "    nbPbO=len(dfOrig.index)\n",
    "    nbPbD =len(df.index)\n",
    "    \n",
    "    aggregate(df)#agg est une sorte d'id de problem\n",
    "    aggregate(dfOrig)\n",
    "    dfOrig = dfOrig[dfOrig['total time'] < timelimit]\n",
    "    #print df['method'].str.contains(\"Token\")\n",
    "    df['underT'] = 0\n",
    "    df.loc[df['indagg'].isin(dfOrig['indagg']), 'underT'] = 1\n",
    "  \n",
    "    res = df.loc[df['underT']==1]\n",
    "    \n",
    "    \n",
    "    print len(df.index)\n",
    "    print len(df[df['underT']==1])\n",
    "    print len(df[df['underT']==0])\n",
    "     \n",
    "    print 'nb de Pb Mono Originaux',nbPbO\n",
    "    print 'nb de Pb Multi Originaux',len(df.index)\n",
    "    print 'nb de Pb mono Originaux < time limit = ',timelimit,' : ',len(dfOrig.index)\n",
    "    print 'prop gardée',len(dfOrig.index) / float(nbPbO)    \n",
    "    print 'nb de Pb multi Originaux < time limit = ',timelimit,' : ',len(res.index)\n",
    "    print 'prop gardée',len(res.index) / float(nbPbD)\n",
    "\n",
    "    return res\n",
    "dfMulti_filt = filterPb(dfFin, dfMulti,600000)"
   ]
  },
  {
   "cell_type": "markdown",
   "metadata": {},
   "source": [
    "#Temps d'exécution\n",
    "pour mono le timeout par défaut est 2000000 ms soit 33.3 mn\n",
    "###Mono/Multi"
   ]
  },
  {
   "cell_type": "code",
   "execution_count": 6,
   "metadata": {
    "collapsed": false,
    "scrolled": true
   },
   "outputs": [
    {
     "data": {
      "image/png": "[encoded data removed]",
      "text/plain": [
       "<matplotlib.figure.Figure at 0x7ff7ad77f2d0>"
      ]
     },
     "metadata": {},
     "output_type": "display_data"
    },
    {
     "name": "stdout",
     "output_type": "stream",
     "text": [
      "Il y a  20 problèmes qui dépassent la limite de  2000000 ms\n"
     ]
    },
    {
     "data": {
      "image/png": "[encoded data removed]",
      "text/plain": [
       "<matplotlib.figure.Figure at 0x7ff7aca6fdd0>"
      ]
     },
     "metadata": {},
     "output_type": "display_data"
    },
    {
     "name": "stdout",
     "output_type": "stream",
     "text": [
      "Il y a  0 problèmes qui dépassent la limite de  605000 ms\n"
     ]
    },
    {
     "data": {
      "image/png": "[encoded data removed]",
      "text/plain": [
       "<matplotlib.figure.Figure at 0x7ff7ac9fe110>"
      ]
     },
     "metadata": {},
     "output_type": "display_data"
    },
    {
     "name": "stdout",
     "output_type": "stream",
     "text": [
      "Il y a  0 problèmes qui dépassent la limite de  605000 ms\n"
     ]
    }
   ],
   "source": [
    "def makeHistoTotalTime(df, limite, bins=30, title=''):\n",
    "    df = df['total time']\n",
    "    s= pd.Series(df, name ='total time')\n",
    "    tooL = [el for el in s if el > limite]\n",
    "    a = pd.np.array(s)\n",
    "    a = a/1000./60.   #convert into minutes\n",
    "    \n",
    "    hist, bins = np.histogram(a, bins=bins)\n",
    "    width = 0.7 * (bins[1] - bins[0])\n",
    "    center = (bins[:-1] + bins[1:]) / 2\n",
    "    plt.bar(center, hist, align='center', width=width,color = 'r')\n",
    "    plt.title(title)\n",
    "    plt.show()\n",
    "    print 'Il y a ', len(tooL), 'problèmes qui dépassent la limite de ',limite,'ms'\n",
    "    \n",
    "makeHistoTotalTime(dfFin,2000000,bins = 100, title='mono sans time out')\n",
    "makeHistoTotalTime(dfMulti,605000,bins = 10,title='multi')\n",
    "makeHistoTotalTime(dfMulti_filt,605000,bins = 10,title='multi filtres a partir de mono filtres')"
   ]
  },
  {
   "cell_type": "markdown",
   "metadata": {},
   "source": [
    "on observe que le time out du mono agent n'est pas respecté, même s'il la très grande majorité des problèmes est en desssous de la valeur de 30 minutes, alors que le multi montre bien un seuil correspondant au timeout normal."
   ]
  },
  {
   "cell_type": "markdown",
   "metadata": {},
   "source": [
    "###By Agent & comparison when filtered"
   ]
  },
  {
   "cell_type": "code",
   "execution_count": 8,
   "metadata": {
    "collapsed": false
   },
   "outputs": [
    {
     "data": {
      "image/png": "[encoded data removed]",
      "text/plain": [
       "<matplotlib.figure.Figure at 0x7f0164c72150>"
      ]
     },
     "metadata": {},
     "output_type": "display_data"
    },
    {
     "data": {
      "image/png": "[encoded data removed]",
      "text/plain": [
       "<matplotlib.figure.Figure at 0x7f0164a16590>"
      ]
     },
     "metadata": {},
     "output_type": "display_data"
    },
    {
     "data": {
      "image/png": "[encoded data removed]",
      "text/plain": [
       "<matplotlib.figure.Figure at 0x7f0164997c90>"
      ]
     },
     "metadata": {},
     "output_type": "display_data"
    },
    {
     "data": {
      "image/png": "[encoded data removed]",
      "text/plain": [
       "<matplotlib.figure.Figure at 0x7f01645a6850>"
      ]
     },
     "metadata": {},
     "output_type": "display_data"
    }
   ],
   "source": [
    "def plotDistAgents(dfMulti,bins = 10, lAgents = [2,4,6,8]):\n",
    "\n",
    "    pbXAg = [dfMulti[dfMulti['numagent'] == i] for i in lAgents]#range(2,9,2)]\n",
    "    timeXAg = [xAg['total time'] for xAg in pbXAg]\n",
    "    timeSeriesXAg = [pd.np.array(pd.Series(df, name = 'total time')) for df in timeXAg]\n",
    "    timeSeriesXAg = [ts/1000./60.for ts in timeSeriesXAg ]\n",
    "\n",
    "    histbinsXAg = [np.histogram(a, bins = bins) for a in timeSeriesXAg]\n",
    "    widthXAg = [ 0.7 * (bins[1] - bins[0]) for hist,bins in histbinsXAg]\n",
    "    centerXAg = [(bins[:-1] + bins[1:]) / 2 for hist,bins in histbinsXAg]\n",
    "    colorXag = ['r','b','y','g']\n",
    "    pXAg=[]\n",
    "    for i in range (len(pbXAg)):\n",
    "        hist, bins = histbinsXAg[i]\n",
    "        pXAg.append(plt.bar(centerXAg[i], hist,   width= widthXAg[i], color=colorXag[i]))\n",
    "\n",
    "    plt.ylabel('nbPbs')\n",
    "    plt.title(u'Distribution des temps d exécution des pb avec timout a 10')\n",
    "\n",
    "    legends = [\"\".join([str(i),'ag'])for i in lAgents]\n",
    "    pXAg = [p[0] for p in pXAg]\n",
    "    plt.legend( pXAg, legends ,loc=7)\n",
    "    plt.show()\n",
    "    \n",
    "def plotTwoDistAgents(dfMulti,dfMulti_filt,bins = 10, lAgents = [2,4,6,8]):\n",
    "    pbXAg = [dfMulti[dfMulti['numagent'] == i] for i in lAgents]#range(2,9,2)]\n",
    "    timeXAg = [xAg['total time'] for xAg in pbXAg]\n",
    "    timeSeriesXAg = [pd.np.array(pd.Series(df, name = 'total time')) for df in timeXAg]\n",
    "    timeSeriesXAg = [ts/1000./60.for ts in timeSeriesXAg ]\n",
    "\n",
    "    histbinsXAg = [np.histogram(a, bins = bins) for a in timeSeriesXAg]\n",
    "    widthXAg = [ 0.7 * (bins[1] - bins[0]) for hist,bins in histbinsXAg]\n",
    "    centerXAg = [(bins[:-1] + bins[1:]) / 2 for hist,bins in histbinsXAg]\n",
    "    colorXag = ['r','b','y','g']\n",
    "    pXAg=[]\n",
    "    for i in range (len(pbXAg)):\n",
    "        hist, bins = histbinsXAg[i]\n",
    "        pXAg.append(plt.bar(centerXAg[i], hist,   width= widthXAg[i]/3, color=colorXag[i], align = 'center'))\n",
    "\n",
    "    \n",
    "    legends = [\"\".join([str(i),'ag'])for i in lAgents]\n",
    "    pXAgAx = [p[0] for p in pXAg]\n",
    "    plt.legend( pXAgAx, legends ,loc=7)\n",
    "    \n",
    "    dfMulti = dfMulti_filt\n",
    "    pbXAg = [dfMulti[dfMulti['numagent'] == i] for i in lAgents]#range(2,9,2)]\n",
    "    timeXAg = [xAg['total time'] for xAg in pbXAg]\n",
    "    timeSeriesXAg = [pd.np.array(pd.Series(df, name = 'total time')) for df in timeXAg]\n",
    "    timeSeriesXAg = [ts/1000./60.for ts in timeSeriesXAg ]\n",
    "\n",
    "    histbinsXAg = [np.histogram(a, bins = bins) for a in timeSeriesXAg]\n",
    "    widthXAg = [ 0.7 * (bins[1] - bins[0]) for hist,bins in histbinsXAg]\n",
    "    centerXAg = [(bins[:-1] + bins[1:]) / 2 for hist,bins in histbinsXAg]\n",
    "    colorXag = ['b','r','g','y']\n",
    "    #pXAg=[]\n",
    "    for i in range (len(pbXAg)):\n",
    "        hist, bins = histbinsXAg[i]\n",
    "        pXAg.append(plt.bar(centerXAg[i], hist, width= widthXAg[i]/2, color=colorXag[i], align = 'edge'))\n",
    "\n",
    "    plt.ylabel('nbPbs')\n",
    "    plt.title(u'Distribution des temps d exécution des pb avec timout a 10')\n",
    "\n",
    "    legends = legends + [\"\".join([str(i),'ag filtered'])for i in lAgents]\n",
    "    pXAg = [p[0] for p in pXAg]\n",
    "    plt.legend( pXAg, legends ,loc=7)\n",
    "\n",
    "    plt.show()\n",
    "plotTwoDistAgents(dfMulti,dfMulti_filt,bins=10, lAgents = [2])\n",
    "plotTwoDistAgents(dfMulti,dfMulti_filt,bins=10, lAgents = [4])\n",
    "plotTwoDistAgents(dfMulti,dfMulti_filt,bins=10, lAgents = [6])\n",
    "plotTwoDistAgents(dfMulti,dfMulti_filt,bins=10, lAgents = [8])\n",
    "\n",
    "                \n"
   ]
  },
  {
   "cell_type": "markdown",
   "metadata": {},
   "source": [
    "on voit que le filtre permet d'éliminer en grande majorité de pb multi qui auraient timeout.\n",
    "Donc qu'un problème complexe mono équivaut à un problème complexe multi"
   ]
  },
  {
   "cell_type": "markdown",
   "metadata": {},
   "source": [
    "#Time out & nb Messages"
   ]
  },
  {
   "cell_type": "markdown",
   "metadata": {},
   "source": [
    "###By method, number of agents, methodvar, prépartionnement"
   ]
  },
  {
   "cell_type": "code",
   "execution_count": 9,
   "metadata": {
    "collapsed": false,
    "scrolled": true
   },
   "outputs": [
    {
     "name": "stderr",
     "output_type": "stream",
     "text": [
      "/home/magma/anaconda/lib/python2.7/site-packages/matplotlib/figure.py:387: UserWarning: matplotlib is currently using a non-GUI backend, so cannot show the figure\n",
      "  \"matplotlib is currently using a non-GUI backend, \"\n"
     ]
    },
    {
     "data": {
      "image/png": "[encoded data removed]",
      "text/plain": [
       "<matplotlib.figure.Figure at 0x7f0164a90850>"
      ]
     },
     "metadata": {},
     "output_type": "display_data"
    },
    {
     "data": {
      "image/png": "[encoded data removed]",
      "text/plain": [
       "<matplotlib.figure.Figure at 0x7f0164bc9dd0>"
      ]
     },
     "metadata": {},
     "output_type": "display_data"
    }
   ],
   "source": [
    "def proportionTimeOut(df,discreteVar):\n",
    "    by_var = df.groupby([discreteVar,'timed_out']) #groups the data act on groups\n",
    "       #seperately\n",
    "    table = by_var.size() #gets group size counts, hashed by the two variables\n",
    "    table = table.unstack() #splits the data into 2 columns, 0, 1, each indexed by the\n",
    "    #other variable\n",
    "    normedtable = table.div(table.sum(1), axis=0) #divides the counts by the totals\n",
    "    return normedtable\n",
    "def computeProp(df, discreteVarList=None):\n",
    "    lenD = len(discreteVarList)\n",
    "    fig1, axes1 = plt.subplots(lenD,1) \n",
    "    for i in range(lenD):\n",
    "        var = discreteVarList[i]\n",
    "        table = proportionTimeOut(df,var)\n",
    "        table.plot(kind='barh', stacked=True, ax=axes1[i])\n",
    "    fig1.show()\n",
    "    \n",
    "computeProp(dfMulti, discreteVarList = ['numagent','method'])\n",
    "computeProp(dfMulti, discreteVarList = ['methodvar','isprepar', 'prepar'])\n"
   ]
  },
  {
   "cell_type": "markdown",
   "metadata": {},
   "source": [
    "le isprepartitionné a l'air intéressant mais pour que l'analyse ait un sens, il faudrait ne les comparer qu'aux mêmes problèmes mais sans prépartionnement.\n",
    "En tous cas il semble que le prépartitionnement kmetis ait de meilleurs effets qu en prenant les clauses contigues.\n",
    "comparer le time out et le nb de messages, là ca pourrait être intéressant...^^"
   ]
  },
  {
   "cell_type": "code",
   "execution_count": 10,
   "metadata": {
    "collapsed": false
   },
   "outputs": [
    {
     "name": "stdout",
     "output_type": "stream",
     "text": [
      "          mean nbMessages  mean timedout\n",
      "numagent                                \n",
      "2                6.783698            NaN\n",
      "4               27.050112            NaN\n",
      "6               45.447953            NaN\n",
      "8               82.545342            NaN\n",
      "2                     NaN       0.161658\n",
      "4                     NaN       0.610022\n",
      "6                     NaN       0.792398\n",
      "8                     NaN       1.000000\n"
     ]
    },
    {
     "data": {
      "text/plain": [
       "<matplotlib.axes._subplots.AxesSubplot at 0x7f016281e3d0>"
      ]
     },
     "execution_count": 10,
     "metadata": {},
     "output_type": "execute_result"
    },
    {
     "data": {
      "image/png": "[encoded data removed]",
      "text/plain": [
       "<matplotlib.figure.Figure at 0x7f0164bc9ed0>"
      ]
     },
     "metadata": {},
     "output_type": "display_data"
    },
    {
     "data": {
      "image/png": "[encoded data removed]",
      "text/plain": [
       "<matplotlib.figure.Figure at 0x7f016410e710>"
      ]
     },
     "metadata": {},
     "output_type": "display_data"
    }
   ],
   "source": [
    "fig, ax = plt.subplots()\n",
    "ax2 = ax.twinx()\n",
    "\n",
    "by_var = dfMulti.groupby(['numagent'])\n",
    "s=by_var['nb Messages'].agg(['mean'])\n",
    "d={'mean' : 'mean nbMessages'}\n",
    "s = s.rename(columns=d)\n",
    "a=s.plot(ax=ax,kind = 'bar',width = 0.2,position =0)\n",
    "\n",
    "s2=by_var['timed_out'].agg(['mean'])\n",
    "d2={'mean' : 'mean timedout'}\n",
    "s2 = s2.rename(columns=d2)\n",
    "s3 = pd.concat([s,s2])\n",
    "\n",
    "print s3 \n",
    "s3.plot(ax=ax2)\n",
    "s3.plot(ax=ax)\n",
    "#b2=s.plot(ax=ax2,kind = 'bar',color='y',width=0.2, secondary_y = True,position =1)\n",
    "\n",
    "\n",
    "fig, ax = plt.subplots()\n",
    "ax2 = ax.twinx()\n",
    "by_var = dfMulti.groupby(['method'])\n",
    "by_var['nb Messages'].agg(['mean']).plot(ax=ax,kind = 'bar',width = 0.2,position =0)\n",
    "by_var['timed_out'].agg(['mean']).plot(ax=ax2,color='y',kind = 'bar',width=0.2, secondary_y = True,position =1, legend=False)\n"
   ]
  },
  {
   "cell_type": "code",
   "execution_count": 36,
   "metadata": {
    "collapsed": false
   },
   "outputs": [
    {
     "data": {
      "text/plain": [
       "\"\\ns = by_var['timed_out'].agg(['mean'])\\nprint s\\nd={'mean' : 'mean timedout'}\\ns = s.rename(columns=d)\\nprint s\\n#s.plot(ax=ax,kind = 'bar',width = 0.2,position =0)\\n\""
      ]
     },
     "execution_count": 36,
     "metadata": {},
     "output_type": "execute_result"
    },
    {
     "data": {
      "image/png": "[encoded data removed]",
      "text/plain": [
       "<matplotlib.figure.Figure at 0x7ff79e65d290>"
      ]
     },
     "metadata": {},
     "output_type": "display_data"
    }
   ],
   "source": [
    "fig, ax = plt.subplots()\n",
    "ax2 = ax.twinx()\n",
    "by_var = dfMulti.groupby(['lengthvar'])\n",
    "by_var['nb Messages'].agg(['mean']).plot(ax=ax,kind = 'bar',width = 0.2,position =0, label ='eded')\n",
    "by_var['timed_out'].agg(['mean']).plot(ax=ax2,color='y',kind = 'bar',width=0.2, secondary_y = True,position =1,label = 'efef')\n",
    "\"\"\"\n",
    "s = by_var['timed_out'].agg(['mean'])\n",
    "print s\n",
    "d={'mean' : 'mean timedout'}\n",
    "s = s.rename(columns=d)\n",
    "print s\n",
    "#s.plot(ax=ax,kind = 'bar',width = 0.2,position =0)\n",
    "\"\"\""
   ]
  },
  {
   "cell_type": "code",
   "execution_count": 24,
   "metadata": {
    "collapsed": false
   },
   "outputs": [
    {
     "data": {
      "text/plain": [
       "\"by_var = dfMulti.groupby(['numagent'])\\nby_var['nb Messages'].agg(['mean', 'std']).plot(kind = 'bar',title= 'nbMessages')\\nby_var['timed_out'].agg(['mean','std']).plot(kind = 'bar',title='timed_out')\\n\""
      ]
     },
     "execution_count": 24,
     "metadata": {},
     "output_type": "execute_result"
    }
   ],
   "source": [
    "'''by_var = dfMulti.groupby(['numagent'])\n",
    "by_var['nb Messages'].agg(['mean', 'std']).plot(kind = 'bar',title= 'nbMessages')\n",
    "by_var['timed_out'].agg(['mean','std']).plot(kind = 'bar',title='timed_out')\n",
    "'''"
   ]
  },
  {
   "cell_type": "code",
   "execution_count": 25,
   "metadata": {
    "collapsed": false
   },
   "outputs": [],
   "source": [
    "dfPrepar = dfMulti[dfMulti['isprepar']==1]\n",
    "dfNonPrepar = dfMulti[~dfMulti['isprepar']==1]\n",
    "#df['indaggmulti'] = df['infile_path']+ df['infile'] + df['var'] +df['dist'] + df['numagent']+df['method']\n",
    "#dfNonPrepar[dfNonPrepar.isin]"
   ]
  },
  {
   "cell_type": "code",
   "execution_count": 52,
   "metadata": {
    "collapsed": false
   },
   "outputs": [
    {
     "name": "stdout",
     "output_type": "stream",
     "text": [
      "Int64Index([1, 2, 3, 4, 5, 10], dtype='int64', name=u'lengthvar')\n",
      "[[ 28.84305949  21.11352437]\n",
      " [ 42.06197323  38.14470447]\n",
      " [ 42.22239032  38.44748818]\n",
      " [ 42.47058824  38.62251412]\n",
      " [ 42.20072239  38.24298667]\n",
      " [ 42.16452442  38.05402371]]\n",
      "2222222\n",
      "[ 1  2  3  4  5 10]\n",
      "['1' '2' '3' '4' '5' '+inf']\n"
     ]
    },
    {
     "ename": "TypeError",
     "evalue": "'Text' object is not callable",
     "output_type": "error",
     "traceback": [
      "\u001b[1;31m---------------------------------------------------------------------------\u001b[0m",
      "\u001b[1;31mTypeError\u001b[0m                                 Traceback (most recent call last)",
      "\u001b[1;32m<ipython-input-52-f61a5037b0e4>\u001b[0m in \u001b[0;36m<module>\u001b[1;34m()\u001b[0m\n\u001b[0;32m     36\u001b[0m \u001b[0max\u001b[0m\u001b[1;33m.\u001b[0m\u001b[0mplot\u001b[0m\u001b[1;33m(\u001b[0m\u001b[0mresult\u001b[0m\u001b[1;33m[\u001b[0m\u001b[1;34m'std'\u001b[0m\u001b[1;33m]\u001b[0m\u001b[1;33m.\u001b[0m\u001b[0mindex\u001b[0m\u001b[1;33m.\u001b[0m\u001b[0mvalues\u001b[0m\u001b[1;33m,\u001b[0m \u001b[0mresult\u001b[0m\u001b[1;33m[\u001b[0m\u001b[1;34m'std'\u001b[0m\u001b[1;33m]\u001b[0m\u001b[1;33m.\u001b[0m\u001b[0mvalues\u001b[0m\u001b[1;33m,\u001b[0m \u001b[0mlabel\u001b[0m \u001b[1;33m=\u001b[0m \u001b[1;34m'std lenght'\u001b[0m\u001b[1;33m)\u001b[0m\u001b[1;33m\u001b[0m\u001b[0m\n\u001b[0;32m     37\u001b[0m \u001b[0max\u001b[0m\u001b[1;33m.\u001b[0m\u001b[0mlegend\u001b[0m\u001b[1;33m(\u001b[0m\u001b[0mloc\u001b[0m\u001b[1;33m=\u001b[0m\u001b[1;34m'best'\u001b[0m\u001b[1;33m)\u001b[0m\u001b[1;33m\u001b[0m\u001b[0m\n\u001b[1;32m---> 38\u001b[1;33m \u001b[0max\u001b[0m\u001b[1;33m.\u001b[0m\u001b[0mtitle\u001b[0m\u001b[1;33m(\u001b[0m\u001b[1;34m'title'\u001b[0m\u001b[1;33m)\u001b[0m\u001b[1;33m\u001b[0m\u001b[0m\n\u001b[0m",
      "\u001b[1;31mTypeError\u001b[0m: 'Text' object is not callable"
     ]
    },
    {
     "data": {
      "image/png": "[encoded data removed]",
      "text/plain": [
       "<matplotlib.figure.Figure at 0x7ff79d82f390>"
      ]
     },
     "metadata": {},
     "output_type": "display_data"
    },
    {
     "data": {
      "image/png": "[encoded data removed]",
      "text/plain": [
       "<matplotlib.figure.Figure at 0x7ff79d3a8550>"
      ]
     },
     "metadata": {},
     "output_type": "display_data"
    },
    {
     "data": {
      "image/png": "[encoded data removed]",
      "text/plain": [
       "<matplotlib.figure.Figure at 0x7ff79d39ed90>"
      ]
     },
     "metadata": {},
     "output_type": "display_data"
    }
   ],
   "source": [
    "#ici 10 signifie sans limite...\n",
    "\n",
    "\n",
    "dfMulti.loc[dfMulti['lengthvar'] == -1,'lengthvar']=10\n",
    "\n",
    "\n",
    "grouped = dfMulti.groupby('lengthvar')\n",
    "stats = ['mean','std']\n",
    "result = grouped['nb Messages'].agg(stats)\n",
    "print result.index\n",
    "print result.values\n",
    "labels = result.index.values\n",
    "print  '2222222'\n",
    "print labels\n",
    "labels = np.concatenate((labels[:-1], np.array(['+inf'])))\n",
    "print labels\n",
    "plt.xticks(result.index.values, labels, rotation='vertical')\n",
    "plt.plot(result.index.values, result.values, label ='ee>')\n",
    "result.plot()\n",
    "#\n",
    "\n",
    "fig = plt.figure()\n",
    "ax = fig.add_subplot(1,1,1)\n",
    "\n",
    "dfMulti.loc[dfMulti['lengthvar'] == -1,'lengthvar']=10\n",
    "grouped = dfMulti.groupby('lengthvar')\n",
    "stats = ['mean','std']\n",
    "result = grouped['nb Messages'].agg(stats)\n",
    "ax.set_xticks([1,2,3,4,5,10])\n",
    "ax.set_xticklabels(labels)\n",
    "\n",
    "#result.plot(ax=ax, label = 'deded')\n",
    "\n",
    "ax.plot(result['mean'].index.values, result['mean'].values, label = 'mean length')\n",
    "\n",
    "ax.plot(result['std'].index.values, result['std'].values, label = 'std lenght')\n",
    "ax.legend(loc='best')\n",
    "ax.title('title')\n"
   ]
  },
  {
   "cell_type": "code",
   "execution_count": 71,
   "metadata": {
    "collapsed": false
   },
   "outputs": [
    {
     "data": {
      "text/plain": [
       "\"fig, ax = plt.subplots()\\nax2 = ax.twinx()\\n#rspine = ax3.spines['right']\\n#rspine.set_position(('axes', 1.25))\\n#ax3.set_frame_on(True)\\n#ax3.patch.set_visible(False)\\nfig.subplots_adjust(right=0.75)\\na=result['mean'].plot(ax=ax,style='b-',label = 'mean')\\nb=result['std'].plot(ax=ax2, style = 'r-', secondary_y=True, label = 'std')\\n\\n#result.plot( y = 'mean')\\n\""
      ]
     },
     "execution_count": 71,
     "metadata": {},
     "output_type": "execute_result"
    }
   ],
   "source": [
    "'''fig, ax = plt.subplots()\n",
    "ax2 = ax.twinx()\n",
    "#rspine = ax3.spines['right']\n",
    "#rspine.set_position(('axes', 1.25))\n",
    "#ax3.set_frame_on(True)\n",
    "#ax3.patch.set_visible(False)\n",
    "fig.subplots_adjust(right=0.75)\n",
    "a=result['mean'].plot(ax=ax,style='b-',label = 'mean')\n",
    "b=result['std'].plot(ax=ax2, style = 'r-', secondary_y=True, label = 'std')\n",
    "\n",
    "#result.plot( y = 'mean')\n",
    "'''"
   ]
  },
  {
   "cell_type": "code",
   "execution_count": 41,
   "metadata": {
    "collapsed": false
   },
   "outputs": [
    {
     "data": {
      "text/html": [
       "<div>\n",
       "<table border=\"1\" class=\"dataframe\">\n",
       "  <thead>\n",
       "    <tr style=\"text-align: right;\">\n",
       "      <th></th>\n",
       "      <th>mean</th>\n",
       "      <th>std</th>\n",
       "    </tr>\n",
       "    <tr>\n",
       "      <th>propTP</th>\n",
       "      <th></th>\n",
       "      <th></th>\n",
       "    </tr>\n",
       "  </thead>\n",
       "  <tbody>\n",
       "    <tr>\n",
       "      <th>0.3</th>\n",
       "      <td>0.624251</td>\n",
       "      <td>0.484497</td>\n",
       "    </tr>\n",
       "    <tr>\n",
       "      <th>1.0</th>\n",
       "      <td>0.659065</td>\n",
       "      <td>0.474114</td>\n",
       "    </tr>\n",
       "    <tr>\n",
       "      <th>2.0</th>\n",
       "      <td>0.594044</td>\n",
       "      <td>0.491172</td>\n",
       "    </tr>\n",
       "    <tr>\n",
       "      <th>5.0</th>\n",
       "      <td>0.671103</td>\n",
       "      <td>0.469913</td>\n",
       "    </tr>\n",
       "    <tr>\n",
       "      <th>10.0</th>\n",
       "      <td>0.730309</td>\n",
       "      <td>0.443880</td>\n",
       "    </tr>\n",
       "  </tbody>\n",
       "</table>\n",
       "</div>"
      ],
      "text/plain": [
       "            mean       std\n",
       "propTP                    \n",
       "0.3     0.624251  0.484497\n",
       "1.0     0.659065  0.474114\n",
       "2.0     0.594044  0.491172\n",
       "5.0     0.671103  0.469913\n",
       "10.0    0.730309  0.443880"
      ]
     },
     "execution_count": 41,
     "metadata": {},
     "output_type": "execute_result"
    },
    {
     "data": {
      "image/png": "[encoded data removed]",
      "text/plain": [
       "<matplotlib.figure.Figure at 0x7f05474ced50>"
      ]
     },
     "metadata": {},
     "output_type": "display_data"
    }
   ],
   "source": [
    "result = grouped['timed_out'].agg(stats)\n",
    "result.plot()\n",
    "result"
   ]
  },
  {
   "cell_type": "code",
   "execution_count": 32,
   "metadata": {
    "collapsed": false
   },
   "outputs": [
    {
     "data": {
      "text/html": [
       "<div>\n",
       "<table border=\"1\" class=\"dataframe\">\n",
       "  <thead>\n",
       "    <tr style=\"text-align: right;\">\n",
       "      <th></th>\n",
       "      <th>mean</th>\n",
       "      <th>count</th>\n",
       "    </tr>\n",
       "    <tr>\n",
       "      <th>propvar</th>\n",
       "      <th></th>\n",
       "      <th></th>\n",
       "    </tr>\n",
       "  </thead>\n",
       "  <tbody>\n",
       "    <tr>\n",
       "      <th>1</th>\n",
       "      <td>40.995305</td>\n",
       "      <td>1065</td>\n",
       "    </tr>\n",
       "    <tr>\n",
       "      <th>2</th>\n",
       "      <td>42.004695</td>\n",
       "      <td>1065</td>\n",
       "    </tr>\n",
       "    <tr>\n",
       "      <th>3</th>\n",
       "      <td>41.430740</td>\n",
       "      <td>1054</td>\n",
       "    </tr>\n",
       "    <tr>\n",
       "      <th>4</th>\n",
       "      <td>42.589184</td>\n",
       "      <td>1054</td>\n",
       "    </tr>\n",
       "    <tr>\n",
       "      <th>5</th>\n",
       "      <td>42.198858</td>\n",
       "      <td>1051</td>\n",
       "    </tr>\n",
       "    <tr>\n",
       "      <th>10</th>\n",
       "      <td>42.962121</td>\n",
       "      <td>1056</td>\n",
       "    </tr>\n",
       "    <tr>\n",
       "      <th>15</th>\n",
       "      <td>35.223724</td>\n",
       "      <td>666</td>\n",
       "    </tr>\n",
       "  </tbody>\n",
       "</table>\n",
       "</div>"
      ],
      "text/plain": [
       "              mean  count\n",
       "propvar                  \n",
       "1        40.995305   1065\n",
       "2        42.004695   1065\n",
       "3        41.430740   1054\n",
       "4        42.589184   1054\n",
       "5        42.198858   1051\n",
       "10       42.962121   1056\n",
       "15       35.223724    666"
      ]
     },
     "execution_count": 32,
     "metadata": {},
     "output_type": "execute_result"
    },
    {
     "data": {
      "image/png": "[encoded data removed]",
      "text/plain": [
       "<matplotlib.figure.Figure at 0x7f0546c86410>"
      ]
     },
     "metadata": {},
     "output_type": "display_data"
    }
   ],
   "source": [
    "grouped = dfMulti[dfMulti['var'].str.contains(\"max\")].groupby('propvar')\n",
    "stats = ['mean','count']\n",
    "result = grouped['nb Messages'].agg(stats)\n",
    "result.plot( y = 'mean')\n",
    "result\n"
   ]
  },
  {
   "cell_type": "code",
   "execution_count": 33,
   "metadata": {
    "collapsed": false
   },
   "outputs": [
    {
     "data": {
      "text/html": [
       "<div>\n",
       "<table border=\"1\" class=\"dataframe\">\n",
       "  <thead>\n",
       "    <tr style=\"text-align: right;\">\n",
       "      <th></th>\n",
       "      <th>mean</th>\n",
       "      <th>count</th>\n",
       "    </tr>\n",
       "    <tr>\n",
       "      <th>propvar</th>\n",
       "      <th></th>\n",
       "      <th></th>\n",
       "    </tr>\n",
       "  </thead>\n",
       "  <tbody>\n",
       "    <tr>\n",
       "      <th>1</th>\n",
       "      <td>39.575435</td>\n",
       "      <td>1034</td>\n",
       "    </tr>\n",
       "    <tr>\n",
       "      <th>2</th>\n",
       "      <td>38.926736</td>\n",
       "      <td>1051</td>\n",
       "    </tr>\n",
       "    <tr>\n",
       "      <th>3</th>\n",
       "      <td>39.291498</td>\n",
       "      <td>988</td>\n",
       "    </tr>\n",
       "    <tr>\n",
       "      <th>4</th>\n",
       "      <td>38.956012</td>\n",
       "      <td>682</td>\n",
       "    </tr>\n",
       "    <tr>\n",
       "      <th>5</th>\n",
       "      <td>35.154856</td>\n",
       "      <td>381</td>\n",
       "    </tr>\n",
       "    <tr>\n",
       "      <th>10</th>\n",
       "      <td>34.791667</td>\n",
       "      <td>192</td>\n",
       "    </tr>\n",
       "    <tr>\n",
       "      <th>15</th>\n",
       "      <td>33.338542</td>\n",
       "      <td>192</td>\n",
       "    </tr>\n",
       "  </tbody>\n",
       "</table>\n",
       "</div>"
      ],
      "text/plain": [
       "              mean  count\n",
       "propvar                  \n",
       "1        39.575435   1034\n",
       "2        38.926736   1051\n",
       "3        39.291498    988\n",
       "4        38.956012    682\n",
       "5        35.154856    381\n",
       "10       34.791667    192\n",
       "15       33.338542    192"
      ]
     },
     "execution_count": 33,
     "metadata": {},
     "output_type": "execute_result"
    },
    {
     "data": {
      "image/png": "[encoded data removed]",
      "text/plain": [
       "<matplotlib.figure.Figure at 0x7f054630acd0>"
      ]
     },
     "metadata": {},
     "output_type": "display_data"
    }
   ],
   "source": [
    "grouped = dfMulti[dfMulti['var'].str.contains(\"min\")].groupby('propvar')\n",
    "stats = ['mean','count']\n",
    "result = grouped['nb Messages'].agg(stats)\n",
    "result.plot()\n",
    "result"
   ]
  },
  {
   "cell_type": "code",
   "execution_count": 14,
   "metadata": {
    "collapsed": false
   },
   "outputs": [
    {
     "data": {
      "text/html": [
       "<div>\n",
       "<table border=\"1\" class=\"dataframe\">\n",
       "  <thead>\n",
       "    <tr style=\"text-align: right;\">\n",
       "      <th></th>\n",
       "      <th>mean</th>\n",
       "      <th>std</th>\n",
       "    </tr>\n",
       "    <tr>\n",
       "      <th>lengthvar</th>\n",
       "      <th></th>\n",
       "      <th></th>\n",
       "    </tr>\n",
       "  </thead>\n",
       "  <tbody>\n",
       "    <tr>\n",
       "      <th>-1</th>\n",
       "      <td>42.164524</td>\n",
       "      <td>38.054024</td>\n",
       "    </tr>\n",
       "    <tr>\n",
       "      <th>1</th>\n",
       "      <td>28.843059</td>\n",
       "      <td>21.113524</td>\n",
       "    </tr>\n",
       "    <tr>\n",
       "      <th>2</th>\n",
       "      <td>42.061973</td>\n",
       "      <td>38.144704</td>\n",
       "    </tr>\n",
       "    <tr>\n",
       "      <th>3</th>\n",
       "      <td>42.222390</td>\n",
       "      <td>38.447488</td>\n",
       "    </tr>\n",
       "    <tr>\n",
       "      <th>4</th>\n",
       "      <td>42.470588</td>\n",
       "      <td>38.622514</td>\n",
       "    </tr>\n",
       "    <tr>\n",
       "      <th>5</th>\n",
       "      <td>42.200722</td>\n",
       "      <td>38.242987</td>\n",
       "    </tr>\n",
       "  </tbody>\n",
       "</table>\n",
       "</div>"
      ],
      "text/plain": [
       "                mean        std\n",
       "lengthvar                      \n",
       "-1         42.164524  38.054024\n",
       " 1         28.843059  21.113524\n",
       " 2         42.061973  38.144704\n",
       " 3         42.222390  38.447488\n",
       " 4         42.470588  38.622514\n",
       " 5         42.200722  38.242987"
      ]
     },
     "execution_count": 14,
     "metadata": {},
     "output_type": "execute_result"
    },
    {
     "data": {
      "image/png": "[encoded data removed]",
      "text/plain": [
       "<matplotlib.figure.Figure at 0x7fe8b73c9350>"
      ]
     },
     "metadata": {},
     "output_type": "display_data"
    }
   ],
   "source": [
    "grouped = dfMulti.groupby('lengthvar')\n",
    "stats = ['mean','std']\n",
    "result2 = grouped['nb Messages'].agg(stats)\n",
    "result2.plot()\n",
    "result2"
   ]
  },
  {
   "cell_type": "code",
   "execution_count": 35,
   "metadata": {
    "collapsed": false,
    "scrolled": false
   },
   "outputs": [
    {
     "data": {
      "text/plain": [
       "\"fig, ax = plt.subplots()\\nax2 = ax.twinx()\\n#rspine = ax3.spines['right']\\n#rspine.set_position(('axes', 1.25))\\n#ax3.set_frame_on(True)\\n#ax3.patch.set_visiblezz(False)\\nfig.subplots_adjust(right=0.75)\\na=result1['mean'].plot(ax=ax,style='b-',label = 'mean')\\nb=result2['mean'].plot(ax=ax2, style = 'r-', secondary_y=True, label = 'std')\\n\""
      ]
     },
     "execution_count": 35,
     "metadata": {},
     "output_type": "execute_result"
    }
   ],
   "source": [
    "'''fig, ax = plt.subplots()\n",
    "ax2 = ax.twinx()\n",
    "#rspine = ax3.spines['right']\n",
    "#rspine.set_position(('axes', 1.25))\n",
    "#ax3.set_frame_on(True)\n",
    "#ax3.patch.set_visiblezz(False)\n",
    "fig.subplots_adjust(right=0.75)\n",
    "a=result1['mean'].plot(ax=ax,style='b-',label = 'mean')\n",
    "b=result2['mean'].plot(ax=ax2, style = 'r-', secondary_y=True, label = 'std')\n",
    "'''"
   ]
  },
  {
   "cell_type": "code",
   "execution_count": 36,
   "metadata": {
    "collapsed": false
   },
   "outputs": [
    {
     "data": {
      "text/html": [
       "<div>\n",
       "<table border=\"1\" class=\"dataframe\">\n",
       "  <thead>\n",
       "    <tr style=\"text-align: right;\">\n",
       "      <th></th>\n",
       "      <th>mean</th>\n",
       "      <th>std</th>\n",
       "    </tr>\n",
       "    <tr>\n",
       "      <th>propTP</th>\n",
       "      <th></th>\n",
       "      <th></th>\n",
       "    </tr>\n",
       "  </thead>\n",
       "  <tbody>\n",
       "    <tr>\n",
       "      <th>0.3</th>\n",
       "      <td>45.706587</td>\n",
       "      <td>39.250821</td>\n",
       "    </tr>\n",
       "    <tr>\n",
       "      <th>1.0</th>\n",
       "      <td>45.036488</td>\n",
       "      <td>34.755488</td>\n",
       "    </tr>\n",
       "    <tr>\n",
       "      <th>2.0</th>\n",
       "      <td>39.666928</td>\n",
       "      <td>34.749690</td>\n",
       "    </tr>\n",
       "    <tr>\n",
       "      <th>5.0</th>\n",
       "      <td>35.416917</td>\n",
       "      <td>37.474953</td>\n",
       "    </tr>\n",
       "    <tr>\n",
       "      <th>10.0</th>\n",
       "      <td>37.396733</td>\n",
       "      <td>36.748974</td>\n",
       "    </tr>\n",
       "  </tbody>\n",
       "</table>\n",
       "</div>"
      ],
      "text/plain": [
       "             mean        std\n",
       "propTP                      \n",
       "0.3     45.706587  39.250821\n",
       "1.0     45.036488  34.755488\n",
       "2.0     39.666928  34.749690\n",
       "5.0     35.416917  37.474953\n",
       "10.0    37.396733  36.748974"
      ]
     },
     "execution_count": 36,
     "metadata": {},
     "output_type": "execute_result"
    },
    {
     "data": {
      "image/png": "[encoded data removed]",
      "text/plain": [
       "<matplotlib.figure.Figure at 0x7f0546e04150>"
      ]
     },
     "metadata": {},
     "output_type": "display_data"
    }
   ],
   "source": [
    "grouped = dfMulti.groupby('propTP')\n",
    "stats = ['mean','std']\n",
    "result = grouped['nb Messages'].agg(stats)\n",
    "fig, ax = plt.subplots()\n",
    "ax2 = ax.twinx()\n",
    "\n",
    "fig.subplots_adjust(right=0.75)\n",
    "a=result['mean'].plot(ax=ax,style='b-',label = 'mean')\n",
    "b=result['std'].plot(ax=ax2, style = 'r-', secondary_y=True, label = 'std')\n",
    "result\n"
   ]
  },
  {
   "cell_type": "code",
   "execution_count": 10,
   "metadata": {
    "collapsed": false
   },
   "outputs": [
    {
     "name": "stdout",
     "output_type": "stream",
     "text": [
      "            mean       std\n",
      "propTP                    \n",
      "0.3     0.624251  0.484497\n",
      "1.0     0.659065  0.474114\n",
      "2.0     0.594044  0.491172\n",
      "5.0     0.671103  0.469913\n",
      "10.0    0.730309  0.443880\n"
     ]
    },
    {
     "data": {
      "text/plain": [
       "<matplotlib.axes._subplots.AxesSubplot at 0x7ff7ac515310>"
      ]
     },
     "execution_count": 10,
     "metadata": {},
     "output_type": "execute_result"
    },
    {
     "data": {
      "image/png": "[encoded data removed]",
      "text/plain": [
       "<matplotlib.figure.Figure at 0x7ff7aca6fd90>"
      ]
     },
     "metadata": {},
     "output_type": "display_data"
    },
    {
     "data": {
      "image/png": "[encoded data removed]",
      "text/plain": [
       "<matplotlib.figure.Figure at 0x7ff7ac586ad0>"
      ]
     },
     "metadata": {},
     "output_type": "display_data"
    }
   ],
   "source": [
    "grouped = dfMulti.groupby('propTP')\n",
    "stats = ['mean','std']\n",
    "result = grouped['timed_out'].agg(stats)\n",
    "print result\n",
    "fig, ax = plt.subplots()\n",
    "ax2 = ax.twinx()\n",
    "\n",
    "fig.subplots_adjust(right=0.75)\n",
    "result.plot()\n"
   ]
  },
  {
   "cell_type": "markdown",
   "metadata": {},
   "source": [
    "#Other analysis "
   ]
  },
  {
   "cell_type": "code",
   "execution_count": null,
   "metadata": {
    "collapsed": true
   },
   "outputs": [],
   "source": []
  },
  {
   "cell_type": "markdown",
   "metadata": {
    "collapsed": true
   },
   "source": [
    "#Select Problems :\n",
    "For all mono problems finishing in an interval,\n",
    "we compute the multi problems associated, and how many actually finish, in order to select problems with a certain order of difficulty.\n",
    "\n",
    "chercher les problèmes qui finissent :\n",
    "\n",
    "un problème est un sol et un .var, on veut que toutes ses variantes dans MONO tq distribution TP etc... finissent (nb Max) et que dans MULTI, toutes ses variantes finissent aussi (le max possible)\n",
    "\n",
    "seletionner 2 faciles, 2 moyens et 2 difficiles (basé sur le pf et le % de TP etc... )"
   ]
  },
  {
   "cell_type": "code",
   "execution_count": 7,
   "metadata": {
    "collapsed": false
   },
   "outputs": [
    {
     "data": {
      "text/plain": [
       "\"import collections\\n#def filterPb(dfOrig, df,timelimitInf,timelimitSup) :\\ndfOrig = dfFin\\ndf = dfMulti\\ntimelimitInf = 2.\\ntimelimitSup = 8\\n'''\\non veut des probl\\xc3\\xa8mes mono qui terminent dans un intervalle de temps \\net on veut ceux pour lesquels on a le plus de pb Multi qui finissent sans time out\\n'''\\nnbPbO=len(dfOrig.index)\\nnbPbD =len(df.index)\\n\\naggregate(df)#agg est une sorte d'id de problem\\naggregate(dfOrig)\\n\\ndfOrig = dfOrig[dfOrig['total time mn'] < timelimitSup]\\ndfOrig = dfOrig[dfOrig['total time mn'] > timelimitInf]\\nprint 'on a ',len(dfOrig.index),' pb mono qui sont between'\\n\\ndistDict=collections.defaultdict(int)\\ndistDictNtimeout=collections.defaultdict(int)\\nnbPnMultL= []\\nnbPbNitimeoutL = []\\npbMultL= []\\nindL = []\\n#pour chaque pb MONO, on compte le nb de pb MULTI qui lui sont associ\\xc3\\xa9s\\nfor i in dfOrig.index :\\n    df['between'] = 0\\n    df.loc[df['indagg'].isin(dfOrig.loc[i]), 'between'] = 1\\n    nbPb = len(df[df['between']==1])\\n    pbNtimeoutdf = df[df['between']==1]\\n    nbNtimeout =len(pbNtimeoutdf[pbNtimeoutdf['timed_out']==0])\\n    pbMultL.append(df.loc[df['between']==1,['infile_path','infile','outfile','var','verbose','timeout','method','numagent','dist','csq','csq_mono','timed_out']])\\n    nbPnMultL.append(nbPb)\\n    nbPbNitimeoutL.append(nbNtimeout)\\n    distDict[nbPb] += 1\\n    distDictNtimeout[nbNtimeout] += 1\\n    indL.append(i)\\nprint nbNtimeout\\nimax = np.argmax(np.array(nbPbNitimeoutL))\\nnMax = 120\\nindmax = np.argpartition(nbPbNitimeoutL, -nMax)[-nMax:] #pour prendre les indices des 10 plus grands\\n\\ngoodproblems = []\\n#ici on r\\xc3\\xa9cup\\xc3\\xa8re ces probl\\xc3\\xa8mes interessants\\nfor i in indmax :\\n    iDf = indL[i]\\n    pbNtimeout = pbMultL[i][pbMultL[i]['timed_out'] == 0]\\n    nbNtimeout = len(pbNtimeout)\\n    print '###############'\\n    print 'nbPb Mult', nbPnMultL[i]\\n    print 'nbNtimeout', nbNtimeout\\n    print 'ind i',i\\n    print nbPbNitimeoutL[i]\\n    print dfOrig.loc[iDf,['indagg','infile', 'method', 'var', 'csq', 'dist', 'numagent','total time mn']]\\n    print pbMultL[i]\\n    \\n    goodproblems.append(pbMultL[i])\\n    \\nprint np.unique(np.array(nbPnMultL))\\nprint sum(distDict.values())\\nprint len(df.index)\\nprint len(dfOrig.index)\\n\\ngoodproblems = pd.concat(goodproblems)\\ngoodproblems.to_csv('base_problems_MULTI'+'.csv')\\n\\n\\nplt.bar(distDict.keys(), distDict.values(), 0.8, color='g')\\nplt.title('nb de Pb mono associes au prob multi')\\nplt.xlabel('nb de pb multi')\\nplt.ylabel('nb de pb mono')\\nplt.show()\\nplt.bar(distDictNtimeout.keys(), distDictNtimeout.values(), 0.8, color='g')\\nplt.title('nb de Pb multi sans time out associes aux pb mono')\\nplt.xlabel('nb de pb multi')\\nplt.ylabel('nb de pb mono')\\nplt.show()\\n#return distDict\\n#distDict = filterPb(dfFin, dfMulti_filt, 2.5,5.0 )\\n\""
      ]
     },
     "execution_count": 7,
     "metadata": {},
     "output_type": "execute_result"
    }
   ],
   "source": [
    "\"\"\"import collections\n",
    "#def filterPb(dfOrig, df,timelimitInf,timelimitSup) :\n",
    "dfOrig = dfFin\n",
    "df = dfMulti\n",
    "timelimitInf = 2.\n",
    "timelimitSup = 8\n",
    "'''\n",
    "on veut des problèmes mono qui terminent dans un intervalle de temps \n",
    "et on veut ceux pour lesquels on a le plus de pb Multi qui finissent sans time out\n",
    "'''\n",
    "nbPbO=len(dfOrig.index)\n",
    "nbPbD =len(df.index)\n",
    "\n",
    "aggregate(df)#agg est une sorte d'id de problem\n",
    "aggregate(dfOrig)\n",
    "\n",
    "dfOrig = dfOrig[dfOrig['total time mn'] < timelimitSup]\n",
    "dfOrig = dfOrig[dfOrig['total time mn'] > timelimitInf]\n",
    "print 'on a ',len(dfOrig.index),' pb mono qui sont between'\n",
    "\n",
    "distDict=collections.defaultdict(int)\n",
    "distDictNtimeout=collections.defaultdict(int)\n",
    "nbPnMultL= []\n",
    "nbPbNitimeoutL = []\n",
    "pbMultL= []\n",
    "indL = []\n",
    "#pour chaque pb MONO, on compte le nb de pb MULTI qui lui sont associés\n",
    "for i in dfOrig.index :\n",
    "    df['between'] = 0\n",
    "    df.loc[df['indagg'].isin(dfOrig.loc[i]), 'between'] = 1\n",
    "    nbPb = len(df[df['between']==1])\n",
    "    pbNtimeoutdf = df[df['between']==1]\n",
    "    nbNtimeout =len(pbNtimeoutdf[pbNtimeoutdf['timed_out']==0])\n",
    "    pbMultL.append(df.loc[df['between']==1,['infile_path','infile','outfile','var','verbose','timeout','method','numagent','dist','csq','csq_mono','timed_out']])\n",
    "    nbPnMultL.append(nbPb)\n",
    "    nbPbNitimeoutL.append(nbNtimeout)\n",
    "    distDict[nbPb] += 1\n",
    "    distDictNtimeout[nbNtimeout] += 1\n",
    "    indL.append(i)\n",
    "print nbNtimeout\n",
    "imax = np.argmax(np.array(nbPbNitimeoutL))\n",
    "nMax = 120\n",
    "indmax = np.argpartition(nbPbNitimeoutL, -nMax)[-nMax:] #pour prendre les indices des 10 plus grands\n",
    "\n",
    "goodproblems = []\n",
    "#ici on récupère ces problèmes interessants\n",
    "for i in indmax :\n",
    "    iDf = indL[i]\n",
    "    pbNtimeout = pbMultL[i][pbMultL[i]['timed_out'] == 0]\n",
    "    nbNtimeout = len(pbNtimeout)\n",
    "    print '###############'\n",
    "    print 'nbPb Mult', nbPnMultL[i]\n",
    "    print 'nbNtimeout', nbNtimeout\n",
    "    print 'ind i',i\n",
    "    print nbPbNitimeoutL[i]\n",
    "    print dfOrig.loc[iDf,['indagg','infile', 'method', 'var', 'csq', 'dist', 'numagent','total time mn']]\n",
    "    print pbMultL[i]\n",
    "    \n",
    "    goodproblems.append(pbMultL[i])\n",
    "    \n",
    "print np.unique(np.array(nbPnMultL))\n",
    "print sum(distDict.values())\n",
    "print len(df.index)\n",
    "print len(dfOrig.index)\n",
    "\n",
    "goodproblems = pd.concat(goodproblems)\n",
    "goodproblems.to_csv('base_problems_MULTI'+'.csv')\n",
    "\n",
    "\n",
    "plt.bar(distDict.keys(), distDict.values(), 0.8, color='g')\n",
    "plt.title('nb de Pb mono associes au prob multi')\n",
    "plt.xlabel('nb de pb multi')\n",
    "plt.ylabel('nb de pb mono')\n",
    "plt.show()\n",
    "plt.bar(distDictNtimeout.keys(), distDictNtimeout.values(), 0.8, color='g')\n",
    "plt.title('nb de Pb multi sans time out associes aux pb mono')\n",
    "plt.xlabel('nb de pb multi')\n",
    "plt.ylabel('nb de pb mono')\n",
    "plt.show()\n",
    "#return distDict\n",
    "#distDict = filterPb(dfFin, dfMulti_filt, 2.5,5.0 )\n",
    "\"\"\""
   ]
  },
  {
   "cell_type": "markdown",
   "metadata": {},
   "source": [
    "les pb mono qui ont beaucoup de pb multi qui finissent sont aussi ceux qui ont beaucoup de de pb multi associé, cela parait logique..."
   ]
  },
  {
   "cell_type": "markdown",
   "metadata": {
    "collapsed": true
   },
   "source": [
    "#interesting Multi problems\n",
    "HERE we search to find all the multi problems which finish under the time taken by the mono problem !!"
   ]
  },
  {
   "cell_type": "code",
   "execution_count": 41,
   "metadata": {
    "collapsed": false
   },
   "outputs": [
    {
     "name": "stdout",
     "output_type": "stream",
     "text": [
      "indagg           Problems/Bio/glucolysis_naiveEq4_TPuniformshor...\n",
      "infile           glucolysis_naiveEq4_TPuniformshortdist_per5_se...\n",
      "method                                              SOLAR-Inc-Carc\n",
      "var                                                  _max-2_ld3--1\n",
      "csq              Problems/Bio/glucolysis_naiveEq4_TPuniformshor...\n",
      "dist                                                     _naiveEq4\n",
      "numagent                                                         4\n",
      "total time mn                                             2.266433\n",
      "Name: 1709, dtype: object\n",
      "       infile_path                                             infile  \\\n",
      "254  Problems/Bio/  glucolysis_naiveEq4_TPuniformshortdist_per5_se...   \n",
      "255  Problems/Bio/  glucolysis_naiveEq4_TPuniformshortdist_per5_se...   \n",
      "256  Problems/Bio/  glucolysis_naiveEq4_TPuniformshortdist_per5_se...   \n",
      "\n",
      "     outfile            var  verbose  timeout         method  numagent  \\\n",
      "254      NaN  _max-2_ld3--1      NaN      NaN  DICF-PB-Async         4   \n",
      "255      NaN  _max-2_ld3--1      NaN      NaN   DICF-PB-Star         4   \n",
      "256      NaN  _max-2_ld3--1      NaN      NaN  DICF-PB-Token         4   \n",
      "\n",
      "          dist                                                csq  \\\n",
      "254  _naiveEq4  Problems/Bio/glucolysis_naiveEq4_TPuniformshor...   \n",
      "255  _naiveEq4  Problems/Bio/glucolysis_naiveEq4_TPuniformshor...   \n",
      "256  _naiveEq4  Problems/Bio/glucolysis_naiveEq4_TPuniformshor...   \n",
      "\n",
      "                                              csq_mono  timed_out  \n",
      "254  Problems/Bio/glucolysis_naiveEq4_TPuniformshor...          0  \n",
      "255  Problems/Bio/glucolysis_naiveEq4_TPuniformshor...          0  \n",
      "256  Problems/Bio/glucolysis_naiveEq4_TPuniformshor...          0  \n",
      "ILOC\n",
      "max CPU time by SOLAR                                                   74269\n",
      "or_csq                      Problems/Bio/glucolysis_TPnaiveshortdist_per10...\n",
      "min consequences sent                                                       0\n",
      "nbAg+                                                                       2\n",
      "root-extensions                                                       8439282\n",
      "or_numagent                                                                 2\n",
      "min CPU time by SOLAR                                                     143\n",
      "distrib                                                             _naiveEq2\n",
      "min total size messages                                                     3\n",
      "inferences                                                           52897207\n",
      "or_method                                                       DICF-PB-Async\n",
      "min extensions                                                           1283\n",
      "max inferences                                                       52894125\n",
      "nbConsequencesFound                                                         2\n",
      "root-CPU time by SOLAR                                                  74269\n",
      "nb Messages                                                                 7\n",
      "root-total size messages                                                   24\n",
      "max total size messages                                                    24\n",
      "max nb Messages                                                             4\n",
      "CPU time by SOLAR                                                       74412\n",
      "max extensions                                                        8439282\n",
      "or_dist                                                             _naiveEq2\n",
      "max clauses sents                                                           0\n",
      "consequences sent                                                           0\n",
      "method                                                          DICF-PB-Async\n",
      "root-clauses sents                                                          0\n",
      "nbCl_c1_non_subsumed                                                        0\n",
      "nbCl_c1                                                                     2\n",
      "nbCl_c2                                                                     2\n",
      "nbCl_c2_non_sub                                                             0\n",
      "                                                  ...                        \n",
      "var                                                             _max-2_ld3--1\n",
      "root-nb Messages                                                            4\n",
      "min clauses sents                                                           0\n",
      "root-inferences                                                      52894125\n",
      "total time                                                              77143\n",
      "infile_path                                                     Problems/Bio/\n",
      "root                                                                        0\n",
      "clauses sents                                                               0\n",
      "max consequences sent                                                       0\n",
      "timed_out                                                                   0\n",
      "min inferences                                                           3082\n",
      "infile                               glucolysis_TPnaiveshortdist_per10_seuil1\n",
      "extensions                                                            8440565\n",
      "problem                     Problems/Bio/glucolysis_TPnaiveshortdist_per10...\n",
      "total size messages                                                        27\n",
      "numagent                                                                    2\n",
      "csq                         Problems/Bio/glucolysis_TPnaiveshortdist_per10...\n",
      "dist                                                                _naiveEq2\n",
      "csq_mono                    Problems/Bio/glucolysis_TPnaiveshortdist_per10...\n",
      "tokenorder                                                                NaN\n",
      "lengthvar                                                                   3\n",
      "propvar                                                                     2\n",
      "total time mn                                                        1.285717\n",
      "methodvar                                                                 max\n",
      "pbbase                                                             glucolysis\n",
      "isprepar                                                                    0\n",
      "prepar                                                                    NaN\n",
      "propTP                                                                     10\n",
      "indagg                      Problems/Bio/glucolysis_TPnaiveshortdist_per10...\n",
      "between                                                                     0\n",
      "Name: 452, dtype: object\n",
      "DFDFDFDFDFDFDFDF      CPU time by SOLAR  between  clauses sents  consequences sent  \\\n",
      "452              74412        0              0                  0   \n",
      "\n",
      "                                                   csq  \\\n",
      "452  Problems/Bio/glucolysis_TPnaiveshortdist_per10...   \n",
      "\n",
      "                                              csq_mono       dist    distrib  \\\n",
      "452  Problems/Bio/glucolysis_TPnaiveshortdist_per10...  _naiveEq2  _naiveEq2   \n",
      "\n",
      "     extensions                                             indagg  \\\n",
      "452     8440565  Problems/Bio/glucolysis_TPnaiveshortdist_per10...   \n",
      "\n",
      "         ...        root-extensions root-inferences root-nb Messages  \\\n",
      "452      ...                8439282        52894125                4   \n",
      "\n",
      "     root-total size messages  timed_out  tokenorder  total size messages  \\\n",
      "452                        24          0         NaN                   27   \n",
      "\n",
      "     total time  total time mn            var  \n",
      "452       77143       1.285717  _max-2_ld3--1  \n",
      "\n",
      "[1 rows x 70 columns]\n",
      "fffffffffffffffff\n",
      "     max CPU time by SOLAR                                             or_csq  \\\n",
      "395                    118  Problems/Bio/glucolysis_kmet2_TPuniformshortdi...   \n",
      "83                     529  Problems/Bio/glucolysis_kmet4_TPuniformshortdi...   \n",
      "156                 237197  Problems/Bio/glucolysis_kmet8_TPuniformshortdi...   \n",
      "180                  79171  Problems/Bio/glucolysis_naiveEq4_TPuniformshor...   \n",
      "66                  525847  Problems/Bio/glucolysis_naiveEq8_TPuniformshor...   \n",
      "204                 432857  Problems/Bio/glucolysis_naiveEq6_TPuniformshor...   \n",
      "74                  104037  Problems/Bio/glucolysis_kmet6_TPuniformshortdi...   \n",
      "177                    150  Problems/Bio/glucolysis_naiveEq2_TPuniformshor...   \n",
      "\n",
      "     min consequences sent  nbAg+  root-extensions  or_numagent  \\\n",
      "395                      0      2              547            2   \n",
      "83                       0      4               50            4   \n",
      "156                      0      8               19            8   \n",
      "180                      0      4         41751643            4   \n",
      "66                       0      8            80772            8   \n",
      "204                      0      6          3027336            6   \n",
      "74                       0      6               25            6   \n",
      "177                      0      2              199            2   \n",
      "\n",
      "     min CPU time by SOLAR    distrib  min total size messages  inferences  \\\n",
      "395                     88     _kmet2                        4        1819   \n",
      "83                      45     _kmet4                       11      191174   \n",
      "156                     96     _kmet8                       11   195816132   \n",
      "180                     38  _naiveEq4                        7   124735835   \n",
      "66                      77  _naiveEq8                        5   799769132   \n",
      "204                     29  _naiveEq6                        4   578851478   \n",
      "74                      41     _kmet6                       12   234962677   \n",
      "177                     43  _naiveEq2                        3        1783   \n",
      "\n",
      "      ...    lengthvar  propvar  total time mn  methodvar      pbbase  \\\n",
      "395   ...            3        2       0.018950        max  glucolysis   \n",
      "83    ...            3        2       0.036500        max  glucolysis   \n",
      "156   ...            3        2      10.013617        max  glucolysis   \n",
      "180   ...            3        2       1.404217        max  glucolysis   \n",
      "66    ...            3        2      10.012400        max  glucolysis   \n",
      "204   ...            3        2      10.008283        max  glucolysis   \n",
      "74    ...            3        2       2.287617        max  glucolysis   \n",
      "177   ...            3        2       0.019033        max  glucolysis   \n",
      "\n",
      "     isprepar   prepar  propTP  \\\n",
      "395         1     kmet      10   \n",
      "83          1     kmet      10   \n",
      "156         1     kmet      10   \n",
      "180         1  naiveEq      10   \n",
      "66          1  naiveEq      10   \n",
      "204         1  naiveEq      10   \n",
      "74          1     kmet      10   \n",
      "177         1  naiveEq      10   \n",
      "\n",
      "                                                indagg  between  \n",
      "395  Problems/Bio/glucolysis_kmet2_TPuniformshortdi...        0  \n",
      "83   Problems/Bio/glucolysis_kmet4_TPuniformshortdi...        0  \n",
      "156  Problems/Bio/glucolysis_kmet8_TPuniformshortdi...        0  \n",
      "180  Problems/Bio/glucolysis_naiveEq4_TPuniformshor...        0  \n",
      "66   Problems/Bio/glucolysis_naiveEq8_TPuniformshor...        0  \n",
      "204  Problems/Bio/glucolysis_naiveEq6_TPuniformshor...        0  \n",
      "74   Problems/Bio/glucolysis_kmet6_TPuniformshortdi...        0  \n",
      "177  Problems/Bio/glucolysis_naiveEq2_TPuniformshor...        0  \n",
      "\n",
      "[8 rows x 70 columns]\n",
      "####################\n",
      "max CPU time by SOLAR                                                   74269\n",
      "or_csq                      Problems/Bio/glucolysis_TPnaiveshortdist_per10...\n",
      "min consequences sent                                                       0\n",
      "nbAg+                                                                       2\n",
      "root-extensions                                                       8439282\n",
      "or_numagent                                                                 2\n",
      "min CPU time by SOLAR                                                     143\n",
      "distrib                                                             _naiveEq2\n",
      "min total size messages                                                     3\n",
      "inferences                                                           52897207\n",
      "or_method                                                       DICF-PB-Async\n",
      "min extensions                                                           1283\n",
      "max inferences                                                       52894125\n",
      "nbConsequencesFound                                                         2\n",
      "root-CPU time by SOLAR                                                  74269\n",
      "nb Messages                                                                 7\n",
      "root-total size messages                                                   24\n",
      "max total size messages                                                    24\n",
      "max nb Messages                                                             4\n",
      "CPU time by SOLAR                                                       74412\n",
      "max extensions                                                        8439282\n",
      "or_dist                                                             _naiveEq2\n",
      "max clauses sents                                                           0\n",
      "consequences sent                                                           0\n",
      "method                                                          DICF-PB-Async\n",
      "root-clauses sents                                                          0\n",
      "nbCl_c1_non_subsumed                                                        0\n",
      "nbCl_c1                                                                     2\n",
      "nbCl_c2                                                                     2\n",
      "nbCl_c2_non_sub                                                             0\n",
      "                                                  ...                        \n",
      "var                                                             _max-2_ld3--1\n",
      "root-nb Messages                                                            4\n",
      "min clauses sents                                                           0\n",
      "root-inferences                                                      52894125\n",
      "total time                                                              77143\n",
      "infile_path                                                     Problems/Bio/\n",
      "root                                                                        0\n",
      "clauses sents                                                               0\n",
      "max consequences sent                                                       0\n",
      "timed_out                                                                   0\n",
      "min inferences                                                           3082\n",
      "infile                               glucolysis_TPnaiveshortdist_per10_seuil1\n",
      "extensions                                                            8440565\n",
      "problem                     Problems/Bio/glucolysis_TPnaiveshortdist_per10...\n",
      "total size messages                                                        27\n",
      "numagent                                                                    2\n",
      "csq                         Problems/Bio/glucolysis_TPnaiveshortdist_per10...\n",
      "dist                                                                _naiveEq2\n",
      "csq_mono                    Problems/Bio/glucolysis_TPnaiveshortdist_per10...\n",
      "tokenorder                                                                NaN\n",
      "lengthvar                                                                   3\n",
      "propvar                                                                     2\n",
      "total time mn                                                        1.285717\n",
      "methodvar                                                                 max\n",
      "pbbase                                                             glucolysis\n",
      "isprepar                                                                    0\n",
      "prepar                                                                    NaN\n",
      "propTP                                                                     10\n",
      "indagg                      Problems/Bio/glucolysis_TPnaiveshortdist_per10...\n",
      "between                                                                     0\n",
      "Name: 452, dtype: object\n",
      "ddddddddddd\n",
      "     CPU time by SOLAR  between  clauses sents  consequences sent  \\\n",
      "452              74412        0              0                  0   \n",
      "395                206        0              0                  0   \n",
      "83                 862        0              0                  0   \n",
      "156             242019        0              0                  0   \n",
      "180              82514        0              0                  0   \n",
      "66              990875        0              0                  0   \n",
      "204             460731        0              0                  0   \n",
      "74              151106        0              0                  0   \n",
      "177                193        0              0                  0   \n",
      "452              74412        0              0                  0   \n",
      "\n",
      "                                                   csq  \\\n",
      "452  Problems/Bio/glucolysis_TPnaiveshortdist_per10...   \n",
      "395  Problems/Bio/glucolysis_kmet2_TPuniformshortdi...   \n",
      "83   Problems/Bio/glucolysis_kmet4_TPuniformshortdi...   \n",
      "156  Problems/Bio/glucolysis_kmet8_TPuniformshortdi...   \n",
      "180  Problems/Bio/glucolysis_naiveEq4_TPuniformshor...   \n",
      "66   Problems/Bio/glucolysis_naiveEq8_TPuniformshor...   \n",
      "204  Problems/Bio/glucolysis_naiveEq6_TPuniformshor...   \n",
      "74   Problems/Bio/glucolysis_kmet6_TPuniformshortdi...   \n",
      "177  Problems/Bio/glucolysis_naiveEq2_TPuniformshor...   \n",
      "452  Problems/Bio/glucolysis_TPnaiveshortdist_per10...   \n",
      "\n",
      "                                              csq_mono       dist    distrib  \\\n",
      "452  Problems/Bio/glucolysis_TPnaiveshortdist_per10...  _naiveEq2  _naiveEq2   \n",
      "395  Problems/Bio/glucolysis_kmet2_TPuniformshortdi...     _kmet2     _kmet2   \n",
      "83   Problems/Bio/glucolysis_kmet4_TPuniformshortdi...     _kmet4     _kmet4   \n",
      "156  Problems/Bio/glucolysis_kmet8_TPuniformshortdi...     _kmet8     _kmet8   \n",
      "180  Problems/Bio/glucolysis_naiveEq4_TPuniformshor...  _naiveEq4  _naiveEq4   \n",
      "66   Problems/Bio/glucolysis_naiveEq8_TPuniformshor...  _naiveEq8  _naiveEq8   \n",
      "204  Problems/Bio/glucolysis_naiveEq6_TPuniformshor...  _naiveEq6  _naiveEq6   \n",
      "74   Problems/Bio/glucolysis_kmet6_TPuniformshortdi...     _kmet6     _kmet6   \n",
      "177  Problems/Bio/glucolysis_naiveEq2_TPuniformshor...  _naiveEq2  _naiveEq2   \n",
      "452  Problems/Bio/glucolysis_TPnaiveshortdist_per10...  _naiveEq2  _naiveEq2   \n",
      "\n",
      "     extensions                                             indagg  \\\n",
      "452     8440565  Problems/Bio/glucolysis_TPnaiveshortdist_per10...   \n",
      "395         746  Problems/Bio/glucolysis_kmet2_TPuniformshortdi...   \n",
      "83        68365  Problems/Bio/glucolysis_kmet4_TPuniformshortdi...   \n",
      "156    50043408  Problems/Bio/glucolysis_kmet8_TPuniformshortdi...   \n",
      "180    43095995  Problems/Bio/glucolysis_naiveEq4_TPuniformshor...   \n",
      "66    227632238  Problems/Bio/glucolysis_naiveEq8_TPuniformshor...   \n",
      "204   165453935  Problems/Bio/glucolysis_naiveEq6_TPuniformshor...   \n",
      "74     70330677  Problems/Bio/glucolysis_kmet6_TPuniformshortdi...   \n",
      "177         732  Problems/Bio/glucolysis_naiveEq2_TPuniformshor...   \n",
      "452     8440565  Problems/Bio/glucolysis_TPnaiveshortdist_per10...   \n",
      "\n",
      "         ...        root-extensions root-inferences root-nb Messages  \\\n",
      "452      ...                8439282        52894125                4   \n",
      "395      ...                    547            1326                4   \n",
      "83       ...                     50             121                5   \n",
      "156      ...                     19              53                7   \n",
      "180      ...               41751643       119940586                4   \n",
      "66       ...                  80772          232347               29   \n",
      "204      ...                3027336         8988917                7   \n",
      "74       ...                     25              66                8   \n",
      "177      ...                    199             492                3   \n",
      "452      ...                8439282        52894125                4   \n",
      "\n",
      "     root-total size messages  timed_out  tokenorder  total size messages  \\\n",
      "452                        24          0         NaN                   27   \n",
      "395                         4          0         NaN                    8   \n",
      "83                         11          0         NaN                   65   \n",
      "156                        11          1         NaN                  451   \n",
      "180                        24          0         NaN                   65   \n",
      "66                        129          1         NaN                  562   \n",
      "204                        65          1         NaN                  239   \n",
      "74                         12          0         NaN                  244   \n",
      "177                         4          0         NaN                    7   \n",
      "452                        24          0         NaN                   27   \n",
      "\n",
      "     total time  total time mn            var  \n",
      "452       77143       1.285717  _max-2_ld3--1  \n",
      "395        1137       0.018950  _max-2_ld3--1  \n",
      "83         2190       0.036500  _max-2_ld3--1  \n",
      "156      600817      10.013617  _max-2_ld3--1  \n",
      "180       84253       1.404217  _max-2_ld3--1  \n",
      "66       600744      10.012400  _max-2_ld3--1  \n",
      "204      600497      10.008283  _max-2_ld3--1  \n",
      "74       137257       2.287617  _max-2_ld3--1  \n",
      "177        1142       0.019033  _max-2_ld3--1  \n",
      "452       77143       1.285717  _max-2_ld3--1  \n",
      "\n",
      "[10 rows x 70 columns]\n"
     ]
    }
   ],
   "source": [
    "#indPbDist = [635,      ,      , ]\n",
    "#indPbNonDist= [ 127,    138,   , ]\n",
    "i = 635\n",
    "iDf = indL[i]\n",
    "dfOr = dfOrig.loc[iDf,['indagg','infile', 'method', 'var', 'csq', 'dist', 'numagent','total time mn']]\n",
    "print dfOr\n",
    "print pbMultL[i]\n",
    "\n",
    "var = dfOr['var']\n",
    "#on cherche le pb normal sans prédistribution associé\n",
    "df = dfMulti[dfMulti['infile'].str.contains('TPnaiveshortdist_per10_s')]\n",
    "df = df[df['var'] == var]\n",
    "df=df[df['method'].str.contains('Async')]\n",
    "#print df\n",
    "print 'ILOC'\n",
    "print df.iloc[0]\n",
    "dfRes =pd.DataFrame()\n",
    "dfRes = dfRes.append(df.iloc[0])\n",
    "print 'DFDFDFDFDFDFDFDF', dfRes\n",
    "\n",
    "#on cherche les pb multi prédistriubés associé mais pour plus d'agents\n",
    "print 'fffffffffffffffff'\n",
    "df = dfMulti[dfMulti['infile'].str.contains('TPuniformshortdist_per10_s')]\n",
    "df = df[df['var'] == var]\n",
    "#take only one method for instance where \n",
    "df=df[df['method'].str.contains('Async')]\n",
    "print df\n",
    "dfRes = pd.concat([dfRes, df])\n",
    "\n",
    "\n",
    "print '####################'\n",
    "i = 127\n",
    "iDf = indL[i]\n",
    "var = dfOr['var']\n",
    "#on cherche le pb normal sans prédistribution associé\n",
    "df = dfMulti[dfMulti['infile'].str.contains('TPnaiveshortdist_per10_s')]\n",
    "df = df[df['var'] == var]\n",
    "df=df[df['method'].str.contains('Async')]\n",
    "#print df\n",
    "print df.iloc[0]\n",
    "dfRes = dfRes.append(df.iloc[0])\n",
    "\n",
    "\n",
    "\n",
    "dfRes.to_csv('base_problems_MULTI.csv',index=False)\n",
    "\n",
    "print 'ddddddddddd'\n",
    "print dfRes"
   ]
  },
  {
   "cell_type": "code",
   "execution_count": null,
   "metadata": {
    "collapsed": true
   },
   "outputs": [],
   "source": []
  }
 ],
 "metadata": {
  "kernelspec": {
   "display_name": "Python 2",
   "language": "python",
   "name": "python2"
  },
  "language_info": {
   "codemirror_mode": {
    "name": "ipython",
    "version": 2
   },
   "file_extension": ".py",
   "mimetype": "text/x-python",
   "name": "python",
   "nbconvert_exporter": "python",
   "pygments_lexer": "ipython2",
   "version": "2.7.10"
  }
 },
 "nbformat": 4,
 "nbformat_minor": 0
}
