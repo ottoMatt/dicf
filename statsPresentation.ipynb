{
 "cells": [
  {
   "cell_type": "markdown",
   "metadata": {},
   "source": [
    "#Data Loading"
   ]
  },
  {
   "cell_type": "code",
   "execution_count": 103,
   "metadata": {
    "collapsed": false
   },
   "outputs": [
    {
     "name": "stdout",
     "output_type": "stream",
     "text": [
      "nb de Pb mono ne faisant pas de time out 2717\n",
      "nb de Pb Mono faisant un timeout ou échouant 725\n",
      "nb de Pb Multi total 12144\n",
      "nb de Pb Multi faisant un timeout 7773\n"
     ]
    }
   ],
   "source": [
    "#TODO refactorer pour que chaque segment soit le plus indépendant possible)\n",
    "%matplotlib inline\n",
    "import pandas as pd\n",
    "import numpy as np#do not use inplace = True !! unstable behaviour between slices, views, chains indexing etc...\n",
    "import csv\n",
    "import matplotlib.pylab as plt\n",
    "import os\n",
    "def readAll(path, problemFilename):\n",
    "    '''merge all files whose name contains filename in the dir path'''\n",
    "    frames=[]\n",
    "    for filename in os.listdir(path) :\n",
    "        if not problemFilename in filename:\n",
    "            continue\n",
    "        dftemp = pd.read_csv(path+filename, header=0,sep = ',|;',engine = 'python')  \n",
    "        frames.append(dftemp)\n",
    "    return pd.concat(frames)    \n",
    "\n",
    "path = '/home/magma/BIO_mono_multi_debrief/stats/newstats/'\n",
    "\n",
    "generatedProblems = 'generated_MONO_problems.csv'\n",
    "finishingProblems = 'finishing_MONO_problems.csv'\n",
    "failedProblems = 'failed_MONO_problems.csv'\n",
    "multiProblems = 'running_stats_MULTI_problems' \n",
    "  \n",
    "dfGen =readAll(path,generatedProblems)#check nb of problems  : too many\n",
    "dfFin =readAll(path,finishingProblems)       \n",
    "dfFail=readAll(path,failedProblems)  \n",
    "dfMulti=readAll(path, multiProblems) # on n'a pas fait tourner le agent 8 a fond pour tout : \n",
    "#comme aucun ne finissait sous 10mn  \n",
    "\n",
    "print 'nb de Pb mono ne faisant pas de time out',len(dfFin.index)\n",
    "print 'nb de Pb Mono faisant un timeout ou échouant',len(dfFail.index)\n",
    "print 'nb de Pb Multi total', len(dfMulti.index)\n",
    "print 'nb de Pb Multi faisant un timeout', len(dfMulti[dfMulti['timed_out']==1])"
   ]
  },
  {
   "cell_type": "markdown",
   "metadata": {},
   "source": [
    "#Data Munging \n",
    "columns extraction, renaming, dropping incomplete data ..."
   ]
  },
  {
   "cell_type": "code",
   "execution_count": 104,
   "metadata": {
    "collapsed": false
   },
   "outputs": [
    {
     "name": "stdout",
     "output_type": "stream",
     "text": [
      "0  lignes nulles ont été enlevées\n",
      "             var lengthvar\n",
      "0  _max-3_ld1--1         1\n",
      "1  _max-3_ld1--1         1\n",
      "             var propvar\n",
      "0  _max-3_ld1--1       3\n",
      "1  _max-3_ld1--1       3\n",
      "2  _max-3_ld1--1       3\n",
      "3  _max-4_ld1--1       4\n",
      "4  _max-4_ld1--1       4\n",
      "0    max\n",
      "1    max\n",
      "2    max\n",
      "3    max\n",
      "4    max\n",
      "Name: methodvar, dtype: object\n",
      "                                    infile      pbbase\n",
      "0  glucolysis_TPnaiveshortdist_per1_seuil1  glucolysis\n",
      "1  glucolysis_TPnaiveshortdist_per1_seuil1  glucolysis\n",
      "2  glucolysis_TPnaiveshortdist_per1_seuil1  glucolysis\n",
      "3  glucolysis_TPnaiveshortdist_per1_seuil1  glucolysis\n",
      "4  glucolysis_TPnaiveshortdist_per1_seuil1  glucolysis\n",
      "0    0\n",
      "1    0\n",
      "2    0\n",
      "3    0\n",
      "4    0\n",
      "Name: isprepar, dtype: int64\n",
      "12144\n",
      "5599\n",
      "5599\n",
      "0\n",
      "                                    infile  propTP\n",
      "0  glucolysis_TPnaiveshortdist_per1_seuil1     0.3\n",
      "1  glucolysis_TPnaiveshortdist_per1_seuil1     0.3\n",
      "2  glucolysis_TPnaiveshortdist_per1_seuil1     0.3\n",
      "3  glucolysis_TPnaiveshortdist_per1_seuil1     0.3\n",
      "4  glucolysis_TPnaiveshortdist_per1_seuil1     0.3\n",
      "                                    infile  propTP\n",
      "0  glucolysis_TPnaiveshortdist_per1_seuil1       1\n",
      "1  glucolysis_TPnaiveshortdist_per1_seuil1       1\n",
      "2  glucolysis_TPnaiveshortdist_per1_seuil1       1\n",
      "3  glucolysis_TPnaiveshortdist_per1_seuil1       1\n",
      "4  glucolysis_TPnaiveshortdist_per1_seuil1       1\n",
      "0            NaN\n",
      "1    0-1-2-3-4-5\n",
      "2    4-5-0-1-2-3\n",
      "3            NaN\n",
      "Name: tokenorder, dtype: object\n",
      "0     DICF-PB-Star\n",
      "1    DICF-PB-Token\n",
      "2    DICF-PB-Token\n",
      "3    DICF-PB-Async\n",
      "Name: method, dtype: object\n",
      "[0]\n",
      "dropping : max CPU time by SOLAR :: max\n",
      "dropping : min consequences sent :: sent\n",
      "dropping : root-extensions :: root\n",
      "dropping : min CPU time by SOLAR :: CPU\n",
      "dropping : max inferences :: max\n",
      "dropping : root-CPU time by SOLAR :: root\n",
      "dropping : root-total size messages :: root\n",
      "dropping : max total size messages :: max\n",
      "dropping : max nb Messages :: max\n",
      "dropping : CPU time by SOLAR :: CPU\n",
      "dropping : max extensions :: max\n",
      "dropping : max clauses sents :: max\n",
      "dropping : consequences sent :: sent\n",
      "dropping : root-clauses sents :: sent\n",
      "dropping : nbCl_c1_non_subsumed :: Cl\n",
      "dropping : nbCl_c1 :: Cl\n",
      "dropping : nbCl_c2 :: Cl\n",
      "dropping : nbCl_c2_non_sub :: Cl\n",
      "dropping : nbTimesCl_subs_min :: Cl\n",
      "dropping : nbTimesCl_subs_non_min :: Cl\n",
      "dropping : nbCl_c1_subsumed_non_min :: Cl\n",
      "dropping : nbCl_c1_subsumed_min :: Cl\n",
      "dropping : nbCl_c2_sub_min :: Cl\n",
      "dropping : nbCl_c2_sub_non_min :: Cl\n",
      "dropping : nbCl_c1_tot_present :: sent\n",
      "dropping : root-consequences sent :: sent\n",
      "dropping : root-nb Messages :: root\n",
      "dropping : min clauses sents :: sent\n",
      "dropping : root-inferences :: root\n",
      "dropping : root :: root\n",
      "dropping : clauses sents :: sent\n",
      "dropping : max consequences sent :: max\n",
      "Index([u'or_csq', u'nbAg+', u'or_numagent', u'distrib',\n",
      "       u'min total size messages', u'inferences', u'or_method',\n",
      "       u'min extensions', u'nbConsequencesFound', u'nb Messages', u'or_dist',\n",
      "       u'method', u'or_csq_mono', u'min nb Messages', u'var', u'total time',\n",
      "       u'infile_path', u'timed_out', u'min inferences', u'infile',\n",
      "       u'extensions', u'problem', u'total size messages', u'numagent', u'csq',\n",
      "       u'dist', u'tokenorder', u'lengthvar', u'propvar', u'total time mn',\n",
      "       u'methodvar', u'pbbase', u'isprepar', u'prepar', u'propTP'],\n",
      "      dtype='object')\n"
     ]
    }
   ],
   "source": [
    "def splitTokenMeth(df):\n",
    "    df['tokenorder'] = np.nan\n",
    "    df.loc[df['method'].str.contains(\"Token\"),'tokenorder'] = df.loc[df['method'].str.contains(\"Token\"),'method'].replace(to_replace=r'DICF-PB-Token-FixedOrder-', value=r\"\",regex=True)\n",
    "    df.loc[df['method'].str.contains(\"Token\"),'method']= 'DICF-PB-Token'\n",
    "def renameParamsOr(df):\n",
    "    #df.columns = df.columns.str.replace('or_','')\n",
    "    #columnsD = {'or_method' : 'method', 'or_numagent' : 'numagent', 'or_csq' : 'csq','or_dist':'dist'}\n",
    "    #df.rename(columns=columnsD, inplace= True)   \n",
    "    df['method'] = df['or_method']\n",
    "    df['numagent'] = df['or_numagent']\n",
    "    df['csq'] = df['or_csq']\n",
    "    df['dist'] = df['or_dist']\n",
    "    \n",
    "def addParameters(dfMulti):\n",
    "    # on ajoute les paramètres de distribution trouvés dans le filename\n",
    "    #ici par exemple\n",
    "    dfMulti['lengthvar'] = dfMulti['var']\n",
    "    dfMulti['lengthvar'].replace(to_replace=r'\\w+(-\\d+)?_ld([\\d-]+)--1', value=r\"\\2\",inplace=True,regex=True) \n",
    "    print dfMulti[['var','lengthvar']].head(2)\n",
    "    dfMulti['lengthvar']=dfMulti['lengthvar'].convert_objects(convert_numeric = True)\n",
    "    \n",
    "    #moyen un peu compliqué mais bon ca marche...\n",
    "    dfMulti['propvar'] = np.nan\n",
    "    #s = dfMulti.loc[~dfMulti['var'].str.contains(\"all\")].loc[:,'propvar']\n",
    "    #s = dfMulti.loc[~dfMulti['var'].str.contains(\"all\")].replace(to_replace=r'\\w+(-(\\d+))?_ld([\\d-]+)--1', value=r\"\\2\",regex=True) \n",
    "    dfMulti.loc[~dfMulti['var'].str.contains(\"all\"),'propvar']=dfMulti.loc[~dfMulti['var'].str.contains(\"all\"),'var'].replace(to_replace=r'\\w+(-(\\d+))?_ld([\\d-]+)--1', value=r\"\\2\",regex=True)\n",
    "    print dfMulti[['var','propvar']].head()\n",
    "    dfMulti['propvar']=dfMulti['propvar'].convert_objects(convert_numeric = True)\n",
    "    \n",
    "    dfMulti['total time mn'] = dfMulti['total time']/60./1000.\n",
    "    #glucolysis\n",
    "    #_TPnaiveshortdist_per10_seuil1\n",
    "    #_kmet6_TPuniformshortdist_per10_seuil1\n",
    "    #glucolysis_naiveEq4_TPuniformshortdist_per1_seuil1\n",
    "    \n",
    "    dfMulti['methodvar'] = dfMulti['var'].replace(to_replace=r\".(...).*\", value=r\"\\1\", regex= True )\n",
    "    print dfMulti['methodvar'].head()\n",
    "    \n",
    "    \n",
    "    #pbBase\n",
    "    dfMulti['pbbase'] = dfMulti['infile'].replace(to_replace = r'_.*',value ='',regex=True)\n",
    "    print dfMulti[['infile', 'pbbase']].head()\n",
    "    \n",
    "    #prepartition\n",
    "    dfMulti['isprepar'] = 0\n",
    "    print dfMulti['isprepar'].head()    \n",
    "    dfMulti.loc[dfMulti['infile'].str.contains(r'_kmet|_naiveEq', regex=True),'isprepar'] = 1\n",
    "    print len(dfMulti)\n",
    "    print dfMulti.loc[dfMulti['isprepar'] == 1,'isprepar'].sum()\n",
    "    print len(dfMulti.loc[dfMulti['isprepar'] == 1].index)\n",
    "    print dfMulti.loc[dfMulti['isprepar'] == 0,'isprepar'].sum()\n",
    "    \n",
    "    #type de prepartition\n",
    "    dfMulti['prepar'] = np.nan\n",
    "    dfMulti.loc[dfMulti['infile'].str.contains(r'_kmet', regex=True),'prepar'] = 'kmet'\n",
    "    dfMulti.loc[dfMulti['infile'].str.contains(r'_naiveEq', regex=True),'prepar'] = 'naiveEq'\n",
    "    \n",
    "    #percentage de distribution\n",
    "    #regex= r\"\\w*_TPuniformshortdist_per(|\\d+)_seuil\\w*|\\w*TPnaiveshortdist_per(|\\d+)_seuil\\w*\"\n",
    "    regexPreD = r\"\\w*_TPuniformshortdist_per(\\d+)_seuil\\w*\"\n",
    "    regexNPreD = r\"\\w*TPnaiveshortdist_per(\\d+)_seuil\\w*\"\n",
    "    dfMulti['propTP']= 0.3#c'est le nb approximé de Top clause de glucolysis (il y en a  un)\n",
    "    print dfMulti[['infile', 'propTP']].head(5)\n",
    "    #dfMulti.loc[dfMulti['infile'].str.contains('TPuniformshortdist'),'propTP'].replace(to_replace = regexPreD ,value =r\"\\1\",inplace=True,regex=True)\n",
    "    #dfMulti.loc[dfMulti['propTP'].str.contains('TPnaiveshortdist'),'propTP'].replace(to_replace = regexNPreD ,value =r\"\\1\",inplace=True,regex=True)\n",
    "    \n",
    "    dfMulti.loc[dfMulti['infile'].str.contains('TPuniformshortdist'),'propTP']=dfMulti.loc[dfMulti['infile'].str.contains('TPuniformshortdist'),'infile'].replace(to_replace = regexPreD ,value =r\"\\1\",regex=True)\n",
    "    dfMulti.loc[dfMulti['infile'].str.contains('TPnaiveshortdist'),'propTP']=dfMulti.loc[dfMulti['infile'].str.contains('TPnaiveshortdist'),'infile'].replace(to_replace = regexNPreD ,value =r\"\\1\",regex=True)\n",
    "    dfMulti['propTP'] = dfMulti['propTP'].convert_objects(convert_numeric = True)\n",
    "    #unmatched group error\n",
    "    #dfMulti.loc[:,'propTP']=dfMulti['propTP'].replace(to_replace = regex ,value =r\"\\1\\2\",regex=True)\n",
    "    print dfMulti[['infile', 'propTP']].head(5)\n",
    "    \n",
    "def drop_values (valuesToDrop, df):\n",
    "    '''\n",
    "    if contains (not strict equality here...)\n",
    "    '''\n",
    "    new_df = df\n",
    "    for columnName in list(df.columns.values) :\n",
    "        for v in valuesToDrop :\n",
    "            if v in columnName :    \n",
    "                print 'dropping :',columnName,'::',v \n",
    "                df.drop([columnName],axis = 1, inplace=True)\n",
    "                break\n",
    "#methode alternative    \n",
    "def replace_meth(x):\n",
    "    method=x['method']\n",
    "    if 'DICF-PB-Async' in method or 'DICF-PB-Star' in method :\n",
    "        return method\n",
    "    elif 'Token' in method :\n",
    "        return 'DICF-PB-Token'\n",
    "    else :\n",
    "        return method    \n",
    "def splitParams(df):\n",
    "    #create new filed and assign previous agg value and then apply replacw fun on it\n",
    "    df['method']=df.apply(replace_meth, axis=1)\n",
    "\n",
    "#RAJOUTER LES PARAMETRES = A ÉTÉ DISTRIBUÉ ETC... EN SPLITANT LE FILENAME, METTRE DES \n",
    "#ici on enlève le slignes qui ont au moins une valeur nan, ICI IL N, Y EN A PAS \n",
    "\n",
    "\n",
    "#MONO\n",
    "dfFin['total time mn'] = dfFin['total time']/60./1000.\n",
    "\n",
    "#MULTI\n",
    "nbRows = len(dfMulti.index)\n",
    "nbCol = len(dfMulti.columns)\n",
    "res = dfMulti.dropna(how='any')\n",
    "print (nbRows - len(dfMulti.index)), ' lignes nulles ont été enlevées'\n",
    "\n",
    "renameParamsOr(dfMulti)\n",
    "splitTokenMeth(dfMulti)\n",
    "addParameters(dfMulti)\n",
    "print dfMulti['tokenorder'].head(4)\n",
    "print dfMulti['method'].head(4)\n",
    "print np.unique(dfMulti['root'].values)\n",
    "valuesToDrop = ['max', 'sent','root', 'CPU','Cl']#, 'csq']\n",
    "drop_values (valuesToDrop, dfMulti)\n",
    "\n",
    "#splitParams(dfMulti)\n",
    "print dfMulti.columns\n",
    "\n"
   ]
  },
  {
   "cell_type": "markdown",
   "metadata": {},
   "source": [
    "#Visualize duplicates\n",
    "& drop"
   ]
  },
  {
   "cell_type": "code",
   "execution_count": 105,
   "metadata": {
    "collapsed": false
   },
   "outputs": [
    {
     "name": "stdout",
     "output_type": "stream",
     "text": [
      "il y a  541  doublons enlevés\n",
      "ex de doublon :                                               infile        method  \\\n",
      "18  glucolysis_kmet6_TPuniformshortdist_per10_seuil1  DICF-PB-Star   \n",
      "\n",
      "            var    dist  numagent  \n",
      "18  _all_ld4--1  _kmet6         6  \n",
      "Int64Index([21890,  3709,  3579,   279,  8432,  3639,  3687,   235, 12470,\n",
      "             1269, \n",
      "            ...\n",
      "             8434,   657, 11477,  1274,  4041,  1132,  3627,  3679,  4046,\n",
      "             1282],\n",
      "           dtype='int64', length=684)\n",
      "anomalies en mn au dessus de  0.5 :  [(143, -2.8473999999999999), (286, -2.1498166666666667), (542, -1.9669333333333334), (585, 1.0187666666666666), (630, 0.66986666666666672)]\n"
     ]
    },
    {
     "data": {
      "image/png": "[encoded data removed]",
      "text/plain": [
       "<matplotlib.figure.Figure at 0x7f05685f1d50>"
      ]
     },
     "metadata": {},
     "output_type": "display_data"
    }
   ],
   "source": [
    "import math\n",
    "def gettimes(df,doublons,i):\n",
    "    df_clear = df[['infile', 'method', 'var', 'csq', 'dist', 'numagent','total time']]\n",
    "    d1 = doublons[['infile', 'method', 'var', 'csq', 'dist', 'numagent']].loc[i]\n",
    "  \n",
    "    df_doublons= df_clear[d1 == df_clear ]\n",
    "    df_doublons['total time'] = df_clear['total time']\n",
    "    df_end = df_doublons.dropna(thresh=7) \n",
    "    if len(df_end.index)>1 :\n",
    "        #print df_end[['infile', 'method', 'var', 'csq', 'dist', 'numagent','total time']].iloc[:2]\n",
    "        return df_end['total time'].iloc[0],df_end['total time'].iloc[1]\n",
    "    else:\n",
    "        return 0,0\n",
    "\n",
    "def show_duplicates(df, idset):\n",
    "    '''\n",
    "    subset are the colums identifying a problem, (all but measures)\n",
    "    \n",
    "    see if indexing plays a part in it...\n",
    "    '''\n",
    "    \n",
    "    nbOr= len(df.index)\n",
    "    df_deduplicated = df.drop_duplicates(subset = idset ,take_last = True)\n",
    "    nbDest= len(df_deduplicated.index)\n",
    "    print 'il y a ', nbOr - nbDest, ' doublons enlevés'\n",
    "    \n",
    "    df_cat = pd.concat([df, df_deduplicated])\n",
    "    df_cat = df_cat.reset_index(drop=True)\n",
    "    \n",
    "    df_gpby = df_cat.groupby(list(df_cat.columns))\n",
    "    df_gpby.groups.values()\n",
    "    \n",
    "    #on prend les index des problèmes qui ne sont pas en double : qui ont été droppés\n",
    "    idx = [x[0] for x in df_gpby.groups.values() if len(x) == 1]\n",
    "    doublons = df_cat.reindex(idx)\n",
    "    \n",
    "    #test pour récupérer le premier doublon de la liste\n",
    "    df_clear = df[['infile', 'method', 'var', 'csq', 'dist', 'numagent','total time']]\n",
    "    d1 = doublons[['infile', 'method', 'var', 'csq', 'dist', 'numagent']].iloc[0]\n",
    "  \n",
    "    df_doublons= df_clear[d1 == df_clear ]\n",
    "    df_doublons['total time'] = df_clear['total time']\n",
    "    df_end = df_doublons.dropna(thresh=7) \n",
    "    print 'ex de doublon :',df_end[['infile', 'method', 'var', 'dist', 'numagent']]\n",
    "    \n",
    "    #on récupère le temps d'exéc des doublons pour les comparer\n",
    "    size = len(doublons.index)\n",
    "    print doublons.index\n",
    "    \n",
    "    values = [gettimes(df,doublons,i) for i in doublons.index]\n",
    "    y1 = [(v[0] - v[1])/60./1000. for v in values]\n",
    "    \n",
    "    thresh = 0.5\n",
    "    anomalies =[(ind,v) for ind,v in enumerate(y1) if math.fabs(v) > thresh]\n",
    "    xAnomalies = [ind for ind, v in anomalies]\n",
    "    print 'anomalies en mn au dessus de ',thresh,': ',anomalies \n",
    "    plt.plot(y1)    \n",
    "    plt.title('difference de temps en min entre 2 doublons')\n",
    "    plt.ylabel('temps mn')\n",
    "    plt.show()\n",
    "idset = ['infile_path', 'infile', 'method', 'var', 'csq', 'dist', 'numagent','problem']\n",
    "show_duplicates(dfMulti,idset)\n",
    "dfMulti = dfMulti.drop_duplicates(subset = idset ,take_last = True)"
   ]
  },
  {
   "cell_type": "markdown",
   "metadata": {},
   "source": [
    "on voit que c'est négligeable, bien que les données soient très limoitées (400 doublons seulement) on peut être rassuré sur les conditions d'expériences qui sont à peu près les mêmes (pour que ce soit strict il faudrait faire les exériences sur toujours les mêmes machines)"
   ]
  },
  {
   "cell_type": "markdown",
   "metadata": {},
   "source": [
    "#Export Data As Now\n",
    "here we export the whole data for analysis in another framework\n"
   ]
  },
  {
   "cell_type": "code",
   "execution_count": 6,
   "metadata": {
    "collapsed": false
   },
   "outputs": [],
   "source": [
    "dfMulti.to_csv('MERGED_'+multiProblems+'.csv')\n",
    "dfFin.to_csv('MERGED_'+finishingProblems+'.csv')"
   ]
  },
  {
   "cell_type": "markdown",
   "metadata": {},
   "source": [
    "#Basic Stats"
   ]
  },
  {
   "cell_type": "code",
   "execution_count": 7,
   "metadata": {
    "collapsed": false
   },
   "outputs": [
    {
     "name": "stdout",
     "output_type": "stream",
     "text": [
      "       timeout     numagent  max CPU time by SOLAR  min consequences sent  \\\n",
      "count     2717  2374.000000            2717.000000                   2717   \n",
      "mean   2000000     4.906487           39262.775488                      0   \n",
      "std          0     2.195774           76295.847216                      0   \n",
      "min    2000000     2.000000            1764.000000                      0   \n",
      "25%    2000000     2.000000            6021.000000                      0   \n",
      "50%    2000000     4.000000           11259.000000                      0   \n",
      "75%    2000000     6.000000           34662.000000                      0   \n",
      "max    2000000     8.000000          833951.000000                      0   \n",
      "\n",
      "       nbAg+  root-extensions  min CPU time by SOLAR  min total size messages  \\\n",
      "count   2717     2.717000e+03            2717.000000                     2717   \n",
      "mean       1     1.187889e+07           39262.775488                        0   \n",
      "std        0     1.887542e+07           76295.847216                        0   \n",
      "min        1     3.654990e+05            1764.000000                        0   \n",
      "25%        1     1.691689e+06            6021.000000                        0   \n",
      "50%        1     4.755684e+06           11259.000000                        0   \n",
      "75%        1     1.407534e+07           34662.000000                        0   \n",
      "max        1     1.825511e+08          833951.000000                        0   \n",
      "\n",
      "         inferences  min extensions      ...        min clauses sents  \\\n",
      "count  2.717000e+03    2.717000e+03      ...                     2717   \n",
      "mean   2.992231e+07    1.187889e+07      ...                        0   \n",
      "std    4.787287e+07    1.887542e+07      ...                        0   \n",
      "min    8.864950e+05    3.654990e+05      ...                        0   \n",
      "25%    4.250828e+06    1.691689e+06      ...                        0   \n",
      "50%    1.311143e+07    4.755684e+06      ...                        0   \n",
      "75%    3.518540e+07    1.407534e+07      ...                        0   \n",
      "max    4.612787e+08    1.825511e+08      ...                        0   \n",
      "\n",
      "       root-inferences      total time  root  clauses sents  \\\n",
      "count     2.717000e+03     2717.000000  2717           2717   \n",
      "mean      2.992231e+07   309278.735002     0              0   \n",
      "std       4.787287e+07   495655.922116     0              0   \n",
      "min       8.864950e+05     3247.000000     0              0   \n",
      "25%       4.250828e+06    74475.000000     0              0   \n",
      "50%       1.311143e+07   120995.000000     0              0   \n",
      "75%       3.518540e+07   324317.000000     0              0   \n",
      "max       4.612787e+08  4957833.000000     0              0   \n",
      "\n",
      "       max consequences sent  min inferences    extensions  \\\n",
      "count                   2717    2.717000e+03  2.717000e+03   \n",
      "mean                       0    2.992231e+07  1.187889e+07   \n",
      "std                        0    4.787287e+07  1.887542e+07   \n",
      "min                        0    8.864950e+05  3.654990e+05   \n",
      "25%                        0    4.250828e+06  1.691689e+06   \n",
      "50%                        0    1.311143e+07  4.755684e+06   \n",
      "75%                        0    3.518540e+07  1.407534e+07   \n",
      "max                        0    4.612787e+08  1.825511e+08   \n",
      "\n",
      "       total size messages  total time mn  \n",
      "count                 2717    2717.000000  \n",
      "mean                     0       5.154646  \n",
      "std                      0       8.260932  \n",
      "min                      0       0.054117  \n",
      "25%                      0       1.241250  \n",
      "50%                      0       2.016583  \n",
      "75%                      0       5.405283  \n",
      "max                      0      82.630550  \n",
      "\n",
      "[8 rows x 35 columns]\n",
      "number of rows 2717\n",
      "number of column 45\n",
      "['infile_path' 'infile' 'outfile' 'method' 'timeout' 'var' 'csq' 'dist'\n",
      " 'numagent' 'max CPU time by SOLAR' 'min consequences sent' 'nbAg+'\n",
      " 'root-extensions' 'min CPU time by SOLAR' 'distrib'\n",
      " 'min total size messages' 'inferences' 'min extensions' 'max inferences'\n",
      " 'nbConsequencesFound' 'root-CPU time by SOLAR' 'nb Messages'\n",
      " 'root-total size messages' 'max total size messages' 'max nb Messages'\n",
      " 'CPU time by SOLAR' 'max extensions' 'max clauses sents'\n",
      " 'consequences sent' 'method.1' 'root-clauses sents' 'min nb Messages'\n",
      " 'root-consequences sent' 'root-nb Messages' 'min clauses sents'\n",
      " 'root-inferences' 'total time' 'root' 'clauses sents'\n",
      " 'max consequences sent' 'min inferences' 'extensions' 'problem'\n",
      " 'total size messages' 'total time mn']\n",
      "              nbAg+   or_numagent  min total size messages    inferences  \\\n",
      "count  11603.000000  11603.000000             11603.000000  1.160300e+04   \n",
      "mean       5.043006      5.043523                10.758855  8.731114e+07   \n",
      "std        2.044277      2.043928                10.670591  1.747080e+08   \n",
      "min        2.000000      2.000000                 0.000000  1.652000e+03   \n",
      "25%        4.000000      4.000000                 4.000000  3.963200e+04   \n",
      "50%        6.000000      6.000000                 8.000000  3.827802e+06   \n",
      "75%        6.000000      6.000000                13.000000  8.995627e+07   \n",
      "max        8.000000      8.000000                86.000000  1.409346e+09   \n",
      "\n",
      "        min extensions  nbConsequencesFound   nb Messages  min nb Messages  \\\n",
      "count     11603.000000         11603.000000  11603.000000     11603.000000   \n",
      "mean      22629.793157             4.457554     40.187796         4.282255   \n",
      "std     1140986.176099            36.328585     36.527891         1.882715   \n",
      "min           0.000000             0.000000      4.000000         1.000000   \n",
      "25%          21.000000             0.000000     15.000000         3.000000   \n",
      "50%          48.000000             1.000000     30.000000         4.000000   \n",
      "75%         178.000000             3.000000     53.000000         6.000000   \n",
      "max    61415385.000000           792.000000    199.000000        11.000000   \n",
      "\n",
      "          total time     timed_out  min inferences    extensions  \\\n",
      "count   11603.000000  11603.000000    1.160300e+04  1.160300e+04   \n",
      "mean   410550.226752      0.660088    1.104064e+05  2.563899e+07   \n",
      "std    269184.045164      0.473699    5.705369e+06  5.109585e+07   \n",
      "min      1099.000000      0.000000    0.000000e+00  5.430000e+02   \n",
      "25%     36799.000000      0.000000    5.800000e+01  1.336100e+04   \n",
      "50%    600540.000000      1.000000    1.180000e+02  1.299802e+06   \n",
      "75%    600704.000000      1.000000    4.920000e+02  2.667617e+07   \n",
      "max    602570.000000      1.000000    3.072633e+08  4.101333e+08   \n",
      "\n",
      "       total size messages      numagent     lengthvar       propvar  \\\n",
      "count         11603.000000  11603.000000  11603.000000  11531.000000   \n",
      "mean            208.745066      5.043523      2.353960      4.501865   \n",
      "std             188.784432      2.043928      1.970767      3.914422   \n",
      "min               4.000000      2.000000     -1.000000      1.000000   \n",
      "25%              73.000000      4.000000      1.000000      2.000000   \n",
      "50%             160.000000      6.000000      3.000000      3.000000   \n",
      "75%             295.000000      6.000000      4.000000      5.000000   \n",
      "max            1766.000000      8.000000      5.000000     15.000000   \n",
      "\n",
      "       total time mn      isprepar        propTP  \n",
      "count   11603.000000  11603.000000  11603.000000  \n",
      "mean        6.842504      0.465828      4.079186  \n",
      "std         4.486401      0.498852      3.638712  \n",
      "min         0.018317      0.000000      0.300000  \n",
      "25%         0.613317      0.000000      1.000000  \n",
      "50%        10.009000      0.000000      2.000000  \n",
      "75%        10.011733      1.000000      5.000000  \n",
      "max        10.042833      1.000000     10.000000  \n",
      "number of rows 11603\n",
      "number of column 35\n",
      "['or_csq' 'nbAg+' 'or_numagent' 'distrib' 'min total size messages'\n",
      " 'inferences' 'or_method' 'min extensions' 'nbConsequencesFound'\n",
      " 'nb Messages' 'or_dist' 'method' 'or_csq_mono' 'min nb Messages' 'var'\n",
      " 'total time' 'infile_path' 'timed_out' 'min inferences' 'infile'\n",
      " 'extensions' 'problem' 'total size messages' 'numagent' 'csq' 'dist'\n",
      " 'tokenorder' 'lengthvar' 'propvar' 'total time mn' 'methodvar' 'pbbase'\n",
      " 'isprepar' 'prepar' 'propTP']\n"
     ]
    }
   ],
   "source": [
    "def printInfoOnDf(df):\n",
    "    print df.describe()\n",
    "    print 'number of rows',len(df.index)\n",
    "    print 'number of column',len(df.columns.values)\n",
    "    print df.columns.values\n",
    "printInfoOnDf(dfFin)\n",
    "printInfoOnDf(dfMulti)\n"
   ]
  },
  {
   "cell_type": "markdown",
   "metadata": {},
   "source": [
    "#Filter problems\n",
    "here we want the Multi problems corresponding to the mono problems which finish under a certain timelimit\n",
    "(since the timeout is not the same in both cases...)"
   ]
  },
  {
   "cell_type": "code",
   "execution_count": 8,
   "metadata": {
    "collapsed": false
   },
   "outputs": [
    {
     "name": "stdout",
     "output_type": "stream",
     "text": [
      "11603\n",
      "9074\n",
      "2529\n",
      "nb de Pb Mono Originaux 2717\n",
      "nb de Pb Multi Originaux 11603\n",
      "nb de Pb mono Originaux < time limit =  600000  :  2279\n",
      "prop gardée 0.838792786161\n",
      "nb de Pb multi Originaux < time limit =  600000  :  9074\n",
      "prop gardée 0.782039127812\n"
     ]
    }
   ],
   "source": [
    "def getProblemsUnderTime(df, time):\n",
    "    '''\n",
    "    get problems having finished under xxxxxx ms\n",
    "    '''\n",
    "    return df[df['total time'] < time]\n",
    "def aggregate(df):\n",
    "    '''on aggrege une sorte d id du probleme parce que sinon ca devient trop verbose et pandas deconne...'''\n",
    "    df['indagg'] = df['infile_path']+ df['infile'] + df['var'] # +df['dist']\n",
    "    \n",
    "def filterPb(dfOrig, df,timelimit) :\n",
    "    '''\n",
    "    we wish to keep only the multi problems whos corresponding mono problem finishes below 10 minutes\n",
    "    '''\n",
    "    nbPbO=len(dfOrig.index)\n",
    "    nbPbD =len(df.index)\n",
    "    \n",
    "    aggregate(df)#agg est une sorte d'id de problem\n",
    "    aggregate(dfOrig)\n",
    "    dfOrig = dfOrig[dfOrig['total time'] < timelimit]\n",
    "    #print df['method'].str.contains(\"Token\")\n",
    "    df['underT'] = 0\n",
    "    df.loc[df['indagg'].isin(dfOrig['indagg']), 'underT'] = 1\n",
    "  \n",
    "    res = df.loc[df['underT']==1]\n",
    "    \n",
    "    \n",
    "    print len(df.index)\n",
    "    print len(df[df['underT']==1])\n",
    "    print len(df[df['underT']==0])\n",
    "     \n",
    "    print 'nb de Pb Mono Originaux',nbPbO\n",
    "    print 'nb de Pb Multi Originaux',len(df.index)\n",
    "    print 'nb de Pb mono Originaux < time limit = ',timelimit,' : ',len(dfOrig.index)\n",
    "    print 'prop gardée',len(dfOrig.index) / float(nbPbO)    \n",
    "    print 'nb de Pb multi Originaux < time limit = ',timelimit,' : ',len(res.index)\n",
    "    print 'prop gardée',len(res.index) / float(nbPbD)\n",
    "\n",
    "    return res\n",
    "dfMulti_filt = filterPb(dfFin, dfMulti,600000)"
   ]
  },
  {
   "cell_type": "markdown",
   "metadata": {},
   "source": [
    "#Temps d'exécution\n",
    "pour mono le timeout par défaut est 2000000 ms soit 33.3 mn\n",
    "###Mono/Multi"
   ]
  },
  {
   "cell_type": "code",
   "execution_count": 106,
   "metadata": {
    "collapsed": false,
    "scrolled": true
   },
   "outputs": [
    {
     "data": {
      "image/png": "[encoded data removed]",
      "text/plain": [
       "<matplotlib.figure.Figure at 0x7f054d395950>"
      ]
     },
     "metadata": {},
     "output_type": "display_data"
    },
    {
     "name": "stdout",
     "output_type": "stream",
     "text": [
      "Il y a  20 problèmes qui dépassent la limite de  2000000 ms\n"
     ]
    },
    {
     "data": {
      "image/png": "[encoded data removed]",
      "text/plain": [
       "<matplotlib.figure.Figure at 0x7f05453e7890>"
      ]
     },
     "metadata": {},
     "output_type": "display_data"
    },
    {
     "name": "stdout",
     "output_type": "stream",
     "text": [
      "Il y a  0 problèmes qui dépassent la limite de  605000 ms\n"
     ]
    },
    {
     "data": {
      "image/png": "[encoded data removed]",
      "text/plain": [
       "<matplotlib.figure.Figure at 0x7f05452455d0>"
      ]
     },
     "metadata": {},
     "output_type": "display_data"
    },
    {
     "name": "stdout",
     "output_type": "stream",
     "text": [
      "Il y a  0 problèmes qui dépassent la limite de  605000 ms\n"
     ]
    }
   ],
   "source": [
    "def makeHistoTotalTime(df, limite, bins=30, title=''):\n",
    "    df = df['total time']\n",
    "    s= pd.Series(df, name ='total time')\n",
    "    tooL = [el for el in s if el > limite]\n",
    "    a = pd.np.array(s)\n",
    "    a = a/1000./60.   #convert into minutes\n",
    "    \n",
    "    hist, bins = np.histogram(a, bins=bins)\n",
    "    width = 0.7 * (bins[1] - bins[0])\n",
    "    center = (bins[:-1] + bins[1:]) / 2\n",
    "    plt.bar(center, hist, align='center', width=width,color = 'r')\n",
    "    plt.title(title)\n",
    "    plt.show()\n",
    "    print 'Il y a ', len(tooL), 'problèmes qui dépassent la limite de ',limite,'ms'\n",
    "    \n",
    "makeHistoTotalTime(dfFin,2000000,bins = 100, title='mono sans time out')\n",
    "makeHistoTotalTime(dfMulti,605000,bins = 10,title='multi')\n",
    "makeHistoTotalTime(dfMulti_filt,605000,bins = 10,title='multi filtres a partir de mono filtres')"
   ]
  },
  {
   "cell_type": "markdown",
   "metadata": {},
   "source": [
    "on observe que le time out du mono agent n'est pas respecté, même s'il la très grande majorité des problèmes est en desssous de la valeur de 30 minutes, alors que le multi montre bien un seuil correspondant au timeout normal."
   ]
  },
  {
   "cell_type": "markdown",
   "metadata": {},
   "source": [
    "###By Agent & comparison when filtered"
   ]
  },
  {
   "cell_type": "code",
   "execution_count": 95,
   "metadata": {
    "collapsed": false
   },
   "outputs": [
    {
     "data": {
      "image/png": "[encoded data removed]",
      "text/plain": [
       "<matplotlib.figure.Figure at 0x7f0544eb3b10>"
      ]
     },
     "metadata": {},
     "output_type": "display_data"
    },
    {
     "data": {
      "image/png": "[encoded data removed]",
      "text/plain": [
       "<matplotlib.figure.Figure at 0x7f05450bc510>"
      ]
     },
     "metadata": {},
     "output_type": "display_data"
    },
    {
     "data": {
      "image/png": "[encoded data removed]",
      "text/plain": [
       "<matplotlib.figure.Figure at 0x7f0544df7b50>"
      ]
     },
     "metadata": {},
     "output_type": "display_data"
    },
    {
     "data": {
      "image/png": "[encoded data removed]",
      "text/plain": [
       "<matplotlib.figure.Figure at 0x7f05456a0fd0>"
      ]
     },
     "metadata": {},
     "output_type": "display_data"
    }
   ],
   "source": [
    "def plotDistAgents(dfMulti,bins = 10, lAgents = [2,4,6,8]):\n",
    "\n",
    "    pbXAg = [dfMulti[dfMulti['numagent'] == i] for i in lAgents]#range(2,9,2)]\n",
    "    timeXAg = [xAg['total time'] for xAg in pbXAg]\n",
    "    timeSeriesXAg = [pd.np.array(pd.Series(df, name = 'total time')) for df in timeXAg]\n",
    "    timeSeriesXAg = [ts/1000./60.for ts in timeSeriesXAg ]\n",
    "\n",
    "    histbinsXAg = [np.histogram(a, bins = bins) for a in timeSeriesXAg]\n",
    "    widthXAg = [ 0.7 * (bins[1] - bins[0]) for hist,bins in histbinsXAg]\n",
    "    centerXAg = [(bins[:-1] + bins[1:]) / 2 for hist,bins in histbinsXAg]\n",
    "    colorXag = ['r','b','y','g']\n",
    "    pXAg=[]\n",
    "    for i in range (len(pbXAg)):\n",
    "        hist, bins = histbinsXAg[i]\n",
    "        pXAg.append(plt.bar(centerXAg[i], hist,   width= widthXAg[i], color=colorXag[i]))\n",
    "\n",
    "    plt.ylabel('nbPbs')\n",
    "    plt.title(u'Distribution des temps d exécution des pb avec timout a 10')\n",
    "\n",
    "    legends = [\"\".join([str(i),'ag'])for i in lAgents]\n",
    "    pXAg = [p[0] for p in pXAg]\n",
    "    plt.legend( pXAg, legends ,loc=7)\n",
    "    plt.show()\n",
    "    \n",
    "def plotTwoDistAgents(dfMulti,dfMulti_filt,bins = 10, lAgents = [2,4,6,8]):\n",
    "  \n",
    "    \n",
    "    pbXAg = [dfMulti[dfMulti['numagent'] == i] for i in lAgents]#range(2,9,2)]\n",
    "    timeXAg = [xAg['total time'] for xAg in pbXAg]\n",
    "    timeSeriesXAg = [pd.np.array(pd.Series(df, name = 'total time')) for df in timeXAg]\n",
    "    timeSeriesXAg = [ts/1000./60.for ts in timeSeriesXAg ]\n",
    "\n",
    "    histbinsXAg = [np.histogram(a, bins = bins) for a in timeSeriesXAg]\n",
    "    widthXAg = [ 0.7 * (bins[1] - bins[0]) for hist,bins in histbinsXAg]\n",
    "    centerXAg = [(bins[:-1] + bins[1:]) / 2 for hist,bins in histbinsXAg]\n",
    "    colorXag = ['r','b','y','g']\n",
    "    pXAg=[]\n",
    "    for i in range (len(pbXAg)):\n",
    "        hist, bins = histbinsXAg[i]\n",
    "        pXAg.append(plt.bar(centerXAg[i], hist,   width= widthXAg[i]/3, color=colorXag[i], align = 'center'))\n",
    "\n",
    "    \n",
    "    legends = [\"\".join([str(i),'ag'])for i in lAgents]\n",
    "    pXAgAx = [p[0] for p in pXAg]\n",
    "    plt.legend( pXAgAx, legends ,loc=7)\n",
    "    \n",
    "    dfMulti = dfMulti_filt\n",
    "    pbXAg = [dfMulti[dfMulti['numagent'] == i] for i in lAgents]#range(2,9,2)]\n",
    "    timeXAg = [xAg['total time'] for xAg in pbXAg]\n",
    "    timeSeriesXAg = [pd.np.array(pd.Series(df, name = 'total time')) for df in timeXAg]\n",
    "    timeSeriesXAg = [ts/1000./60.for ts in timeSeriesXAg ]\n",
    "\n",
    "    histbinsXAg = [np.histogram(a, bins = bins) for a in timeSeriesXAg]\n",
    "    widthXAg = [ 0.7 * (bins[1] - bins[0]) for hist,bins in histbinsXAg]\n",
    "    centerXAg = [(bins[:-1] + bins[1:]) / 2 for hist,bins in histbinsXAg]\n",
    "    colorXag = ['b','r','g','y']\n",
    "    #pXAg=[]\n",
    "    for i in range (len(pbXAg)):\n",
    "        hist, bins = histbinsXAg[i]\n",
    "        pXAg.append(plt.bar(centerXAg[i], hist, width= widthXAg[i]/2, color=colorXag[i], align = 'edge'))\n",
    "\n",
    "    plt.ylabel('nbPbs')\n",
    "    plt.title(u'Distribution des temps d exécution des pb avec timout a 10')\n",
    "\n",
    "    legends = legends + [\"\".join([str(i),'ag filtered'])for i in lAgents]\n",
    "    pXAg = [p[0] for p in pXAg]\n",
    "    plt.legend( pXAg, legends ,loc=7)\n",
    "\n",
    "    plt.show()\n",
    "plotTwoDistAgents(dfMulti,dfMulti_filt,bins=10, lAgents = [2])\n",
    "plotTwoDistAgents(dfMulti,dfMulti_filt,bins=10, lAgents = [4])\n",
    "plotTwoDistAgents(dfMulti,dfMulti_filt,bins=10, lAgents = [6])\n",
    "plotTwoDistAgents(dfMulti,dfMulti_filt,bins=10, lAgents = [8])\n",
    "\n",
    "                \n"
   ]
  },
  {
   "cell_type": "markdown",
   "metadata": {},
   "source": [
    "on voit que le filtre permet d'éliminer en grande majorité de pb multi qui auraient timeout.\n",
    "Donc qu'un problème complexe mono équivaut à un problème complexe multi"
   ]
  },
  {
   "cell_type": "markdown",
   "metadata": {},
   "source": [
    "#Time out & nb Messages"
   ]
  },
  {
   "cell_type": "markdown",
   "metadata": {},
   "source": [
    "###By method, number of agents, methodvar, prépartionnement"
   ]
  },
  {
   "cell_type": "code",
   "execution_count": 11,
   "metadata": {
    "collapsed": false,
    "scrolled": true
   },
   "outputs": [
    {
     "name": "stderr",
     "output_type": "stream",
     "text": [
      "/home/magma/anaconda/lib/python2.7/site-packages/matplotlib/figure.py:387: UserWarning: matplotlib is currently using a non-GUI backend, so cannot show the figure\n",
      "  \"matplotlib is currently using a non-GUI backend, \"\n"
     ]
    },
    {
     "data": {
      "image/png": "[encoded data removed]",
      "text/plain": [
       "<matplotlib.figure.Figure at 0x7f05479d7c50>"
      ]
     },
     "metadata": {},
     "output_type": "display_data"
    },
    {
     "data": {
      "image/png": "[encoded data removed]",
      "text/plain": [
       "<matplotlib.figure.Figure at 0x7f05479d7ad0>"
      ]
     },
     "metadata": {},
     "output_type": "display_data"
    }
   ],
   "source": [
    "def proportionTimeOut(df,discreteVar):\n",
    "    by_var = df.groupby([discreteVar,'timed_out']) #groups the data act on groups\n",
    "       #seperately\n",
    "    table = by_var.size() #gets group size counts, hashed by the two variables\n",
    "    table = table.unstack() #splits the data into 2 columns, 0, 1, each indexed by the\n",
    "    #other variable\n",
    "    normedtable = table.div(table.sum(1), axis=0) #divides the counts by the totals\n",
    "    return normedtable\n",
    "def computeProp(df, discreteVarList=None):\n",
    "    lenD = len(discreteVarList)\n",
    "    fig1, axes1 = plt.subplots(lenD,1) \n",
    "    for i in range(lenD):\n",
    "        var = discreteVarList[i]\n",
    "        table = proportionTimeOut(df,var)\n",
    "        table.plot(kind='barh', stacked=True, ax=axes1[i])\n",
    "    fig1.show()\n",
    "    \n",
    "computeProp(dfMulti, discreteVarList = ['numagent','method'])\n",
    "computeProp(dfMulti, discreteVarList = ['methodvar','isprepar', 'prepar'])\n"
   ]
  },
  {
   "cell_type": "markdown",
   "metadata": {},
   "source": [
    "le isprepartitionné a l'air intéressant mais pour que l'analyse ait un sens, il faudrait ne les comparer qu'aux mêmes problèmes mais sans prépartionnement.\n",
    "En tous cas il semble que le prépartitionnement kmetis ait de meilleurs effets qu en prenant les clauses contigues.\n",
    "comparer le time out et le nb de messages, là ca pourrait être intéressant...^^"
   ]
  },
  {
   "cell_type": "code",
   "execution_count": 23,
   "metadata": {
    "collapsed": false
   },
   "outputs": [
    {
     "data": {
      "text/plain": [
       "<matplotlib.axes._subplots.AxesSubplot at 0x7f0546a2f410>"
      ]
     },
     "execution_count": 23,
     "metadata": {},
     "output_type": "execute_result"
    },
    {
     "data": {
      "image/png": "[encoded data removed]",
      "text/plain": [
       "<matplotlib.figure.Figure at 0x7f0546f2a4d0>"
      ]
     },
     "metadata": {},
     "output_type": "display_data"
    },
    {
     "data": {
      "image/png": "[encoded data removed]",
      "text/plain": [
       "<matplotlib.figure.Figure at 0x7f0547358d10>"
      ]
     },
     "metadata": {},
     "output_type": "display_data"
    }
   ],
   "source": [
    "fig, ax = plt.subplots()\n",
    "ax2 = ax.twinx()\n",
    "by_var = dfMulti.groupby(['numagent'])\n",
    "a=by_var['nb Messages'].agg(['mean']).plot(ax=ax,kind = 'bar',width = 0.2,position =0,legend = False)\n",
    "b=by_var['timed_out'].agg(['mean']).plot(ax=ax2,kind = 'bar',color='y',width=0.2, secondary_y = True,position =1, legend=False)\n",
    "\n",
    "\n",
    "fig, ax = plt.subplots()\n",
    "ax2 = ax.twinx()\n",
    "by_var = dfMulti.groupby(['method'])\n",
    "by_var['nb Messages'].agg(['mean']).plot(ax=ax,kind = 'bar',width = 0.2,position =0,legend = False)\n",
    "by_var['timed_out'].agg(['mean']).plot(ax=ax2,color='y',kind = 'bar',width=0.2, secondary_y = True,position =1, legend=False)\n",
    "\n"
   ]
  },
  {
   "cell_type": "code",
   "execution_count": 124,
   "metadata": {
    "collapsed": false
   },
   "outputs": [
    {
     "name": "stdout",
     "output_type": "stream",
     "text": [
      "               mean\n",
      "lengthvar          \n",
      "1          0.603399\n",
      "2          0.676748\n",
      "3          0.674231\n",
      "4          0.667008\n",
      "5          0.666151\n",
      "10         0.666838\n",
      "           mean timedout\n",
      "lengthvar               \n",
      "1               0.603399\n",
      "2               0.676748\n",
      "3               0.674231\n",
      "4               0.667008\n",
      "5               0.666151\n",
      "10              0.666838\n"
     ]
    },
    {
     "data": {
      "text/plain": [
       "<matplotlib.axes._subplots.AxesSubplot at 0x7f054535e7d0>"
      ]
     },
     "execution_count": 124,
     "metadata": {},
     "output_type": "execute_result"
    },
    {
     "data": {
      "image/png": "[encoded data removed]",
      "text/plain": [
       "<matplotlib.figure.Figure at 0x7f054555f1d0>"
      ]
     },
     "metadata": {},
     "output_type": "display_data"
    }
   ],
   "source": [
    "fig, ax = plt.subplots()\n",
    "ax2 = ax.twinx()\n",
    "by_var = dfMulti.groupby(['lengthvar'])\n",
    "by_var['nb Messages'].agg(['mean']).plot(ax=ax,kind = 'bar',width = 0.2,position =0,legend = False)\n",
    "by_var['timed_out'].agg(['mean']).plot(ax=ax2,color='y',kind = 'bar',width=0.2, secondary_y = True,position =1, legend=False)\n",
    "s = by_var['timed_out'].agg(['mean'])\n",
    "print s\n",
    "d={'mean' : 'mean timedout'}\n",
    "s = s.rename(columns=d)\n",
    "print s\n",
    "s.plot(ax=ax,kind = 'bar',width = 0.2,position =0)\n"
   ]
  },
  {
   "cell_type": "code",
   "execution_count": 24,
   "metadata": {
    "collapsed": false
   },
   "outputs": [
    {
     "data": {
      "text/plain": [
       "\"by_var = dfMulti.groupby(['numagent'])\\nby_var['nb Messages'].agg(['mean', 'std']).plot(kind = 'bar',title= 'nbMessages')\\nby_var['timed_out'].agg(['mean','std']).plot(kind = 'bar',title='timed_out')\\n\""
      ]
     },
     "execution_count": 24,
     "metadata": {},
     "output_type": "execute_result"
    }
   ],
   "source": [
    "'''by_var = dfMulti.groupby(['numagent'])\n",
    "by_var['nb Messages'].agg(['mean', 'std']).plot(kind = 'bar',title= 'nbMessages')\n",
    "by_var['timed_out'].agg(['mean','std']).plot(kind = 'bar',title='timed_out')\n",
    "'''"
   ]
  },
  {
   "cell_type": "code",
   "execution_count": 25,
   "metadata": {
    "collapsed": false
   },
   "outputs": [],
   "source": [
    "dfPrepar = dfMulti[dfMulti['isprepar']==1]\n",
    "dfNonPrepar = dfMulti[~dfMulti['isprepar']==1]\n",
    "#df['indaggmulti'] = df['infile_path']+ df['infile'] + df['var'] +df['dist'] + df['numagent']+df['method']\n",
    "#dfNonPrepar[dfNonPrepar.isin]"
   ]
  },
  {
   "cell_type": "code",
   "execution_count": 111,
   "metadata": {
    "collapsed": false
   },
   "outputs": [
    {
     "name": "stdout",
     "output_type": "stream",
     "text": [
      "Int64Index([1, 2, 3, 4, 5, 10], dtype='int64', name=u'lengthvar')\n",
      "[[ 28.84305949  21.11352437]\n",
      " [ 42.06197323  38.14470447]\n",
      " [ 42.22239032  38.44748818]\n",
      " [ 42.47058824  38.62251412]\n",
      " [ 42.20072239  38.24298667]\n",
      " [ 42.16452442  38.05402371]]\n",
      "2222222\n",
      "[ 1  2  3  4  5 10]\n",
      "['1' '2' '3' '4' '5' '+inf']\n"
     ]
    },
    {
     "data": {
      "text/plain": [
       "<matplotlib.axes._subplots.AxesSubplot at 0x7f054518c590>"
      ]
     },
     "execution_count": 111,
     "metadata": {},
     "output_type": "execute_result"
    },
    {
     "data": {
      "image/png": "[encoded data removed]",
      "text/plain": [
       "<matplotlib.figure.Figure at 0x7f054493df10>"
      ]
     },
     "metadata": {},
     "output_type": "display_data"
    },
    {
     "data": {
      "image/png": "[encoded data removed]",
      "text/plain": [
       "<matplotlib.figure.Figure at 0x7f0545179550>"
      ]
     },
     "metadata": {},
     "output_type": "display_data"
    }
   ],
   "source": [
    "#ici 10 signifie sans limite...\n",
    "\n",
    "\n",
    "dfMulti.loc[dfMulti['lengthvar'] == -1,'lengthvar']=10\n",
    "\n",
    "\n",
    "grouped = dfMulti.groupby('lengthvar')\n",
    "stats = ['mean','std']\n",
    "result = grouped['nb Messages'].agg(stats)\n",
    "print result.index\n",
    "print result.values\n",
    "labels = result.index.values\n",
    "print  '2222222'\n",
    "print labels\n",
    "labels = np.concatenate((labels[:-1], np.array(['+inf'])))\n",
    "print labels\n",
    "plt.xticks(result.index.values, labels, rotation='vertical')\n",
    "plt.plot(result.index.values, result.values, label ='ee>')\n",
    "result.plot()\n",
    "#\n"
   ]
  },
  {
   "cell_type": "code",
   "execution_count": 71,
   "metadata": {
    "collapsed": false
   },
   "outputs": [
    {
     "data": {
      "text/plain": [
       "\"fig, ax = plt.subplots()\\nax2 = ax.twinx()\\n#rspine = ax3.spines['right']\\n#rspine.set_position(('axes', 1.25))\\n#ax3.set_frame_on(True)\\n#ax3.patch.set_visible(False)\\nfig.subplots_adjust(right=0.75)\\na=result['mean'].plot(ax=ax,style='b-',label = 'mean')\\nb=result['std'].plot(ax=ax2, style = 'r-', secondary_y=True, label = 'std')\\n\\n#result.plot( y = 'mean')\\n\""
      ]
     },
     "execution_count": 71,
     "metadata": {},
     "output_type": "execute_result"
    }
   ],
   "source": [
    "'''fig, ax = plt.subplots()\n",
    "ax2 = ax.twinx()\n",
    "#rspine = ax3.spines['right']\n",
    "#rspine.set_position(('axes', 1.25))\n",
    "#ax3.set_frame_on(True)\n",
    "#ax3.patch.set_visible(False)\n",
    "fig.subplots_adjust(right=0.75)\n",
    "a=result['mean'].plot(ax=ax,style='b-',label = 'mean')\n",
    "b=result['std'].plot(ax=ax2, style = 'r-', secondary_y=True, label = 'std')\n",
    "\n",
    "#result.plot( y = 'mean')\n",
    "'''"
   ]
  },
  {
   "cell_type": "code",
   "execution_count": 41,
   "metadata": {
    "collapsed": false
   },
   "outputs": [
    {
     "data": {
      "text/html": [
       "<div>\n",
       "<table border=\"1\" class=\"dataframe\">\n",
       "  <thead>\n",
       "    <tr style=\"text-align: right;\">\n",
       "      <th></th>\n",
       "      <th>mean</th>\n",
       "      <th>std</th>\n",
       "    </tr>\n",
       "    <tr>\n",
       "      <th>propTP</th>\n",
       "      <th></th>\n",
       "      <th></th>\n",
       "    </tr>\n",
       "  </thead>\n",
       "  <tbody>\n",
       "    <tr>\n",
       "      <th>0.3</th>\n",
       "      <td>0.624251</td>\n",
       "      <td>0.484497</td>\n",
       "    </tr>\n",
       "    <tr>\n",
       "      <th>1.0</th>\n",
       "      <td>0.659065</td>\n",
       "      <td>0.474114</td>\n",
       "    </tr>\n",
       "    <tr>\n",
       "      <th>2.0</th>\n",
       "      <td>0.594044</td>\n",
       "      <td>0.491172</td>\n",
       "    </tr>\n",
       "    <tr>\n",
       "      <th>5.0</th>\n",
       "      <td>0.671103</td>\n",
       "      <td>0.469913</td>\n",
       "    </tr>\n",
       "    <tr>\n",
       "      <th>10.0</th>\n",
       "      <td>0.730309</td>\n",
       "      <td>0.443880</td>\n",
       "    </tr>\n",
       "  </tbody>\n",
       "</table>\n",
       "</div>"
      ],
      "text/plain": [
       "            mean       std\n",
       "propTP                    \n",
       "0.3     0.624251  0.484497\n",
       "1.0     0.659065  0.474114\n",
       "2.0     0.594044  0.491172\n",
       "5.0     0.671103  0.469913\n",
       "10.0    0.730309  0.443880"
      ]
     },
     "execution_count": 41,
     "metadata": {},
     "output_type": "execute_result"
    },
    {
     "data": {
      "image/png": "[encoded data removed]",
      "text/plain": [
       "<matplotlib.figure.Figure at 0x7f05474ced50>"
      ]
     },
     "metadata": {},
     "output_type": "display_data"
    }
   ],
   "source": [
    "result = grouped['timed_out'].agg(stats)\n",
    "result.plot()\n",
    "result"
   ]
  },
  {
   "cell_type": "code",
   "execution_count": 32,
   "metadata": {
    "collapsed": false
   },
   "outputs": [
    {
     "data": {
      "text/html": [
       "<div>\n",
       "<table border=\"1\" class=\"dataframe\">\n",
       "  <thead>\n",
       "    <tr style=\"text-align: right;\">\n",
       "      <th></th>\n",
       "      <th>mean</th>\n",
       "      <th>count</th>\n",
       "    </tr>\n",
       "    <tr>\n",
       "      <th>propvar</th>\n",
       "      <th></th>\n",
       "      <th></th>\n",
       "    </tr>\n",
       "  </thead>\n",
       "  <tbody>\n",
       "    <tr>\n",
       "      <th>1</th>\n",
       "      <td>40.995305</td>\n",
       "      <td>1065</td>\n",
       "    </tr>\n",
       "    <tr>\n",
       "      <th>2</th>\n",
       "      <td>42.004695</td>\n",
       "      <td>1065</td>\n",
       "    </tr>\n",
       "    <tr>\n",
       "      <th>3</th>\n",
       "      <td>41.430740</td>\n",
       "      <td>1054</td>\n",
       "    </tr>\n",
       "    <tr>\n",
       "      <th>4</th>\n",
       "      <td>42.589184</td>\n",
       "      <td>1054</td>\n",
       "    </tr>\n",
       "    <tr>\n",
       "      <th>5</th>\n",
       "      <td>42.198858</td>\n",
       "      <td>1051</td>\n",
       "    </tr>\n",
       "    <tr>\n",
       "      <th>10</th>\n",
       "      <td>42.962121</td>\n",
       "      <td>1056</td>\n",
       "    </tr>\n",
       "    <tr>\n",
       "      <th>15</th>\n",
       "      <td>35.223724</td>\n",
       "      <td>666</td>\n",
       "    </tr>\n",
       "  </tbody>\n",
       "</table>\n",
       "</div>"
      ],
      "text/plain": [
       "              mean  count\n",
       "propvar                  \n",
       "1        40.995305   1065\n",
       "2        42.004695   1065\n",
       "3        41.430740   1054\n",
       "4        42.589184   1054\n",
       "5        42.198858   1051\n",
       "10       42.962121   1056\n",
       "15       35.223724    666"
      ]
     },
     "execution_count": 32,
     "metadata": {},
     "output_type": "execute_result"
    },
    {
     "data": {
      "image/png": "[encoded data removed]",
      "text/plain": [
       "<matplotlib.figure.Figure at 0x7f0546c86410>"
      ]
     },
     "metadata": {},
     "output_type": "display_data"
    }
   ],
   "source": [
    "grouped = dfMulti[dfMulti['var'].str.contains(\"max\")].groupby('propvar')\n",
    "stats = ['mean','count']\n",
    "result = grouped['nb Messages'].agg(stats)\n",
    "result.plot( y = 'mean')\n",
    "result\n"
   ]
  },
  {
   "cell_type": "code",
   "execution_count": 33,
   "metadata": {
    "collapsed": false
   },
   "outputs": [
    {
     "data": {
      "text/html": [
       "<div>\n",
       "<table border=\"1\" class=\"dataframe\">\n",
       "  <thead>\n",
       "    <tr style=\"text-align: right;\">\n",
       "      <th></th>\n",
       "      <th>mean</th>\n",
       "      <th>count</th>\n",
       "    </tr>\n",
       "    <tr>\n",
       "      <th>propvar</th>\n",
       "      <th></th>\n",
       "      <th></th>\n",
       "    </tr>\n",
       "  </thead>\n",
       "  <tbody>\n",
       "    <tr>\n",
       "      <th>1</th>\n",
       "      <td>39.575435</td>\n",
       "      <td>1034</td>\n",
       "    </tr>\n",
       "    <tr>\n",
       "      <th>2</th>\n",
       "      <td>38.926736</td>\n",
       "      <td>1051</td>\n",
       "    </tr>\n",
       "    <tr>\n",
       "      <th>3</th>\n",
       "      <td>39.291498</td>\n",
       "      <td>988</td>\n",
       "    </tr>\n",
       "    <tr>\n",
       "      <th>4</th>\n",
       "      <td>38.956012</td>\n",
       "      <td>682</td>\n",
       "    </tr>\n",
       "    <tr>\n",
       "      <th>5</th>\n",
       "      <td>35.154856</td>\n",
       "      <td>381</td>\n",
       "    </tr>\n",
       "    <tr>\n",
       "      <th>10</th>\n",
       "      <td>34.791667</td>\n",
       "      <td>192</td>\n",
       "    </tr>\n",
       "    <tr>\n",
       "      <th>15</th>\n",
       "      <td>33.338542</td>\n",
       "      <td>192</td>\n",
       "    </tr>\n",
       "  </tbody>\n",
       "</table>\n",
       "</div>"
      ],
      "text/plain": [
       "              mean  count\n",
       "propvar                  \n",
       "1        39.575435   1034\n",
       "2        38.926736   1051\n",
       "3        39.291498    988\n",
       "4        38.956012    682\n",
       "5        35.154856    381\n",
       "10       34.791667    192\n",
       "15       33.338542    192"
      ]
     },
     "execution_count": 33,
     "metadata": {},
     "output_type": "execute_result"
    },
    {
     "data": {
      "image/png": "[encoded data removed]",
      "text/plain": [
       "<matplotlib.figure.Figure at 0x7f054630acd0>"
      ]
     },
     "metadata": {},
     "output_type": "display_data"
    }
   ],
   "source": [
    "grouped = dfMulti[dfMulti['var'].str.contains(\"min\")].groupby('propvar')\n",
    "stats = ['mean','count']\n",
    "result = grouped['nb Messages'].agg(stats)\n",
    "result.plot()\n",
    "result"
   ]
  },
  {
   "cell_type": "code",
   "execution_count": 34,
   "metadata": {
    "collapsed": false
   },
   "outputs": [
    {
     "data": {
      "text/html": [
       "<div>\n",
       "<table border=\"1\" class=\"dataframe\">\n",
       "  <thead>\n",
       "    <tr style=\"text-align: right;\">\n",
       "      <th></th>\n",
       "      <th>mean</th>\n",
       "      <th>count</th>\n",
       "    </tr>\n",
       "    <tr>\n",
       "      <th>propvar</th>\n",
       "      <th></th>\n",
       "      <th></th>\n",
       "    </tr>\n",
       "  </thead>\n",
       "  <tbody>\n",
       "    <tr>\n",
       "      <th>1</th>\n",
       "      <td>39.575435</td>\n",
       "      <td>1034</td>\n",
       "    </tr>\n",
       "    <tr>\n",
       "      <th>2</th>\n",
       "      <td>38.926736</td>\n",
       "      <td>1051</td>\n",
       "    </tr>\n",
       "    <tr>\n",
       "      <th>3</th>\n",
       "      <td>39.291498</td>\n",
       "      <td>988</td>\n",
       "    </tr>\n",
       "    <tr>\n",
       "      <th>4</th>\n",
       "      <td>38.956012</td>\n",
       "      <td>682</td>\n",
       "    </tr>\n",
       "    <tr>\n",
       "      <th>5</th>\n",
       "      <td>35.154856</td>\n",
       "      <td>381</td>\n",
       "    </tr>\n",
       "    <tr>\n",
       "      <th>10</th>\n",
       "      <td>34.791667</td>\n",
       "      <td>192</td>\n",
       "    </tr>\n",
       "    <tr>\n",
       "      <th>15</th>\n",
       "      <td>33.338542</td>\n",
       "      <td>192</td>\n",
       "    </tr>\n",
       "  </tbody>\n",
       "</table>\n",
       "</div>"
      ],
      "text/plain": [
       "              mean  count\n",
       "propvar                  \n",
       "1        39.575435   1034\n",
       "2        38.926736   1051\n",
       "3        39.291498    988\n",
       "4        38.956012    682\n",
       "5        35.154856    381\n",
       "10       34.791667    192\n",
       "15       33.338542    192"
      ]
     },
     "execution_count": 34,
     "metadata": {},
     "output_type": "execute_result"
    },
    {
     "data": {
      "image/png": "[encoded data removed]",
      "text/plain": [
       "<matplotlib.figure.Figure at 0x7f054630a490>"
      ]
     },
     "metadata": {},
     "output_type": "display_data"
    }
   ],
   "source": [
    "grouped = dfMulti.groupby('lengthvar')\n",
    "stats = ['mean','std']\n",
    "result2 = grouped['nb Messages'].agg(stats)\n",
    "result2.plot()\n",
    "result"
   ]
  },
  {
   "cell_type": "code",
   "execution_count": 35,
   "metadata": {
    "collapsed": false,
    "scrolled": false
   },
   "outputs": [
    {
     "data": {
      "text/plain": [
       "\"fig, ax = plt.subplots()\\nax2 = ax.twinx()\\n#rspine = ax3.spines['right']\\n#rspine.set_position(('axes', 1.25))\\n#ax3.set_frame_on(True)\\n#ax3.patch.set_visiblezz(False)\\nfig.subplots_adjust(right=0.75)\\na=result1['mean'].plot(ax=ax,style='b-',label = 'mean')\\nb=result2['mean'].plot(ax=ax2, style = 'r-', secondary_y=True, label = 'std')\\n\""
      ]
     },
     "execution_count": 35,
     "metadata": {},
     "output_type": "execute_result"
    }
   ],
   "source": [
    "'''fig, ax = plt.subplots()\n",
    "ax2 = ax.twinx()\n",
    "#rspine = ax3.spines['right']\n",
    "#rspine.set_position(('axes', 1.25))\n",
    "#ax3.set_frame_on(True)\n",
    "#ax3.patch.set_visiblezz(False)\n",
    "fig.subplots_adjust(right=0.75)\n",
    "a=result1['mean'].plot(ax=ax,style='b-',label = 'mean')\n",
    "b=result2['mean'].plot(ax=ax2, style = 'r-', secondary_y=True, label = 'std')\n",
    "'''"
   ]
  },
  {
   "cell_type": "code",
   "execution_count": 36,
   "metadata": {
    "collapsed": false
   },
   "outputs": [
    {
     "data": {
      "text/html": [
       "<div>\n",
       "<table border=\"1\" class=\"dataframe\">\n",
       "  <thead>\n",
       "    <tr style=\"text-align: right;\">\n",
       "      <th></th>\n",
       "      <th>mean</th>\n",
       "      <th>std</th>\n",
       "    </tr>\n",
       "    <tr>\n",
       "      <th>propTP</th>\n",
       "      <th></th>\n",
       "      <th></th>\n",
       "    </tr>\n",
       "  </thead>\n",
       "  <tbody>\n",
       "    <tr>\n",
       "      <th>0.3</th>\n",
       "      <td>45.706587</td>\n",
       "      <td>39.250821</td>\n",
       "    </tr>\n",
       "    <tr>\n",
       "      <th>1.0</th>\n",
       "      <td>45.036488</td>\n",
       "      <td>34.755488</td>\n",
       "    </tr>\n",
       "    <tr>\n",
       "      <th>2.0</th>\n",
       "      <td>39.666928</td>\n",
       "      <td>34.749690</td>\n",
       "    </tr>\n",
       "    <tr>\n",
       "      <th>5.0</th>\n",
       "      <td>35.416917</td>\n",
       "      <td>37.474953</td>\n",
       "    </tr>\n",
       "    <tr>\n",
       "      <th>10.0</th>\n",
       "      <td>37.396733</td>\n",
       "      <td>36.748974</td>\n",
       "    </tr>\n",
       "  </tbody>\n",
       "</table>\n",
       "</div>"
      ],
      "text/plain": [
       "             mean        std\n",
       "propTP                      \n",
       "0.3     45.706587  39.250821\n",
       "1.0     45.036488  34.755488\n",
       "2.0     39.666928  34.749690\n",
       "5.0     35.416917  37.474953\n",
       "10.0    37.396733  36.748974"
      ]
     },
     "execution_count": 36,
     "metadata": {},
     "output_type": "execute_result"
    },
    {
     "data": {
      "image/png": "[encoded data removed]",
      "text/plain": [
       "<matplotlib.figure.Figure at 0x7f0546e04150>"
      ]
     },
     "metadata": {},
     "output_type": "display_data"
    }
   ],
   "source": [
    "grouped = dfMulti.groupby('propTP')\n",
    "stats = ['mean','std']\n",
    "result = grouped['nb Messages'].agg(stats)\n",
    "fig, ax = plt.subplots()\n",
    "ax2 = ax.twinx()\n",
    "\n",
    "fig.subplots_adjust(right=0.75)\n",
    "a=result['mean'].plot(ax=ax,style='b-',label = 'mean')\n",
    "b=result['std'].plot(ax=ax2, style = 'r-', secondary_y=True, label = 'std')\n",
    "result\n"
   ]
  },
  {
   "cell_type": "code",
   "execution_count": 109,
   "metadata": {
    "collapsed": false
   },
   "outputs": [
    {
     "name": "stdout",
     "output_type": "stream",
     "text": [
      "            mean       std\n",
      "propTP                    \n",
      "0.3     0.624251  0.484497\n",
      "1.0     0.659065  0.474114\n",
      "2.0     0.594044  0.491172\n",
      "5.0     0.671103  0.469913\n",
      "10.0    0.730309  0.443880\n"
     ]
    },
    {
     "data": {
      "image/png": "[encoded data removed]",
      "text/plain": [
       "<matplotlib.figure.Figure at 0x7f05451b5ed0>"
      ]
     },
     "metadata": {},
     "output_type": "display_data"
    },
    {
     "data": {
      "image/png": "[encoded data removed]",
      "text/plain": [
       "<matplotlib.figure.Figure at 0x7f0544e9ae90>"
      ]
     },
     "metadata": {},
     "output_type": "display_data"
    }
   ],
   "source": [
    "grouped = dfMulti.groupby('propTP')\n",
    "stats = ['mean','std']\n",
    "result = grouped['timed_out'].agg(stats)\n",
    "print result\n",
    "fig, ax = plt.subplots()\n",
    "ax2 = ax.twinx()\n",
    "\n",
    "fig.subplots_adjust(right=0.75)\n",
    "result.plot()= 'std')\n"
   ]
  },
  {
   "cell_type": "markdown",
   "metadata": {
    "collapsed": true
   },
   "source": [
    "#Select Problems :\n",
    "For all mono problems finishing in an interval,\n",
    "we compute the multi problems associated, and how many actually finish, in order to select problems with a certain order of difficulty.\n",
    "\n",
    "chercher les problèmes qui finissent :\n",
    "\n",
    "un problème est un sol et un .var, on veut que toutes ses variantes dans MONO tq distribution TP etc... finissent (nb Max) et que dans MULTI, toutes ses variantes finissent aussi (le max possible)\n",
    "\n",
    "seletionner 2 faciles, 2 moyens et 2 difficiles (basé sur le pf et le % de TP etc... )"
   ]
  },
  {
   "cell_type": "code",
   "execution_count": 39,
   "metadata": {
    "collapsed": false
   },
   "outputs": [
    {
     "name": "stdout",
     "output_type": "stream",
     "text": [
      "on a  1991  pb mono qui sont between\n",
      "0\n",
      "nbPb Mult 9\n",
      "indagg                Problems/Bio/glucolysis_max-4_ld2--1\n",
      "infile                                          glucolysis\n",
      "method                                      SOLAR-Inc-Carc\n",
      "var                                          _max-4_ld2--1\n",
      "csq              Problems/Bio/glucolysis_max-4_ld2--1_MONO\n",
      "dist                                                   NaN\n",
      "numagent                                               NaN\n",
      "total time mn                                     4.547783\n",
      "Name: 669, dtype: object\n",
      "nbNtimeout 9\n",
      "         infile         method            var       dist  numagent  timed_out\n",
      "341  glucolysis  DICF-PB-Async  _max-4_ld2--1     _kmet2         2          0\n",
      "342  glucolysis  DICF-PB-Async  _max-4_ld2--1  _naiveEq2         2          0\n",
      "343  glucolysis   DICF-PB-Star  _max-4_ld2--1     _kmet2         2          0\n",
      "344  glucolysis   DICF-PB-Star  _max-4_ld2--1  _naiveEq2         2          0\n",
      "132  glucolysis  DICF-PB-Async  _max-4_ld2--1     _kmet6         6          0\n",
      "136  glucolysis  DICF-PB-Token  _max-4_ld2--1     _kmet6         6          0\n",
      "132  glucolysis  DICF-PB-Async  _max-4_ld2--1     _kmet4         4          0\n",
      "134  glucolysis   DICF-PB-Star  _max-4_ld2--1     _kmet4         4          0\n",
      "136  glucolysis  DICF-PB-Token  _max-4_ld2--1     _kmet4         4          0\n",
      "nbPb Mult 9\n",
      "indagg                Problems/Bio/glucolysis_max-3_ld3--1\n",
      "infile                                          glucolysis\n",
      "method                                      SOLAR-Inc-Carc\n",
      "var                                          _max-3_ld3--1\n",
      "csq              Problems/Bio/glucolysis_max-3_ld3--1_MONO\n",
      "dist                                                   NaN\n",
      "numagent                                               NaN\n",
      "total time mn                                       4.1057\n",
      "Name: 954, dtype: object\n",
      "nbNtimeout 9\n",
      "         infile         method            var       dist  numagent  timed_out\n",
      "324  glucolysis  DICF-PB-Async  _max-3_ld3--1     _kmet2         2          0\n",
      "325  glucolysis  DICF-PB-Async  _max-3_ld3--1  _naiveEq2         2          0\n",
      "326  glucolysis   DICF-PB-Star  _max-3_ld3--1     _kmet2         2          0\n",
      "327  glucolysis   DICF-PB-Star  _max-3_ld3--1  _naiveEq2         2          0\n",
      "108  glucolysis  DICF-PB-Async  _max-3_ld3--1     _kmet6         6          0\n",
      "112  glucolysis  DICF-PB-Token  _max-3_ld3--1     _kmet6         6          0\n",
      "108  glucolysis  DICF-PB-Async  _max-3_ld3--1     _kmet4         4          0\n",
      "110  glucolysis   DICF-PB-Star  _max-3_ld3--1     _kmet4         4          0\n",
      "112  glucolysis  DICF-PB-Token  _max-3_ld3--1     _kmet4         4          0\n",
      "nbPb Mult 13\n",
      "indagg                Problems/Bio/glucolysis_max-2_ld-1--1\n",
      "infile                                           glucolysis\n",
      "method                                       SOLAR-Inc-Carc\n",
      "var                                          _max-2_ld-1--1\n",
      "csq              Problems/Bio/glucolysis_max-2_ld-1--1_MONO\n",
      "dist                                                    NaN\n",
      "numagent                                                NaN\n",
      "total time mn                                      2.633233\n",
      "Name: 11, dtype: object\n",
      "nbNtimeout 13\n",
      "         infile         method             var       dist  numagent  timed_out\n",
      "296  glucolysis  DICF-PB-Async  _max-2_ld-1--1     _kmet2         2          0\n",
      "297  glucolysis  DICF-PB-Async  _max-2_ld-1--1  _naiveEq2         2          0\n",
      "298  glucolysis   DICF-PB-Star  _max-2_ld-1--1     _kmet2         2          0\n",
      "299  glucolysis   DICF-PB-Star  _max-2_ld-1--1  _naiveEq2         2          0\n",
      "66   glucolysis  DICF-PB-Async  _max-2_ld-1--1     _kmet6         6          0\n",
      "70   glucolysis  DICF-PB-Token  _max-2_ld-1--1     _kmet6         6          0\n",
      "71   glucolysis  DICF-PB-Token  _max-2_ld-1--1  _naiveEq6         6          0\n",
      "66   glucolysis  DICF-PB-Async  _max-2_ld-1--1     _kmet4         4          0\n",
      "67   glucolysis  DICF-PB-Async  _max-2_ld-1--1  _naiveEq4         4          0\n",
      "68   glucolysis   DICF-PB-Star  _max-2_ld-1--1     _kmet4         4          0\n",
      "69   glucolysis   DICF-PB-Star  _max-2_ld-1--1  _naiveEq4         4          0\n",
      "70   glucolysis  DICF-PB-Token  _max-2_ld-1--1     _kmet4         4          0\n",
      "71   glucolysis  DICF-PB-Token  _max-2_ld-1--1  _naiveEq4         4          0\n",
      "nbPb Mult 13\n",
      "indagg                Problems/Bio/glucolysis_max-2_ld4--1\n",
      "infile                                          glucolysis\n",
      "method                                      SOLAR-Inc-Carc\n",
      "var                                          _max-2_ld4--1\n",
      "csq              Problems/Bio/glucolysis_max-2_ld4--1_MONO\n",
      "dist                                                   NaN\n",
      "numagent                                               NaN\n",
      "total time mn                                     1.368983\n",
      "Name: 1080, dtype: object\n",
      "nbNtimeout 13\n",
      "         infile         method            var       dist  numagent  timed_out\n",
      "308  glucolysis  DICF-PB-Async  _max-2_ld4--1     _kmet2         2          0\n",
      "309  glucolysis  DICF-PB-Async  _max-2_ld4--1  _naiveEq2         2          0\n",
      "310  glucolysis   DICF-PB-Star  _max-2_ld4--1     _kmet2         2          0\n",
      "311  glucolysis   DICF-PB-Star  _max-2_ld4--1  _naiveEq2         2          0\n",
      "84   glucolysis  DICF-PB-Async  _max-2_ld4--1     _kmet6         6          0\n",
      "88   glucolysis  DICF-PB-Token  _max-2_ld4--1     _kmet6         6          0\n",
      "89   glucolysis  DICF-PB-Token  _max-2_ld4--1  _naiveEq6         6          0\n",
      "84   glucolysis  DICF-PB-Async  _max-2_ld4--1     _kmet4         4          0\n",
      "85   glucolysis  DICF-PB-Async  _max-2_ld4--1  _naiveEq4         4          0\n",
      "86   glucolysis   DICF-PB-Star  _max-2_ld4--1     _kmet4         4          0\n",
      "87   glucolysis   DICF-PB-Star  _max-2_ld4--1  _naiveEq4         4          0\n",
      "88   glucolysis  DICF-PB-Token  _max-2_ld4--1     _kmet4         4          0\n",
      "89   glucolysis  DICF-PB-Token  _max-2_ld4--1  _naiveEq4         4          0\n",
      "nbPb Mult 13\n",
      "indagg                Problems/Bio/glucolysis_max-1_ld4--1\n",
      "infile                                          glucolysis\n",
      "method                                      SOLAR-Inc-Carc\n",
      "var                                          _max-1_ld4--1\n",
      "csq              Problems/Bio/glucolysis_max-1_ld4--1_MONO\n",
      "dist                                                   NaN\n",
      "numagent                                               NaN\n",
      "total time mn                                      1.09755\n",
      "Name: 1077, dtype: object\n",
      "nbNtimeout 13\n",
      "         infile         method            var       dist  numagent  timed_out\n",
      "288  glucolysis  DICF-PB-Async  _max-1_ld4--1     _kmet2         2          0\n",
      "289  glucolysis  DICF-PB-Async  _max-1_ld4--1  _naiveEq2         2          0\n",
      "290  glucolysis   DICF-PB-Star  _max-1_ld4--1     _kmet2         2          0\n",
      "291  glucolysis   DICF-PB-Star  _max-1_ld4--1  _naiveEq2         2          0\n",
      "54   glucolysis  DICF-PB-Async  _max-1_ld4--1     _kmet6         6          0\n",
      "58   glucolysis  DICF-PB-Token  _max-1_ld4--1     _kmet6         6          0\n",
      "59   glucolysis  DICF-PB-Token  _max-1_ld4--1  _naiveEq6         6          0\n",
      "54   glucolysis  DICF-PB-Async  _max-1_ld4--1     _kmet4         4          0\n",
      "55   glucolysis  DICF-PB-Async  _max-1_ld4--1  _naiveEq4         4          0\n",
      "56   glucolysis   DICF-PB-Star  _max-1_ld4--1     _kmet4         4          0\n",
      "57   glucolysis   DICF-PB-Star  _max-1_ld4--1  _naiveEq4         4          0\n",
      "58   glucolysis  DICF-PB-Token  _max-1_ld4--1     _kmet4         4          0\n",
      "59   glucolysis  DICF-PB-Token  _max-1_ld4--1  _naiveEq4         4          0\n",
      "nbPb Mult 13\n",
      "indagg                Problems/Bio/glucolysis_max-2_ld2--1\n",
      "infile                                          glucolysis\n",
      "method                                      SOLAR-Inc-Carc\n",
      "var                                          _max-2_ld2--1\n",
      "csq              Problems/Bio/glucolysis_max-2_ld2--1_MONO\n",
      "dist                                                   NaN\n",
      "numagent                                               NaN\n",
      "total time mn                                       2.6427\n",
      "Name: 641, dtype: object\n",
      "nbNtimeout 13\n",
      "         infile         method            var       dist  numagent  timed_out\n",
      "300  glucolysis  DICF-PB-Async  _max-2_ld2--1     _kmet2         2          0\n",
      "301  glucolysis  DICF-PB-Async  _max-2_ld2--1  _naiveEq2         2          0\n",
      "302  glucolysis   DICF-PB-Star  _max-2_ld2--1     _kmet2         2          0\n",
      "303  glucolysis   DICF-PB-Star  _max-2_ld2--1  _naiveEq2         2          0\n",
      "72   glucolysis  DICF-PB-Async  _max-2_ld2--1     _kmet6         6          0\n",
      "76   glucolysis  DICF-PB-Token  _max-2_ld2--1     _kmet6         6          0\n",
      "77   glucolysis  DICF-PB-Token  _max-2_ld2--1  _naiveEq6         6          0\n",
      "72   glucolysis  DICF-PB-Async  _max-2_ld2--1     _kmet4         4          0\n",
      "73   glucolysis  DICF-PB-Async  _max-2_ld2--1  _naiveEq4         4          0\n",
      "74   glucolysis   DICF-PB-Star  _max-2_ld2--1     _kmet4         4          0\n",
      "75   glucolysis   DICF-PB-Star  _max-2_ld2--1  _naiveEq4         4          0\n",
      "76   glucolysis  DICF-PB-Token  _max-2_ld2--1     _kmet4         4          0\n",
      "77   glucolysis  DICF-PB-Token  _max-2_ld2--1  _naiveEq4         4          0\n",
      "nbPb Mult 13\n",
      "indagg                Problems/Bio/glucolysis_max-1_ld2--1\n",
      "infile                                          glucolysis\n",
      "method                                      SOLAR-Inc-Carc\n",
      "var                                          _max-1_ld2--1\n",
      "csq              Problems/Bio/glucolysis_max-1_ld2--1_MONO\n",
      "dist                                                   NaN\n",
      "numagent                                               NaN\n",
      "total time mn                                     2.023717\n",
      "Name: 633, dtype: object\n",
      "nbNtimeout 13\n",
      "         infile         method            var       dist  numagent  timed_out\n",
      "280  glucolysis  DICF-PB-Async  _max-1_ld2--1     _kmet2         2          0\n",
      "281  glucolysis  DICF-PB-Async  _max-1_ld2--1  _naiveEq2         2          0\n",
      "282  glucolysis   DICF-PB-Star  _max-1_ld2--1     _kmet2         2          0\n",
      "283  glucolysis   DICF-PB-Star  _max-1_ld2--1  _naiveEq2         2          0\n",
      "42   glucolysis  DICF-PB-Async  _max-1_ld2--1     _kmet6         6          0\n",
      "46   glucolysis  DICF-PB-Token  _max-1_ld2--1     _kmet6         6          0\n",
      "47   glucolysis  DICF-PB-Token  _max-1_ld2--1  _naiveEq6         6          0\n",
      "42   glucolysis  DICF-PB-Async  _max-1_ld2--1     _kmet4         4          0\n",
      "43   glucolysis  DICF-PB-Async  _max-1_ld2--1  _naiveEq4         4          0\n",
      "44   glucolysis   DICF-PB-Star  _max-1_ld2--1     _kmet4         4          0\n",
      "45   glucolysis   DICF-PB-Star  _max-1_ld2--1  _naiveEq4         4          0\n",
      "46   glucolysis  DICF-PB-Token  _max-1_ld2--1     _kmet4         4          0\n",
      "47   glucolysis  DICF-PB-Token  _max-1_ld2--1  _naiveEq4         4          0\n",
      "nbPb Mult 13\n",
      "indagg                Problems/Bio/glucolysis_max-1_ld-1--1\n",
      "infile                                           glucolysis\n",
      "method                                       SOLAR-Inc-Carc\n",
      "var                                          _max-1_ld-1--1\n",
      "csq              Problems/Bio/glucolysis_max-1_ld-1--1_MONO\n",
      "dist                                                    NaN\n",
      "numagent                                                NaN\n",
      "total time mn                                      2.457833\n",
      "Name: 3, dtype: object\n",
      "nbNtimeout 13\n",
      "         infile         method             var       dist  numagent  timed_out\n",
      "276  glucolysis  DICF-PB-Async  _max-1_ld-1--1     _kmet2         2          0\n",
      "277  glucolysis  DICF-PB-Async  _max-1_ld-1--1  _naiveEq2         2          0\n",
      "278  glucolysis   DICF-PB-Star  _max-1_ld-1--1     _kmet2         2          0\n",
      "279  glucolysis   DICF-PB-Star  _max-1_ld-1--1  _naiveEq2         2          0\n",
      "36   glucolysis  DICF-PB-Async  _max-1_ld-1--1     _kmet6         6          0\n",
      "40   glucolysis  DICF-PB-Token  _max-1_ld-1--1     _kmet6         6          0\n",
      "41   glucolysis  DICF-PB-Token  _max-1_ld-1--1  _naiveEq6         6          0\n",
      "36   glucolysis  DICF-PB-Async  _max-1_ld-1--1     _kmet4         4          0\n",
      "37   glucolysis  DICF-PB-Async  _max-1_ld-1--1  _naiveEq4         4          0\n",
      "38   glucolysis   DICF-PB-Star  _max-1_ld-1--1     _kmet4         4          0\n",
      "39   glucolysis   DICF-PB-Star  _max-1_ld-1--1  _naiveEq4         4          0\n",
      "40   glucolysis  DICF-PB-Token  _max-1_ld-1--1     _kmet4         4          0\n",
      "41   glucolysis  DICF-PB-Token  _max-1_ld-1--1  _naiveEq4         4          0\n",
      "nbPb Mult 13\n",
      "indagg                Problems/Bio/glucolysis_max-1_ld3--1\n",
      "infile                                          glucolysis\n",
      "method                                      SOLAR-Inc-Carc\n",
      "var                                          _max-1_ld3--1\n",
      "csq              Problems/Bio/glucolysis_max-1_ld3--1_MONO\n",
      "dist                                                   NaN\n",
      "numagent                                               NaN\n",
      "total time mn                                     1.710867\n",
      "Name: 949, dtype: object\n",
      "nbNtimeout 13\n",
      "         infile         method            var       dist  numagent  timed_out\n",
      "284  glucolysis  DICF-PB-Async  _max-1_ld3--1     _kmet2         2          0\n",
      "285  glucolysis  DICF-PB-Async  _max-1_ld3--1  _naiveEq2         2          0\n",
      "286  glucolysis   DICF-PB-Star  _max-1_ld3--1     _kmet2         2          0\n",
      "287  glucolysis   DICF-PB-Star  _max-1_ld3--1  _naiveEq2         2          0\n",
      "48   glucolysis  DICF-PB-Async  _max-1_ld3--1     _kmet6         6          0\n",
      "52   glucolysis  DICF-PB-Token  _max-1_ld3--1     _kmet6         6          0\n",
      "53   glucolysis  DICF-PB-Token  _max-1_ld3--1  _naiveEq6         6          0\n",
      "48   glucolysis  DICF-PB-Async  _max-1_ld3--1     _kmet4         4          0\n",
      "49   glucolysis  DICF-PB-Async  _max-1_ld3--1  _naiveEq4         4          0\n",
      "50   glucolysis   DICF-PB-Star  _max-1_ld3--1     _kmet4         4          0\n",
      "51   glucolysis   DICF-PB-Star  _max-1_ld3--1  _naiveEq4         4          0\n",
      "52   glucolysis  DICF-PB-Token  _max-1_ld3--1     _kmet4         4          0\n",
      "53   glucolysis  DICF-PB-Token  _max-1_ld3--1  _naiveEq4         4          0\n",
      "nbPb Mult 13\n",
      "indagg                Problems/Bio/glucolysis_max-2_ld3--1\n",
      "infile                                          glucolysis\n",
      "method                                      SOLAR-Inc-Carc\n",
      "var                                          _max-2_ld3--1\n",
      "csq              Problems/Bio/glucolysis_max-2_ld3--1_MONO\n",
      "dist                                                   NaN\n",
      "numagent                                               NaN\n",
      "total time mn                                     2.132467\n",
      "Name: 951, dtype: object\n",
      "nbNtimeout 13\n",
      "         infile         method            var       dist  numagent  timed_out\n",
      "304  glucolysis  DICF-PB-Async  _max-2_ld3--1     _kmet2         2          0\n",
      "305  glucolysis  DICF-PB-Async  _max-2_ld3--1  _naiveEq2         2          0\n",
      "306  glucolysis   DICF-PB-Star  _max-2_ld3--1     _kmet2         2          0\n",
      "307  glucolysis   DICF-PB-Star  _max-2_ld3--1  _naiveEq2         2          0\n",
      "78   glucolysis  DICF-PB-Async  _max-2_ld3--1     _kmet6         6          0\n",
      "82   glucolysis  DICF-PB-Token  _max-2_ld3--1     _kmet6         6          0\n",
      "83   glucolysis  DICF-PB-Token  _max-2_ld3--1  _naiveEq6         6          0\n",
      "78   glucolysis  DICF-PB-Async  _max-2_ld3--1     _kmet4         4          0\n",
      "79   glucolysis  DICF-PB-Async  _max-2_ld3--1  _naiveEq4         4          0\n",
      "80   glucolysis   DICF-PB-Star  _max-2_ld3--1     _kmet4         4          0\n",
      "81   glucolysis   DICF-PB-Star  _max-2_ld3--1  _naiveEq4         4          0\n",
      "82   glucolysis  DICF-PB-Token  _max-2_ld3--1     _kmet4         4          0\n",
      "83   glucolysis  DICF-PB-Token  _max-2_ld3--1  _naiveEq4         4          0\n",
      "[ 0  1  2  3  4  5  6  7  9 13]\n",
      "1991\n",
      "11603\n",
      "1991\n"
     ]
    },
    {
     "data": {
      "image/png": "[encoded data removed]",
      "text/plain": [
       "<matplotlib.figure.Figure at 0x7f0546a86990>"
      ]
     },
     "metadata": {},
     "output_type": "display_data"
    },
    {
     "data": {
      "image/png": "[encoded data removed]",
      "text/plain": [
       "<matplotlib.figure.Figure at 0x7f0546002d10>"
      ]
     },
     "metadata": {},
     "output_type": "display_data"
    }
   ],
   "source": [
    "import collections\n",
    "#def filterPb(dfOrig, df,timelimitInf,timelimitSup) :\n",
    "dfOrig = dfFin\n",
    "df = dfMulti\n",
    "timelimitInf = 0.30\n",
    "timelimitSup = 10.0\n",
    "'''\n",
    "on veut des problèmes mono qui terminent dans un intervalle de temps \n",
    "et on veut ceux pour lesquels on a le plus de pb Multi qui finissent sans time out\n",
    "'''\n",
    "nbPbO=len(dfOrig.index)\n",
    "nbPbD =len(df.index)\n",
    "\n",
    "aggregate(df)#agg est une sorte d'id de problem\n",
    "aggregate(dfOrig)\n",
    "\n",
    "dfOrig = dfOrig[dfOrig['total time mn'] < timelimitSup]\n",
    "dfOrig = dfOrig[dfOrig['total time mn'] > timelimitInf]\n",
    "\n",
    "print 'on a ',len(dfOrig.index),' pb mono qui sont between'\n",
    "\n",
    "distDict=collections.defaultdict(int)\n",
    "distDictNtimeout=collections.defaultdict(int)\n",
    "nbPnMultL= []\n",
    "pbMultL= []\n",
    "#pour chaque pb MONO, on compte le nb de pb MULTI qui lui sont associés\n",
    "for i in dfOrig.index :\n",
    "    df['between'] = 0\n",
    "    df.loc[df['indagg'].isin(dfOrig.loc[i]), 'between'] = 1\n",
    "    nbPb = len(df[df['between']==1])\n",
    "    pbNtimeoutdf = df[df['between']==1]\n",
    "    nbNtimeout =len(pbNtimeoutdf[pbNtimeoutdf['timed_out']==0])\n",
    "    pbMultL.append(df.loc[df['between']==1, ['infile', 'method', 'var', 'dist', 'numagent','timed_out']])\n",
    "    nbPnMultL.append(nbNtimeout)\n",
    "    distDict[nbPb] += 1\n",
    "    distDictNtimeout[nbNtimeout] += 1\n",
    "print nbNtimeout\n",
    "imax = np.argmax(np.array(nbPnMultL))\n",
    "nMax = 10\n",
    "indmax = np.argpartition(nbPnMultL, -nMax)[-nMax:] #pour prendre les indices des 10 plus grands\n",
    "\n",
    "#ici on récupère ces problèmes interessants\n",
    "for i in indmax :\n",
    "    iDf = dfOrig.index[i]\n",
    "    print 'nbPb Mult',nbPnMultL[i]\n",
    "    print dfOrig.loc[iDf,['indagg','infile', 'method', 'var', 'csq', 'dist', 'numagent','total time mn']]\n",
    "    pbNtimeout = pbMultL[i][pbMultL[i]['timed_out'] == 0]\n",
    "    nbNtimeout = len(pbNtimeout)\n",
    "    print 'nbNtimeout', nbNtimeout\n",
    "    print pbNtimeout\n",
    "    #print pbMultL[i]\n",
    "    \n",
    "print np.unique(np.array(nbPnMultL))\n",
    "print sum(distDict.values())\n",
    "print len(df.index)\n",
    "print len(dfOrig.index)\n",
    "\n",
    "\n",
    "plt.bar(distDict.keys(), distDict.values(), 0.8, color='g')\n",
    "plt.title('nb de Pb mono associes au prob multi')\n",
    "plt.xlabel('nb de pb multi')\n",
    "plt.ylabel('nb de pb mono')\n",
    "plt.show()\n",
    "plt.bar(distDictNtimeout.keys(), distDictNtimeout.values(), 0.8, color='g')\n",
    "plt.title('nb de Pb multi sans time out associes aux pb mono')\n",
    "plt.xlabel('nb de pb multi')\n",
    "plt.ylabel('nb de pb mono')\n",
    "plt.show()\n",
    "#return distDict\n",
    "#distDict = filterPb(dfFin, dfMulti_filt, 2.5,5.0 )"
   ]
  },
  {
   "cell_type": "code",
   "execution_count": null,
   "metadata": {
    "collapsed": true
   },
   "outputs": [],
   "source": []
  }
 ],
 "metadata": {
  "kernelspec": {
   "display_name": "Python 2",
   "language": "python",
   "name": "python2"
  },
  "language_info": {
   "codemirror_mode": {
    "name": "ipython",
    "version": 2
   },
   "file_extension": ".py",
   "mimetype": "text/x-python",
   "name": "python",
   "nbconvert_exporter": "python",
   "pygments_lexer": "ipython2",
   "version": "2.7.10"
  }
 },
 "nbformat": 4,
 "nbformat_minor": 0
}
